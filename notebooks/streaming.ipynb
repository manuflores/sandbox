{
 "cells": [
  {
   "cell_type": "markdown",
   "metadata": {},
   "source": [
    "### Streaming with the `yield` statement"
   ]
  },
  {
   "cell_type": "markdown",
   "metadata": {},
   "source": [
    "This tutorial was extracted from the book Elegant Scipy."
   ]
  },
  {
   "cell_type": "markdown",
   "metadata": {},
   "source": [
    "We're so used to the input-output model of computation that **streaming** is even hard to fathom the first time it's introduced. The idea of streaming is to **process some of the input data, return the processed chunk, then, while downstream functions are dealing with that chunk, the function receives a bit more, and so on...**. Hence the name of the stream, instead of loading a full batch of data, you take a *stream* of the data flow and process sequentially, thereby bypassing loading all of the dataset into memory in its multiple transformations. \n",
    "\n",
    "It turns out that python comes with a native function called `yield` that allows us to do the aforementioned streaming operations. `yield` enables a function to process just one \"sip\" of the data, pass the result to the next process and *let the chain of processing complete* for that one opiece of data before moving on to the next one. In this sense the function *yields* control to the next function, waiting to resume processing the data until all of the downstram steps have processed that data point. \n",
    "\n",
    "Here's one way to go about streaming : for every processing function that would normally take a list (or for that matter, any chunk of data) and transform that list, you can rewrite that function as taking a *stream* and *yielding* the result of every element of that stream. "
   ]
  },
  {
   "cell_type": "code",
   "execution_count": 1,
   "metadata": {
    "ExecuteTime": {
     "end_time": "2020-07-08T21:13:32.365803Z",
     "start_time": "2020-07-08T21:13:32.362709Z"
    }
   },
   "outputs": [],
   "source": [
    "%load_ext blackcellmagic\n",
    "import toolz as tz\n",
    "from toolz import curried as c \n",
    "from glob import glob \n",
    "import itertools as it \n",
    "import numpy as np \n",
    "import holoviews as hv\n",
    "from collections import Counter\n",
    "import itertools\n",
    "\n",
    "hv.extension('bokeh')"
   ]
  },
  {
   "cell_type": "code",
   "execution_count": 2,
   "metadata": {
    "ExecuteTime": {
     "end_time": "2020-07-08T21:13:32.374684Z",
     "start_time": "2020-07-08T21:13:32.370746Z"
    }
   },
   "outputs": [],
   "source": [
    "def log_all_standard(input): \n",
    "    output = []\n",
    "    \n",
    "    for elem in input: \n",
    "        output.append(np.log(elem))\n",
    "    return output\n",
    "\n",
    "def log_all_streaming(input_stream): \n",
    "    for elem in input_stream: \n",
    "        yield np.log(elem)"
   ]
  },
  {
   "cell_type": "markdown",
   "metadata": {},
   "source": [
    "Let's check that we get the same result. "
   ]
  },
  {
   "cell_type": "code",
   "execution_count": 3,
   "metadata": {
    "ExecuteTime": {
     "end_time": "2020-07-08T21:13:32.390193Z",
     "start_time": "2020-07-08T21:13:32.380685Z"
    }
   },
   "outputs": [
    {
     "name": "stdout",
     "output_type": "stream",
     "text": [
      "Batch result:  -48.2409194560661\n",
      "Streaming result:  -48.2409194560661\n"
     ]
    }
   ],
   "source": [
    "np.random.seed(seed = 7)\n",
    "\n",
    "arr = np.random.rand(1000) + 0.5\n",
    "\n",
    "result_batch = sum(log_all_standard(arr))\n",
    "print('Batch result: ', result_batch )\n",
    "\n",
    "# This version will perform a running sum \n",
    "result_stream = sum(log_all_streaming(arr))\n",
    "print('Streaming result: ', result_stream)"
   ]
  },
  {
   "cell_type": "code",
   "execution_count": 4,
   "metadata": {
    "ExecuteTime": {
     "end_time": "2020-07-08T21:13:32.401877Z",
     "start_time": "2020-07-08T21:13:32.398855Z"
    }
   },
   "outputs": [],
   "source": [
    "data_path = '../../elegant_scipy/notebooks/data/'"
   ]
  },
  {
   "cell_type": "markdown",
   "metadata": {},
   "source": [
    "The advantage of the streaming approach is that elements of a stream aren't processed until needed, whether it's for computing a running sum, or for writing out to disk, or something else. This can conserve a lot of memory when you have many input items, or when each item is very big, or both ! This quote drives the point home.\n",
    "\n",
    "> In my brief experience people rarely take the streaming route. They use single-threaded in-memory Python until it breaks, and then seek out Big Data infrastructure like Spark at relatively high productivity overhead. \n",
    "\n"
   ]
  },
  {
   "cell_type": "markdown",
   "metadata": {},
   "source": [
    "This is indeed very true. However, in the medium size data regime (too big for your laptop's RAM memory, but still smaller than say than what your disk could handle.) In some cases, it can get you there even faster than the supercomputing approach, by eliminating the overhead of multi-core communication and random access to dbs.[See this post where Frank McSherry](http://www.frankmcsherry.org/graph/scalability/cost/2015/02/04/COST2.html) processes a 128 billion graph on his laptop *faster* than using a graph db on a supercomputer(!)."
   ]
  },
  {
   "cell_type": "markdown",
   "metadata": {},
   "source": [
    "To clarify the flow of control when using streaming-style functions, it's useful to make verbose versions of the functions, which print out a message with each operation. "
   ]
  },
  {
   "cell_type": "code",
   "execution_count": 215,
   "metadata": {
    "ExecuteTime": {
     "end_time": "2020-07-09T01:50:45.803367Z",
     "start_time": "2020-07-09T01:50:45.787810Z"
    }
   },
   "outputs": [],
   "source": [
    "def csv_line_to_array(line): \n",
    "    lst = [float(elem) for elem in line.rstrip().split(',')]\n",
    "    \n",
    "    return np.array(lst)\n",
    "\n",
    "def tsv_line_to_array(line): \n",
    "    lst = [float(elem) for elem in line.rstrip().split('\\t')]\n",
    "    \n",
    "    return np.array(lst)\n",
    "\n",
    "def read_csv(filename): \n",
    "    print('starting read tsv')\n",
    "    with open(filename) as fn: \n",
    "        for ix, line in enumerate(fn): \n",
    "            print(f'reading line {ix}')\n",
    "            \n",
    "            yield csv_line_to_array(line)\n",
    "            print('finished readtsv')\n",
    "            \n",
    "            \n",
    "def read_tsv(filename): \n",
    "    print('starting read tsv')\n",
    "    with open(filename) as fn: \n",
    "        for ix, line in enumerate(fn): \n",
    "            print(f'reading line {ix}')\n",
    "            \n",
    "            yield tsv_line_to_array(line)\n",
    "            print('finished readtsv')\n",
    "            \n",
    "\n",
    "def add1(arrays_iter): \n",
    "    print('starting adding 1')\n",
    "    \n",
    "    for ix, arr in enumerate(arrays_iter): \n",
    "        print(f'adding 1 to line {ix}')\n",
    "        \n",
    "        yield arr + 1\n",
    "\n",
    "    print('finished adding 1')\n",
    "    \n",
    "def log(arrays_iter): \n",
    "    print('starting log')\n",
    "    for ix, arr in enumerate(arrays_iter): \n",
    "        print(f'taking log of array {ix}')\n",
    "\n",
    "        yield np.log(arr)\n",
    "\n",
    "    print('finished log')\n",
    "\n",
    "def running_mean(arrays_iter): \n",
    "    print('starting running mean ')\n",
    "\n",
    "    for ix, arr in enumerate(arrays_iter): \n",
    "        if ix == 0: \n",
    "            mean = arr\n",
    "\n",
    "        mean += (arr - mean) / (ix + 1)\n",
    "\n",
    "        print(f'adding line {ix} to the running mean')\n",
    "\n",
    "    print('returning mean')\n",
    "\n",
    "    return mean "
   ]
  },
  {
   "cell_type": "code",
   "execution_count": 216,
   "metadata": {
    "ExecuteTime": {
     "end_time": "2020-07-09T01:50:46.275753Z",
     "start_time": "2020-07-09T01:50:46.266547Z"
    }
   },
   "outputs": [
    {
     "name": "stdout",
     "output_type": "stream",
     "text": [
      "Creating lines iterator\n",
      "Creating loglines iterator\n",
      "computing mean\n",
      "starting running mean \n",
      "starting log\n",
      "starting adding 1\n",
      "starting read tsv\n",
      "reading line 0\n",
      "adding 1 to line 0\n",
      "taking log of array 0\n",
      "adding line 0 to the running mean\n",
      "finished readtsv\n",
      "reading line 1\n",
      "adding 1 to line 1\n",
      "taking log of array 1\n",
      "adding line 1 to the running mean\n",
      "finished readtsv\n",
      "reading line 2\n",
      "adding 1 to line 2\n",
      "taking log of array 2\n",
      "adding line 2 to the running mean\n",
      "finished readtsv\n",
      "reading line 3\n",
      "adding 1 to line 3\n",
      "taking log of array 3\n",
      "adding line 3 to the running mean\n",
      "finished readtsv\n",
      "reading line 4\n",
      "adding 1 to line 4\n",
      "taking log of array 4\n",
      "adding line 4 to the running mean\n",
      "finished readtsv\n",
      "finished adding 1\n",
      "finished log\n",
      "returning mean\n",
      " the mean log-row is : [3.11797294 2.48682887 2.19580049 2.36001866 2.70124539 2.64721531\n",
      " 2.43704834 3.28539133 2.05363724 2.37151577 3.85450782 3.9488385\n",
      " 2.46680157 2.36334423 3.18381635 2.64438124 2.62966516 2.84790568\n",
      " 2.61691451 4.12513405]\n"
     ]
    }
   ],
   "source": [
    "fn  = data_path + 'expr.tsv'\n",
    "\n",
    "print('Creating lines iterator')\n",
    "lines = read_tsv(fn)\n",
    "\n",
    "print('Creating loglines iterator')\n",
    "loglines = log(add1(lines))\n",
    "\n",
    "print('computing mean')\n",
    "mean = running_mean(loglines)\n",
    "print(f' the mean log-row is : {mean}')"
   ]
  },
  {
   "cell_type": "markdown",
   "metadata": {},
   "source": [
    "* Notice that the file is read line by line. \n",
    "\n",
    "* Note that the computation is run when creating the lines and loglines iterators. This is because the iterators are *lazy*, meaning they are not evaluated (or consumed) until a result is needed. \n",
    "\n",
    "* When the computation is finally triggered, by the call to the `running_mean`it jumps back and forth between all of the functions, as various computations are performed on each line, before moving on to the next line. "
   ]
  },
  {
   "cell_type": "markdown",
   "metadata": {},
   "source": [
    "### Introducing the toolz streaming library. "
   ]
  },
  {
   "cell_type": "markdown",
   "metadata": {},
   "source": [
    "In this chapter's code example, contributed by Matt Rocklin, we create a Markov model from an entire fly genome in under 5 minutes on a laptop with a few lines of code. Matt's example uses a human genome, but apparently our laptos weren't quite so fast, so we're going to use a fly genome instead. Over the course of the chapter we'll actually augment it a little bit to start from compressed data. "
   ]
  },
  {
   "cell_type": "code",
   "execution_count": 9,
   "metadata": {
    "ExecuteTime": {
     "end_time": "2020-07-08T21:13:32.597945Z",
     "start_time": "2020-07-08T21:13:32.593921Z"
    }
   },
   "outputs": [],
   "source": [
    "LDICT = dict(zip(\"ACGTacgt\", range(8)))\n",
    "\n",
    "#  Initialize pairs dictionary using itertools'\n",
    "# cartesian product\n",
    "PDICT = {(a, b): (LDICT[a], LDICT[b]) for a, b in it.product(LDICT, LDICT)}"
   ]
  },
  {
   "cell_type": "code",
   "execution_count": 10,
   "metadata": {
    "ExecuteTime": {
     "end_time": "2020-07-08T21:13:32.608955Z",
     "start_time": "2020-07-08T21:13:32.602300Z"
    }
   },
   "outputs": [],
   "source": [
    "def is_sequence(line): \n",
    "    return not line.startswith('>')\n",
    "\n",
    "def is_nucleotide(letter): \n",
    "    return letter in LDICT # Ignore 'N's\n",
    "\n",
    "@tz.curry\n",
    "def increment_model(model, index): \n",
    "    model[index] += 1\n",
    "    \n",
    "def genome(file_pattern): \n",
    "    \"\"\"\n",
    "    Stream a genome, letter by letter, from a list of FASTA filenames.\n",
    "\n",
    "    Note: \n",
    "    If there is only one dataset, then the first four operations could be changed.\n",
    "    \"\"\" \n",
    "\n",
    "    return tz.pipe(\n",
    "        file_pattern, \n",
    "        glob, \n",
    "        sorted, \n",
    "        c.map(open), \n",
    "        tz.concat,\n",
    "        c.filter(is_sequence), \n",
    "        tz.concat, \n",
    "        c.filter(is_nucleotide)\n",
    "    )\n",
    "\n",
    "\n",
    "def markov(seq): \n",
    "    \"Get a 1st order markov model from a sequence of nucleotides.\"\n",
    "\n",
    "    model = np.zeros((8,8))\n",
    "\n",
    "    tz.last(\n",
    "        tz.pipe(\n",
    "            seq, \n",
    "            c.sliding_window(2), # Get succesive tuple\n",
    "            c.map(PDICT.__getitem__), # Location in matrix of tuple\n",
    "            c.map(increment_model(model)) # Increment matrix )\n",
    "        )\n",
    "    )\n",
    "    \n",
    "    # Convert counts to transition matrix \n",
    "    model /= np.sum(model, axis =1)[: , np.newaxis]\n",
    "\n",
    "    return model "
   ]
  },
  {
   "cell_type": "markdown",
   "metadata": {},
   "source": [
    "With our functions in place, we use `c.take()` on the first 10 million bases, \n",
    "the take step can just be removed if you have 5-10 minutes. \n"
   ]
  },
  {
   "cell_type": "code",
   "execution_count": 11,
   "metadata": {
    "ExecuteTime": {
     "end_time": "2020-07-08T21:13:32.620329Z",
     "start_time": "2020-07-08T21:13:32.613215Z"
    }
   },
   "outputs": [
    {
     "name": "stdout",
     "output_type": "stream",
     "text": [
      "2.24 ms ± 0 ns per loop (mean ± std. dev. of 1 run, 1 loop each)\n"
     ]
    },
    {
     "name": "stderr",
     "output_type": "stream",
     "text": [
      "/Users/manoloflores/anaconda3/lib/python3.7/site-packages/ipykernel_launcher.py:46: RuntimeWarning: invalid value encountered in true_divide\n"
     ]
    }
   ],
   "source": [
    "%%time\n",
    "\n",
    "dm = data_path + 'dm6.fa'\n",
    "model = tz.pipe(dm, genome, c.take(10**7), markov)"
   ]
  },
  {
   "cell_type": "markdown",
   "metadata": {},
   "source": [
    "Notice there are three levels of abstraction for the streaming procedure.  \n",
    "\n",
    "1. Streaming reading the genome. \n",
    "\n",
    "2. Streaming calculating the markov model. \n",
    "\n",
    "3. Bringing it all together in a final pipe : \n",
    "`filename -> genome -> markov = transition matrix`"
   ]
  },
  {
   "cell_type": "code",
   "execution_count": 34,
   "metadata": {
    "ExecuteTime": {
     "end_time": "2020-07-08T23:14:47.518748Z",
     "start_time": "2020-07-08T23:14:47.468047Z"
    }
   },
   "outputs": [
    {
     "data": {
      "application/vnd.holoviews_exec.v0+json": "",
      "text/html": [
       "<div id='1435' style='display: table; margin: 0 auto;'>\n",
       "\n",
       "\n",
       "\n",
       "\n",
       "\n",
       "  <div class=\"bk-root\" id=\"7744f8a6-4e06-4110-823e-76a7990cae74\" data-root-id=\"1435\"></div>\n",
       "</div>\n",
       "<script type=\"application/javascript\">(function(root) {\n",
       "  function embed_document(root) {\n",
       "    \n",
       "  var docs_json = {\"241cd89f-80d1-45cf-bf40-43c4d325d55f\":{\"roots\":{\"references\":[{\"attributes\":{\"align\":null,\"below\":[{\"id\":\"1444\",\"type\":\"LinearAxis\"}],\"center\":[{\"id\":\"1448\",\"type\":\"Grid\"},{\"id\":\"1453\",\"type\":\"Grid\"}],\"left\":[{\"id\":\"1449\",\"type\":\"LinearAxis\"}],\"margin\":null,\"min_border_bottom\":10,\"min_border_left\":10,\"min_border_right\":10,\"min_border_top\":10,\"plot_height\":300,\"plot_width\":300,\"renderers\":[{\"id\":\"1471\",\"type\":\"GlyphRenderer\"}],\"sizing_mode\":\"fixed\",\"title\":{\"id\":\"1436\",\"type\":\"Title\"},\"toolbar\":{\"id\":\"1459\",\"type\":\"Toolbar\"},\"x_range\":{\"id\":\"1433\",\"type\":\"Range1d\"},\"x_scale\":{\"id\":\"1440\",\"type\":\"LinearScale\"},\"y_range\":{\"id\":\"1434\",\"type\":\"Range1d\"},\"y_scale\":{\"id\":\"1442\",\"type\":\"LinearScale\"}},\"id\":\"1435\",\"subtype\":\"Figure\",\"type\":\"Plot\"},{\"attributes\":{},\"id\":\"1474\",\"type\":\"BasicTickFormatter\"},{\"attributes\":{\"data_source\":{\"id\":\"1466\",\"type\":\"ColumnDataSource\"},\"glyph\":{\"id\":\"1469\",\"type\":\"Image\"},\"hover_glyph\":null,\"muted_glyph\":null,\"nonselection_glyph\":{\"id\":\"1470\",\"type\":\"Image\"},\"selection_glyph\":null,\"view\":{\"id\":\"1472\",\"type\":\"CDSView\"}},\"id\":\"1471\",\"type\":\"GlyphRenderer\"},{\"attributes\":{\"color_mapper\":{\"id\":\"1465\",\"type\":\"LinearColorMapper\"},\"dh\":{\"field\":\"dh\",\"units\":\"data\"},\"dw\":{\"field\":\"dw\",\"units\":\"data\"},\"image\":{\"field\":\"image\"},\"x\":{\"field\":\"x\"},\"y\":{\"field\":\"y\"}},\"id\":\"1470\",\"type\":\"Image\"},{\"attributes\":{\"high\":1.0,\"low\":0.0,\"nan_color\":\"rgba(0, 0, 0, 0)\",\"palette\":[\"#000000\",\"#060000\",\"#0d0000\",\"#120000\",\"#160000\",\"#190000\",\"#1c0000\",\"#1f0000\",\"#220000\",\"#240000\",\"#260000\",\"#280000\",\"#2b0000\",\"#2d0000\",\"#2e0000\",\"#300000\",\"#320000\",\"#340000\",\"#350000\",\"#370000\",\"#380000\",\"#3a0000\",\"#3b0000\",\"#3d0000\",\"#3e0000\",\"#400000\",\"#410000\",\"#430000\",\"#440000\",\"#460000\",\"#470000\",\"#490000\",\"#4a0000\",\"#4c0000\",\"#4d0000\",\"#4f0000\",\"#500000\",\"#520000\",\"#530000\",\"#550000\",\"#560000\",\"#580000\",\"#590100\",\"#5b0100\",\"#5d0100\",\"#5e0100\",\"#600100\",\"#610100\",\"#630100\",\"#650100\",\"#660100\",\"#680100\",\"#690100\",\"#6b0100\",\"#6d0100\",\"#6e0100\",\"#700100\",\"#710100\",\"#730100\",\"#750100\",\"#760100\",\"#780200\",\"#7a0200\",\"#7b0200\",\"#7d0200\",\"#7f0200\",\"#800200\",\"#820200\",\"#840200\",\"#850200\",\"#870200\",\"#890200\",\"#8a0200\",\"#8c0300\",\"#8e0300\",\"#900300\",\"#910300\",\"#930300\",\"#950300\",\"#960300\",\"#980300\",\"#9a0300\",\"#9c0300\",\"#9d0400\",\"#9f0400\",\"#a10400\",\"#a20400\",\"#a40400\",\"#a60400\",\"#a80400\",\"#a90400\",\"#ab0500\",\"#ad0500\",\"#af0500\",\"#b00500\",\"#b20500\",\"#b40500\",\"#b60600\",\"#b80600\",\"#b90600\",\"#bb0600\",\"#bd0600\",\"#bf0700\",\"#c00700\",\"#c20700\",\"#c40700\",\"#c60800\",\"#c80800\",\"#c90800\",\"#cb0800\",\"#cd0900\",\"#cf0900\",\"#d10900\",\"#d20a00\",\"#d40a00\",\"#d60a00\",\"#d80b00\",\"#da0b00\",\"#db0c00\",\"#dd0c00\",\"#df0d00\",\"#e10d00\",\"#e30e00\",\"#e40f00\",\"#e60f00\",\"#e81000\",\"#ea1100\",\"#eb1300\",\"#ed1400\",\"#ee1600\",\"#f01800\",\"#f11b00\",\"#f21d00\",\"#f32000\",\"#f52300\",\"#f62600\",\"#f62900\",\"#f72c00\",\"#f82f00\",\"#f93200\",\"#f93500\",\"#fa3800\",\"#fa3b00\",\"#fb3d00\",\"#fb4000\",\"#fb4300\",\"#fc4600\",\"#fc4900\",\"#fc4b00\",\"#fd4e00\",\"#fd5100\",\"#fd5300\",\"#fd5600\",\"#fd5800\",\"#fe5b00\",\"#fe5d00\",\"#fe5f00\",\"#fe6200\",\"#fe6400\",\"#fe6600\",\"#fe6800\",\"#fe6b00\",\"#fe6d00\",\"#fe6f00\",\"#fe7100\",\"#fe7300\",\"#fe7500\",\"#fe7700\",\"#fe7900\",\"#fe7c00\",\"#ff7e00\",\"#ff8000\",\"#ff8200\",\"#ff8300\",\"#ff8500\",\"#ff8700\",\"#ff8900\",\"#ff8b00\",\"#ff8d00\",\"#ff8f00\",\"#ff9100\",\"#ff9300\",\"#ff9400\",\"#ff9600\",\"#ff9800\",\"#ff9a00\",\"#ff9c00\",\"#ff9d00\",\"#ff9f00\",\"#ffa100\",\"#ffa300\",\"#ffa401\",\"#ffa601\",\"#ffa801\",\"#ffaa01\",\"#ffab01\",\"#ffad01\",\"#ffaf01\",\"#ffb001\",\"#ffb202\",\"#ffb402\",\"#ffb502\",\"#ffb702\",\"#ffb902\",\"#ffba02\",\"#ffbc03\",\"#ffbd03\",\"#ffbf03\",\"#ffc103\",\"#ffc204\",\"#ffc404\",\"#ffc604\",\"#ffc704\",\"#ffc905\",\"#ffca05\",\"#ffcc05\",\"#ffce06\",\"#ffcf06\",\"#ffd106\",\"#ffd207\",\"#ffd407\",\"#ffd508\",\"#ffd708\",\"#ffd909\",\"#ffda09\",\"#ffdc0a\",\"#ffdd0a\",\"#ffdf0b\",\"#ffe00b\",\"#ffe20c\",\"#ffe30d\",\"#ffe50e\",\"#ffe60f\",\"#ffe810\",\"#ffea11\",\"#ffeb12\",\"#ffed14\",\"#ffee17\",\"#fff01a\",\"#fff11e\",\"#fff324\",\"#fff42a\",\"#fff532\",\"#fff73b\",\"#fff847\",\"#fff953\",\"#fffb62\",\"#fffb72\",\"#fffc83\",\"#fffd95\",\"#fffea8\",\"#fffeba\",\"#fffecc\",\"#fffede\",\"#fffeee\",\"#ffffff\"]},\"id\":\"1465\",\"type\":\"LinearColorMapper\"},{\"attributes\":{},\"id\":\"1483\",\"type\":\"UnionRenderers\"},{\"attributes\":{},\"id\":\"1458\",\"type\":\"ResetTool\"},{\"attributes\":{\"text\":\"Fly genome transition matrix\",\"text_color\":{\"value\":\"black\"},\"text_font_size\":{\"value\":\"12pt\"}},\"id\":\"1436\",\"type\":\"Title\"},{\"attributes\":{},\"id\":\"1456\",\"type\":\"WheelZoomTool\"},{\"attributes\":{},\"id\":\"1450\",\"type\":\"BasicTicker\"},{\"attributes\":{},\"id\":\"1467\",\"type\":\"Selection\"},{\"attributes\":{},\"id\":\"1454\",\"type\":\"SaveTool\"},{\"attributes\":{\"callback\":null,\"end\":0.5,\"reset_end\":0.5,\"reset_start\":-0.5,\"start\":-0.5,\"tags\":[[[\"y\",\"y\",null]]]},\"id\":\"1434\",\"type\":\"Range1d\"},{\"attributes\":{},\"id\":\"1445\",\"type\":\"BasicTicker\"},{\"attributes\":{\"color_mapper\":{\"id\":\"1465\",\"type\":\"LinearColorMapper\"},\"dh\":{\"field\":\"dh\",\"units\":\"data\"},\"dw\":{\"field\":\"dw\",\"units\":\"data\"},\"image\":{\"field\":\"image\"},\"x\":{\"field\":\"x\"},\"y\":{\"field\":\"y\"}},\"id\":\"1469\",\"type\":\"Image\"},{\"attributes\":{},\"id\":\"1455\",\"type\":\"PanTool\"},{\"attributes\":{\"axis_label\":\"y\",\"bounds\":\"auto\",\"formatter\":{\"id\":\"1476\",\"type\":\"BasicTickFormatter\"},\"major_label_orientation\":\"horizontal\",\"ticker\":{\"id\":\"1450\",\"type\":\"BasicTicker\"},\"visible\":false},\"id\":\"1449\",\"type\":\"LinearAxis\"},{\"attributes\":{\"overlay\":{\"id\":\"1482\",\"type\":\"BoxAnnotation\"}},\"id\":\"1457\",\"type\":\"BoxZoomTool\"},{\"attributes\":{\"source\":{\"id\":\"1466\",\"type\":\"ColumnDataSource\"}},\"id\":\"1472\",\"type\":\"CDSView\"},{\"attributes\":{\"grid_line_color\":null,\"ticker\":{\"id\":\"1445\",\"type\":\"BasicTicker\"}},\"id\":\"1448\",\"type\":\"Grid\"},{\"attributes\":{},\"id\":\"1476\",\"type\":\"BasicTickFormatter\"},{\"attributes\":{\"callback\":null,\"data\":{\"dh\":[1.0],\"dw\":[1.0],\"image\":[{\"__ndarray__\":\"AAAAAAAAAAAAAAAAAAAAAAAAAAAAAAAAAAAAAAAAAAAAAAAAAAAAAAAAAAAAANA/AAAAAAAA4D8AAAAAAADQPwAAAAAAAAAAAAAAAAAAAAAAAAAAAAAAAAAAAAAAAAAAAAAAAAAAAAAAAAAAAAAAAAAAAAAAAAAAAAAAAAAA8D8AAAAAAAAAAAAAAAAAAAAAAAAAAAAAAAAAAAAAAAAAAAAAAAAAAOg/AAAAAAAA0D8AAAAAAAAAAAAAAAAAAAAAAAAAAAAAAAAAAAAAAAAAAAAAAAAAAAAAAAAAAAAAAABVVVVVVVXlP1VVVVVVVdU/AAAAAAAAAAAAAAAAAAAAAAAAAAAAAPj/AAAAAAAA+P8AAAAAAAD4/wAAAAAAAPj/AAAAAAAA+P8AAAAAAAD4/wAAAAAAAPj/AAAAAAAA+P8AAAAAAAD4/wAAAAAAAPj/AAAAAAAA+P8AAAAAAAD4/wAAAAAAAPj/AAAAAAAA+P8AAAAAAAD4/wAAAAAAAPj/AAAAAAAA+P8AAAAAAAD4/wAAAAAAAPj/AAAAAAAA+P8AAAAAAAD4/wAAAAAAAPj/AAAAAAAA+P8AAAAAAAD4/wAAAAAAAPj/AAAAAAAA+P8AAAAAAAD4/wAAAAAAAPj/AAAAAAAA+P8AAAAAAAD4/wAAAAAAAPj/AAAAAAAA+P8=\",\"dtype\":\"float64\",\"shape\":[8,8]}],\"x\":[-0.5],\"y\":[-0.5]},\"selected\":{\"id\":\"1467\",\"type\":\"Selection\"},\"selection_policy\":{\"id\":\"1483\",\"type\":\"UnionRenderers\"}},\"id\":\"1466\",\"type\":\"ColumnDataSource\"},{\"attributes\":{},\"id\":\"1442\",\"type\":\"LinearScale\"},{\"attributes\":{\"axis_label\":\"x\",\"bounds\":\"auto\",\"formatter\":{\"id\":\"1474\",\"type\":\"BasicTickFormatter\"},\"major_label_orientation\":\"horizontal\",\"ticker\":{\"id\":\"1445\",\"type\":\"BasicTicker\"},\"visible\":false},\"id\":\"1444\",\"type\":\"LinearAxis\"},{\"attributes\":{\"callback\":null,\"end\":0.5,\"reset_end\":0.5,\"reset_start\":-0.5,\"start\":-0.5,\"tags\":[[[\"x\",\"x\",null]]]},\"id\":\"1433\",\"type\":\"Range1d\"},{\"attributes\":{\"dimension\":1,\"grid_line_color\":null,\"ticker\":{\"id\":\"1450\",\"type\":\"BasicTicker\"}},\"id\":\"1453\",\"type\":\"Grid\"},{\"attributes\":{\"active_drag\":\"auto\",\"active_inspect\":\"auto\",\"active_multi\":null,\"active_scroll\":\"auto\",\"active_tap\":\"auto\",\"tools\":[{\"id\":\"1454\",\"type\":\"SaveTool\"},{\"id\":\"1455\",\"type\":\"PanTool\"},{\"id\":\"1456\",\"type\":\"WheelZoomTool\"},{\"id\":\"1457\",\"type\":\"BoxZoomTool\"},{\"id\":\"1458\",\"type\":\"ResetTool\"}]},\"id\":\"1459\",\"type\":\"Toolbar\"},{\"attributes\":{\"bottom_units\":\"screen\",\"fill_alpha\":{\"value\":0.5},\"fill_color\":{\"value\":\"lightgrey\"},\"left_units\":\"screen\",\"level\":\"overlay\",\"line_alpha\":{\"value\":1.0},\"line_color\":{\"value\":\"black\"},\"line_dash\":[4,4],\"line_width\":{\"value\":2},\"render_mode\":\"css\",\"right_units\":\"screen\",\"top_units\":\"screen\"},\"id\":\"1482\",\"type\":\"BoxAnnotation\"},{\"attributes\":{},\"id\":\"1440\",\"type\":\"LinearScale\"}],\"root_ids\":[\"1435\"]},\"title\":\"Bokeh Application\",\"version\":\"1.4.0\"}};\n",
       "  var render_items = [{\"docid\":\"241cd89f-80d1-45cf-bf40-43c4d325d55f\",\"roots\":{\"1435\":\"7744f8a6-4e06-4110-823e-76a7990cae74\"}}];\n",
       "  root.Bokeh.embed.embed_items_notebook(docs_json, render_items);\n",
       "\n",
       "  }\n",
       "  if (root.Bokeh !== undefined) {\n",
       "    embed_document(root);\n",
       "  } else {\n",
       "    var attempts = 0;\n",
       "    var timer = setInterval(function(root) {\n",
       "      if (root.Bokeh !== undefined) {\n",
       "        clearInterval(timer);\n",
       "        embed_document(root);\n",
       "      } else {\n",
       "        attempts++;\n",
       "        if (attempts > 100) {\n",
       "          clearInterval(timer);\n",
       "          console.log(\"Bokeh: ERROR: Unable to run BokehJS code because BokehJS library is missing\");\n",
       "        }\n",
       "      }\n",
       "    }, 10, root)\n",
       "  }\n",
       "})(window);</script>"
      ],
      "text/plain": [
       ":Image   [x,y]   (z)"
      ]
     },
     "execution_count": 34,
     "metadata": {
      "application/vnd.holoviews_exec.v0+json": {
       "id": "1435"
      }
     },
     "output_type": "execute_result"
    }
   ],
   "source": [
    "hv.Image(model).opts(xaxis= None, yaxis = None, title = 'Fly genome transition matrix')"
   ]
  },
  {
   "cell_type": "markdown",
   "metadata": {},
   "source": [
    "There is a lot going on in the example so, we're going to unpack it bit by bit. The first thing to note is the many functions from the [`toolz`](https://toolz.readthedocs.io/en/latest/) library. For example, from Toolz we've used `pipe`, `sliding_window`, `frequencies` and a curried version of `map` (more on this later). That is because tools is written specifically to take advantage of Python's iterators and easily manipulate streams. \n",
    "\n",
    "Let's start with pipe. This function is simply synctactic sugar to make nested functions calls easier to read. This is important because that pattern becomes increasinglt common when dealing with iterators. \n",
    "\n",
    "As a simple example, let's rewrite our running mean using `pipe`. \n"
   ]
  },
  {
   "cell_type": "code",
   "execution_count": 17,
   "metadata": {
    "ExecuteTime": {
     "end_time": "2020-07-08T21:13:35.267429Z",
     "start_time": "2020-07-08T21:13:35.263475Z"
    }
   },
   "outputs": [
    {
     "name": "stdout",
     "output_type": "stream",
     "text": [
      "starting running mean \n",
      "starting log\n",
      "starting adding 1\n",
      "starting read tsv\n",
      "reading line 0\n",
      "adding 1 to line 0\n",
      "taking log of array 0\n",
      "adding line 0 to the running mean\n",
      "finished readtsv\n",
      "reading line 1\n",
      "adding 1 to line 1\n",
      "taking log of array 1\n",
      "adding line 1 to the running mean\n",
      "finished readtsv\n",
      "reading line 2\n",
      "adding 1 to line 2\n",
      "taking log of array 2\n",
      "adding line 2 to the running mean\n",
      "finished readtsv\n",
      "reading line 3\n",
      "adding 1 to line 3\n",
      "taking log of array 3\n",
      "adding line 3 to the running mean\n",
      "finished readtsv\n",
      "reading line 4\n",
      "adding 1 to line 4\n",
      "taking log of array 4\n",
      "adding line 4 to the running mean\n",
      "finished readtsv\n",
      "finished adding 1\n",
      "finished log\n",
      "returning mean\n"
     ]
    }
   ],
   "source": [
    "filename = data_path + 'expr.tsv'\n",
    "\n",
    "mean = tz.pipe(\n",
    "    filename, \n",
    "    read_tsv,\n",
    "    add1, \n",
    "    log, \n",
    "    running_mean\n",
    ")\n",
    "\n",
    "# This is equivalent to nesting functions like : \n",
    "# running_mean(log(add1(readtsv(filename))))"
   ]
  },
  {
   "cell_type": "code",
   "execution_count": 18,
   "metadata": {
    "ExecuteTime": {
     "end_time": "2020-07-08T21:13:35.273763Z",
     "start_time": "2020-07-08T21:13:35.270436Z"
    }
   },
   "outputs": [
    {
     "data": {
      "text/plain": [
       "array([3.11797294, 2.48682887, 2.19580049, 2.36001866, 2.70124539,\n",
       "       2.64721531, 2.43704834, 3.28539133, 2.05363724, 2.37151577,\n",
       "       3.85450782, 3.9488385 , 2.46680157, 2.36334423, 3.18381635,\n",
       "       2.64438124, 2.62966516, 2.84790568, 2.61691451, 4.12513405])"
      ]
     },
     "execution_count": 18,
     "metadata": {},
     "output_type": "execute_result"
    }
   ],
   "source": [
    "mean"
   ]
  },
  {
   "cell_type": "markdown",
   "metadata": {},
   "source": [
    "What was originally mutiple lines, or an unwieldy mess of parentheses, \n",
    "is now a clean description of the sequential transforms of the input data. \n",
    "Much easier to understand ! "
   ]
  },
  {
   "cell_type": "markdown",
   "metadata": {},
   "source": [
    "This strategy also has an advantage over the original NumPy implementation: if we scale our data to millions or billions of rows, our computer might struggle to hold all the data in memory. In contrast, here we are only loading lines from disk one at a time, and mantaining only a single line's worth of data. "
   ]
  },
  {
   "cell_type": "markdown",
   "metadata": {},
   "source": [
    "### k-mer counting and error correction"
   ]
  },
  {
   "cell_type": "markdown",
   "metadata": {},
   "source": [
    "Let's continue our conversation by building functions for extracting and counting kmers. Let's see how these functions would be written using pure python. "
   ]
  },
  {
   "cell_type": "code",
   "execution_count": 24,
   "metadata": {
    "ExecuteTime": {
     "end_time": "2020-07-08T21:13:58.021222Z",
     "start_time": "2020-07-08T21:13:58.014745Z"
    }
   },
   "outputs": [
    {
     "data": {
      "text/plain": [
       "Counter({'dog': 2, 'cat': 1, 'petit': 2})"
      ]
     },
     "execution_count": 24,
     "metadata": {},
     "output_type": "execute_result"
    }
   ],
   "source": [
    "Counter(['dog', 'dog', 'cat', 'petit', 'petit'])"
   ]
  },
  {
   "cell_type": "code",
   "execution_count": 35,
   "metadata": {
    "ExecuteTime": {
     "end_time": "2020-07-08T23:16:32.482256Z",
     "start_time": "2020-07-08T23:16:32.473320Z"
    }
   },
   "outputs": [],
   "source": [
    "def is_sequence(line): \n",
    "    \"\"\"\n",
    "    Helper function to work with FASTA files. \n",
    "    Returns True if the line in a FASTA file is a sequence\n",
    "    and not a header or empty line. \n",
    "    \"\"\"\n",
    "    line = line.rstrip() # Remove '\\n' at the end of line. \n",
    "    return len(line) > 0 and not line.startswith('>')\n",
    "\n",
    "def reads_to_kmers(reads_iter, k = 7): \n",
    "    \"\"\"\n",
    "    Builds a generator for kmers given an iterable of sequences. \n",
    "    \"\"\"\n",
    "    \n",
    "    for read in reads_iter: \n",
    "        for start in range(0, len(read)- k): \n",
    "            yield read[start: start + k ] \n",
    "\n",
    "def kmer_counter(kmer_iter): \n",
    "    counts = Counter(kmer_iter)\n",
    "    return counts\n",
    "\n",
    "def kmer_counter_native_py(kmer_iter): \n",
    "    counts = {}\n",
    "    for kmer in kmer_iter: \n",
    "        if kmer not in counts: \n",
    "            counts[kmer] = 0\n",
    "        else: \n",
    "            counts[kmer]+= 1\n",
    "            \n",
    "    return counts"
   ]
  },
  {
   "cell_type": "code",
   "execution_count": 36,
   "metadata": {
    "ExecuteTime": {
     "end_time": "2020-07-08T23:16:32.860490Z",
     "start_time": "2020-07-08T23:16:32.666350Z"
    }
   },
   "outputs": [
    {
     "name": "stdout",
     "output_type": "stream",
     "text": [
      "CPU times: user 185 ms, sys: 3.49 ms, total: 188 ms\n",
      "Wall time: 191 ms\n"
     ]
    }
   ],
   "source": [
    "%%time\n",
    "with open(data_path + 'sample.fasta') as fn :\n",
    "    reads = filter(is_sequence, fn)\n",
    "    kmers = reads_to_kmers(reads)\n",
    "    counts = kmer_counter(kmers)"
   ]
  },
  {
   "cell_type": "code",
   "execution_count": 37,
   "metadata": {
    "ExecuteTime": {
     "end_time": "2020-07-08T23:16:33.191589Z",
     "start_time": "2020-07-08T23:16:32.935761Z"
    }
   },
   "outputs": [
    {
     "name": "stdout",
     "output_type": "stream",
     "text": [
      "CPU times: user 250 ms, sys: 4.33 ms, total: 254 ms\n",
      "Wall time: 252 ms\n"
     ]
    }
   ],
   "source": [
    "%%time\n",
    "with open(data_path + 'sample.fasta') as fn :\n",
    "    reads = filter(is_sequence, fn)\n",
    "    kmers = reads_to_kmers(reads)\n",
    "    counts = kmer_counter_native_py(kmers)"
   ]
  },
  {
   "cell_type": "markdown",
   "metadata": {},
   "source": [
    "We can see that the `Counter` function actually speeds up the procedure a bit so let's\n",
    "stick with that. \n",
    "\n",
    "This shows that our for kmer counting work and is streaming. So reads are loaded from disk\n",
    "one at a time and piped through the k-er converter and into the counter. \n",
    "We can now plot a histogram of the counts, and confirm that there \n",
    "are two well-separated populations of correct and erroneous k-mers: \n"
   ]
  },
  {
   "cell_type": "code",
   "execution_count": 77,
   "metadata": {
    "ExecuteTime": {
     "end_time": "2020-07-08T23:27:39.503163Z",
     "start_time": "2020-07-08T23:27:39.497113Z"
    }
   },
   "outputs": [],
   "source": [
    "def integer_histogram(counts, normed = True, \n",
    "                     xlim = [], ylim = [], *args, **kwargs): \n",
    "    \n",
    "    hist = np.bincount(counts)\n",
    "    \n",
    "    if normed : \n",
    "        hist = hist / np.sum(hist)\n",
    "        \n",
    "    histogram = hv.Curve((np.arange(hist.size), hist)).opts(\n",
    "        padding = 0.1, \n",
    "        xlabel = 'counts', \n",
    "        ylabel = 'frequency', \n",
    "        #logx = True, \n",
    "        #logy = True\n",
    "    )\n",
    "    \n",
    "    return histogram"
   ]
  },
  {
   "cell_type": "code",
   "execution_count": 42,
   "metadata": {
    "ExecuteTime": {
     "end_time": "2020-07-08T23:16:59.093746Z",
     "start_time": "2020-07-08T23:16:59.088722Z"
    }
   },
   "outputs": [],
   "source": [
    "counts_arr = np.fromiter(counts.values(), dtype=int, count=len(counts))"
   ]
  },
  {
   "cell_type": "code",
   "execution_count": 43,
   "metadata": {
    "ExecuteTime": {
     "end_time": "2020-07-08T23:16:59.331016Z",
     "start_time": "2020-07-08T23:16:59.277676Z"
    }
   },
   "outputs": [
    {
     "name": "stderr",
     "output_type": "stream",
     "text": [
      "WARNING:param.CurvePlot01824: Logarithmic axis range encountered value less than or equal to zero, please supply explicit lower-bound to override default of 2.728.\n",
      "WARNING:param.CurvePlot01824: Logarithmic axis range encountered value less than or equal to zero, please supply explicit lower-bound to override default of 0.000.\n"
     ]
    },
    {
     "data": {
      "application/vnd.holoviews_exec.v0+json": "",
      "text/html": [
       "<div id='1651' style='display: table; margin: 0 auto;'>\n",
       "\n",
       "\n",
       "\n",
       "\n",
       "\n",
       "  <div class=\"bk-root\" id=\"90c6196d-aeb6-4c2d-9099-5db1853c565c\" data-root-id=\"1651\"></div>\n",
       "</div>\n",
       "<script type=\"application/javascript\">(function(root) {\n",
       "  function embed_document(root) {\n",
       "    \n",
       "  var docs_json = {\"006eddad-6e1c-4c2b-91f8-14cdb460f83e\":{\"roots\":{\"references\":[{\"attributes\":{\"align\":null,\"below\":[{\"id\":\"1660\",\"type\":\"LogAxis\"}],\"center\":[{\"id\":\"1664\",\"type\":\"Grid\"},{\"id\":\"1669\",\"type\":\"Grid\"}],\"left\":[{\"id\":\"1665\",\"type\":\"LogAxis\"}],\"margin\":null,\"min_border_bottom\":10,\"min_border_left\":10,\"min_border_right\":10,\"min_border_top\":10,\"plot_height\":300,\"plot_width\":300,\"renderers\":[{\"id\":\"1687\",\"type\":\"GlyphRenderer\"}],\"sizing_mode\":\"fixed\",\"title\":{\"id\":\"1652\",\"type\":\"Title\"},\"toolbar\":{\"id\":\"1675\",\"type\":\"Toolbar\"},\"x_range\":{\"id\":\"1649\",\"type\":\"Range1d\"},\"x_scale\":{\"id\":\"1656\",\"type\":\"LogScale\"},\"y_range\":{\"id\":\"1650\",\"type\":\"Range1d\"},\"y_scale\":{\"id\":\"1658\",\"type\":\"LogScale\"}},\"id\":\"1651\",\"subtype\":\"Figure\",\"type\":\"Plot\"},{\"attributes\":{\"num_minor_ticks\":10},\"id\":\"1661\",\"type\":\"LogTicker\"},{\"attributes\":{\"callback\":null,\"data\":{\"x\":[0,1,2,3,4,5,6,7,8,9,10,11,12,13,14,15,16,17,18,19,20,21,22,23,24,25,26,27,28,29,30,31,32,33,34,35,36,37,38,39,40,41,42,43,44,45,46,47,48,49,50,51,52,53,54,55,56,57,58,59,60,61,62,63,64,65,66,67,68,69,70,71,72,73,74,75,76,77,78,79,80,81,82,83,84,85,86,87,88,89,90,91,92,93,94,95,96,97,98,99,100,101,102,103,104,105,106,107,108,109,110,111,112,113,114,115,116,117,118,119,120,121,122,123,124,125,126,127,128,129,130,131,132,133,134,135,136,137,138,139,140,141,142,143,144,145,146,147,148,149,150,151,152,153,154,155,156,157,158,159,160,161,162,163,164,165,166,167,168,169,170,171,172,173,174,175,176,177,178,179,180,181,182,183,184,185,186,187,188,189,190,191,192,193,194,195,196,197,198,199,200,201,202,203,204,205,206,207,208,209,210,211,212,213,214,215,216,217,218,219,220,221,222,223,224,225,226,227,228,229,230,231,232,233,234,235,236,237,238,239,240,241,242,243,244,245,246,247,248],\"y\":{\"__ndarray__\":\"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\",\"dtype\":\"float64\",\"shape\":[249]}},\"selected\":{\"id\":\"1682\",\"type\":\"Selection\"},\"selection_policy\":{\"id\":\"1699\",\"type\":\"UnionRenderers\"}},\"id\":\"1681\",\"type\":\"ColumnDataSource\"},{\"attributes\":{\"bottom_units\":\"screen\",\"fill_alpha\":{\"value\":0.5},\"fill_color\":{\"value\":\"lightgrey\"},\"left_units\":\"screen\",\"level\":\"overlay\",\"line_alpha\":{\"value\":1.0},\"line_color\":{\"value\":\"black\"},\"line_dash\":[4,4],\"line_width\":{\"value\":2},\"render_mode\":\"css\",\"right_units\":\"screen\",\"top_units\":\"screen\"},\"id\":\"1698\",\"type\":\"BoxAnnotation\"},{\"attributes\":{\"callback\":null,\"end\":0.022446252884732176,\"reset_end\":0.022446252884732176,\"reset_start\":0.0002244625288473218,\"start\":0.0002244625288473218,\"tags\":[[[\"y\",\"y\",null]]]},\"id\":\"1650\",\"type\":\"Range1d\"},{\"attributes\":{\"line_alpha\":0.1,\"line_color\":\"#30a2da\",\"line_width\":2,\"x\":{\"field\":\"x\"},\"y\":{\"field\":\"y\"}},\"id\":\"1685\",\"type\":\"Line\"},{\"attributes\":{\"axis_label\":\"frequency\",\"bounds\":\"auto\",\"formatter\":{\"id\":\"1692\",\"type\":\"LogTickFormatter\"},\"major_label_orientation\":\"horizontal\",\"ticker\":{\"id\":\"1666\",\"type\":\"LogTicker\"}},\"id\":\"1665\",\"type\":\"LogAxis\"},{\"attributes\":{\"line_alpha\":0.2,\"line_color\":\"#30a2da\",\"line_width\":2,\"x\":{\"field\":\"x\"},\"y\":{\"field\":\"y\"}},\"id\":\"1686\",\"type\":\"Line\"},{\"attributes\":{},\"id\":\"1682\",\"type\":\"Selection\"},{\"attributes\":{\"callback\":null,\"end\":272.8,\"reset_end\":272.8,\"reset_start\":2.728,\"start\":2.728,\"tags\":[[[\"x\",\"x\",null]]]},\"id\":\"1649\",\"type\":\"Range1d\"},{\"attributes\":{\"grid_line_color\":null,\"ticker\":{\"id\":\"1661\",\"type\":\"LogTicker\"}},\"id\":\"1664\",\"type\":\"Grid\"},{\"attributes\":{\"text\":\"\",\"text_color\":{\"value\":\"black\"},\"text_font_size\":{\"value\":\"12pt\"}},\"id\":\"1652\",\"type\":\"Title\"},{\"attributes\":{\"overlay\":{\"id\":\"1698\",\"type\":\"BoxAnnotation\"}},\"id\":\"1673\",\"type\":\"BoxZoomTool\"},{\"attributes\":{\"ticker\":null},\"id\":\"1690\",\"type\":\"LogTickFormatter\"},{\"attributes\":{\"source\":{\"id\":\"1681\",\"type\":\"ColumnDataSource\"}},\"id\":\"1688\",\"type\":\"CDSView\"},{\"attributes\":{\"dimension\":1,\"grid_line_color\":null,\"ticker\":{\"id\":\"1666\",\"type\":\"LogTicker\"}},\"id\":\"1669\",\"type\":\"Grid\"},{\"attributes\":{},\"id\":\"1658\",\"type\":\"LogScale\"},{\"attributes\":{},\"id\":\"1674\",\"type\":\"ResetTool\"},{\"attributes\":{\"axis_label\":\"counts\",\"bounds\":\"auto\",\"formatter\":{\"id\":\"1690\",\"type\":\"LogTickFormatter\"},\"major_label_orientation\":\"horizontal\",\"ticker\":{\"id\":\"1661\",\"type\":\"LogTicker\"}},\"id\":\"1660\",\"type\":\"LogAxis\"},{\"attributes\":{},\"id\":\"1672\",\"type\":\"WheelZoomTool\"},{\"attributes\":{},\"id\":\"1656\",\"type\":\"LogScale\"},{\"attributes\":{\"ticker\":null},\"id\":\"1692\",\"type\":\"LogTickFormatter\"},{\"attributes\":{\"num_minor_ticks\":10},\"id\":\"1666\",\"type\":\"LogTicker\"},{\"attributes\":{\"data_source\":{\"id\":\"1681\",\"type\":\"ColumnDataSource\"},\"glyph\":{\"id\":\"1684\",\"type\":\"Line\"},\"hover_glyph\":null,\"muted_glyph\":{\"id\":\"1686\",\"type\":\"Line\"},\"nonselection_glyph\":{\"id\":\"1685\",\"type\":\"Line\"},\"selection_glyph\":null,\"view\":{\"id\":\"1688\",\"type\":\"CDSView\"}},\"id\":\"1687\",\"type\":\"GlyphRenderer\"},{\"attributes\":{\"active_drag\":\"auto\",\"active_inspect\":\"auto\",\"active_multi\":null,\"active_scroll\":\"auto\",\"active_tap\":\"auto\",\"tools\":[{\"id\":\"1670\",\"type\":\"SaveTool\"},{\"id\":\"1671\",\"type\":\"PanTool\"},{\"id\":\"1672\",\"type\":\"WheelZoomTool\"},{\"id\":\"1673\",\"type\":\"BoxZoomTool\"},{\"id\":\"1674\",\"type\":\"ResetTool\"}]},\"id\":\"1675\",\"type\":\"Toolbar\"},{\"attributes\":{\"line_color\":\"#30a2da\",\"line_width\":2,\"x\":{\"field\":\"x\"},\"y\":{\"field\":\"y\"}},\"id\":\"1684\",\"type\":\"Line\"},{\"attributes\":{},\"id\":\"1699\",\"type\":\"UnionRenderers\"},{\"attributes\":{},\"id\":\"1670\",\"type\":\"SaveTool\"},{\"attributes\":{},\"id\":\"1671\",\"type\":\"PanTool\"}],\"root_ids\":[\"1651\"]},\"title\":\"Bokeh Application\",\"version\":\"1.4.0\"}};\n",
       "  var render_items = [{\"docid\":\"006eddad-6e1c-4c2b-91f8-14cdb460f83e\",\"roots\":{\"1651\":\"90c6196d-aeb6-4c2d-9099-5db1853c565c\"}}];\n",
       "  root.Bokeh.embed.embed_items_notebook(docs_json, render_items);\n",
       "\n",
       "  }\n",
       "  if (root.Bokeh !== undefined) {\n",
       "    embed_document(root);\n",
       "  } else {\n",
       "    var attempts = 0;\n",
       "    var timer = setInterval(function(root) {\n",
       "      if (root.Bokeh !== undefined) {\n",
       "        clearInterval(timer);\n",
       "        embed_document(root);\n",
       "      } else {\n",
       "        attempts++;\n",
       "        if (attempts > 100) {\n",
       "          clearInterval(timer);\n",
       "          console.log(\"Bokeh: ERROR: Unable to run BokehJS code because BokehJS library is missing\");\n",
       "        }\n",
       "      }\n",
       "    }, 10, root)\n",
       "  }\n",
       "})(window);</script>"
      ],
      "text/plain": [
       ":Curve   [x]   (y)"
      ]
     },
     "execution_count": 43,
     "metadata": {
      "application/vnd.holoviews_exec.v0+json": {
       "id": "1651"
      }
     },
     "output_type": "execute_result"
    }
   ],
   "source": [
    "integer_histogram(counts_arr)"
   ]
  },
  {
   "cell_type": "markdown",
   "metadata": {},
   "source": [
    "Notice the nice distribution of k-mer frequencies, along with a big bump of kmers at the left of the plot that appear only once. Such low frequency k-mers are likely to be errors. \n",
    "\n",
    "Let's quickly filter the kmers that have less than two counts. "
   ]
  },
  {
   "cell_type": "code",
   "execution_count": null,
   "metadata": {
    "ExecuteTime": {
     "end_time": "2020-07-08T23:26:41.327640Z",
     "start_time": "2020-07-08T23:26:41.321229Z"
    }
   },
   "outputs": [],
   "source": [
    "filtered_counts = dict()\n",
    "\n",
    "for val in counts.keys(): \n",
    "    if counts[val] > 2: \n",
    "        filtered_counts[val] = int(counts[val])\n",
    "    else: \n",
    "        pass"
   ]
  },
  {
   "cell_type": "markdown",
   "metadata": {},
   "source": [
    "Let's see how many counts we're left with. "
   ]
  },
  {
   "cell_type": "code",
   "execution_count": 79,
   "metadata": {
    "ExecuteTime": {
     "end_time": "2020-07-08T23:33:48.358048Z",
     "start_time": "2020-07-08T23:33:48.352661Z"
    }
   },
   "outputs": [
    {
     "data": {
      "text/plain": [
       "16385"
      ]
     },
     "execution_count": 79,
     "metadata": {},
     "output_type": "execute_result"
    }
   ],
   "source": [
    "len(filtered_counts)"
   ]
  },
  {
   "cell_type": "code",
   "execution_count": 80,
   "metadata": {
    "ExecuteTime": {
     "end_time": "2020-07-08T23:33:53.442799Z",
     "start_time": "2020-07-08T23:33:53.437347Z"
    }
   },
   "outputs": [
    {
     "data": {
      "text/plain": [
       "16466"
      ]
     },
     "execution_count": 80,
     "metadata": {},
     "output_type": "execute_result"
    }
   ],
   "source": [
    "# And the original ones. \n",
    "len(counts)"
   ]
  },
  {
   "cell_type": "markdown",
   "metadata": {},
   "source": [
    "We can see that quite astoundingly (or not), after filtering, we get close to $4^7$ = 16,348 possible sequences. This confirms that in fact the kmers that had 2 counts or less were probably coming from unknown nucleotides, most likely sequencing errors. Let's plot the filtered distribution. "
   ]
  },
  {
   "cell_type": "code",
   "execution_count": 82,
   "metadata": {
    "ExecuteTime": {
     "end_time": "2020-07-08T23:38:15.665988Z",
     "start_time": "2020-07-08T23:38:15.617257Z"
    }
   },
   "outputs": [
    {
     "data": {
      "application/vnd.holoviews_exec.v0+json": "",
      "text/html": [
       "<div id='2083' style='display: table; margin: 0 auto;'>\n",
       "\n",
       "\n",
       "\n",
       "\n",
       "\n",
       "  <div class=\"bk-root\" id=\"f5c4bfb0-98ac-4e59-8726-b688740b1570\" data-root-id=\"2083\"></div>\n",
       "</div>\n",
       "<script type=\"application/javascript\">(function(root) {\n",
       "  function embed_document(root) {\n",
       "    \n",
       "  var docs_json = {\"84f799f8-dcf8-4fb6-87f0-4b579feb73df\":{\"roots\":{\"references\":[{\"attributes\":{\"align\":null,\"below\":[{\"id\":\"2092\",\"type\":\"LinearAxis\"}],\"center\":[{\"id\":\"2096\",\"type\":\"Grid\"},{\"id\":\"2101\",\"type\":\"Grid\"}],\"left\":[{\"id\":\"2097\",\"type\":\"LinearAxis\"}],\"margin\":null,\"min_border_bottom\":10,\"min_border_left\":10,\"min_border_right\":10,\"min_border_top\":10,\"plot_height\":300,\"plot_width\":300,\"renderers\":[{\"id\":\"2119\",\"type\":\"GlyphRenderer\"}],\"sizing_mode\":\"fixed\",\"title\":{\"id\":\"2084\",\"type\":\"Title\"},\"toolbar\":{\"id\":\"2107\",\"type\":\"Toolbar\"},\"x_range\":{\"id\":\"2081\",\"type\":\"Range1d\"},\"x_scale\":{\"id\":\"2088\",\"type\":\"LinearScale\"},\"y_range\":{\"id\":\"2082\",\"type\":\"Range1d\"},\"y_scale\":{\"id\":\"2090\",\"type\":\"LinearScale\"}},\"id\":\"2083\",\"subtype\":\"Figure\",\"type\":\"Plot\"},{\"attributes\":{},\"id\":\"2104\",\"type\":\"WheelZoomTool\"},{\"attributes\":{\"grid_line_color\":null,\"ticker\":{\"id\":\"2093\",\"type\":\"BasicTicker\"}},\"id\":\"2096\",\"type\":\"Grid\"},{\"attributes\":{},\"id\":\"2093\",\"type\":\"BasicTicker\"},{\"attributes\":{\"callback\":null,\"end\":272.8,\"reset_end\":272.8,\"reset_start\":-24.8,\"start\":-24.8,\"tags\":[[[\"x\",\"x\",null]]]},\"id\":\"2081\",\"type\":\"Range1d\"},{\"attributes\":{\"text\":\"\",\"text_color\":{\"value\":\"black\"},\"text_font_size\":{\"value\":\"12pt\"}},\"id\":\"2084\",\"type\":\"Title\"},{\"attributes\":{\"callback\":null,\"data\":{\"x\":[0,1,2,3,4,5,6,7,8,9,10,11,12,13,14,15,16,17,18,19,20,21,22,23,24,25,26,27,28,29,30,31,32,33,34,35,36,37,38,39,40,41,42,43,44,45,46,47,48,49,50,51,52,53,54,55,56,57,58,59,60,61,62,63,64,65,66,67,68,69,70,71,72,73,74,75,76,77,78,79,80,81,82,83,84,85,86,87,88,89,90,91,92,93,94,95,96,97,98,99,100,101,102,103,104,105,106,107,108,109,110,111,112,113,114,115,116,117,118,119,120,121,122,123,124,125,126,127,128,129,130,131,132,133,134,135,136,137,138,139,140,141,142,143,144,145,146,147,148,149,150,151,152,153,154,155,156,157,158,159,160,161,162,163,164,165,166,167,168,169,170,171,172,173,174,175,176,177,178,179,180,181,182,183,184,185,186,187,188,189,190,191,192,193,194,195,196,197,198,199,200,201,202,203,204,205,206,207,208,209,210,211,212,213,214,215,216,217,218,219,220,221,222,223,224,225,226,227,228,229,230,231,232,233,234,235,236,237,238,239,240,241,242,243,244,245,246,247,248],\"y\":{\"__ndarray__\":\"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\",\"dtype\":\"float64\",\"shape\":[249]}},\"selected\":{\"id\":\"2114\",\"type\":\"Selection\"},\"selection_policy\":{\"id\":\"2131\",\"type\":\"UnionRenderers\"}},\"id\":\"2113\",\"type\":\"ColumnDataSource\"},{\"attributes\":{\"axis_label\":\"frequency\",\"bounds\":\"auto\",\"formatter\":{\"id\":\"2124\",\"type\":\"BasicTickFormatter\"},\"major_label_orientation\":\"horizontal\",\"ticker\":{\"id\":\"2098\",\"type\":\"BasicTicker\"}},\"id\":\"2097\",\"type\":\"LinearAxis\"},{\"attributes\":{},\"id\":\"2131\",\"type\":\"UnionRenderers\"},{\"attributes\":{},\"id\":\"2098\",\"type\":\"BasicTicker\"},{\"attributes\":{\"line_color\":\"#30a2da\",\"line_width\":2,\"x\":{\"field\":\"x\"},\"y\":{\"field\":\"y\"}},\"id\":\"2116\",\"type\":\"Line\"},{\"attributes\":{\"axis_label\":\"counts\",\"bounds\":\"auto\",\"formatter\":{\"id\":\"2122\",\"type\":\"BasicTickFormatter\"},\"major_label_orientation\":\"horizontal\",\"ticker\":{\"id\":\"2093\",\"type\":\"BasicTicker\"}},\"id\":\"2092\",\"type\":\"LinearAxis\"},{\"attributes\":{\"overlay\":{\"id\":\"2130\",\"type\":\"BoxAnnotation\"}},\"id\":\"2105\",\"type\":\"BoxZoomTool\"},{\"attributes\":{},\"id\":\"2090\",\"type\":\"LinearScale\"},{\"attributes\":{\"callback\":null,\"end\":0.02255721696673787,\"reset_end\":0.02255721696673787,\"reset_start\":-0.002050656087885261,\"start\":-0.002050656087885261,\"tags\":[[[\"y\",\"y\",null]]]},\"id\":\"2082\",\"type\":\"Range1d\"},{\"attributes\":{\"dimension\":1,\"grid_line_color\":null,\"ticker\":{\"id\":\"2098\",\"type\":\"BasicTicker\"}},\"id\":\"2101\",\"type\":\"Grid\"},{\"attributes\":{\"line_alpha\":0.1,\"line_color\":\"#30a2da\",\"line_width\":2,\"x\":{\"field\":\"x\"},\"y\":{\"field\":\"y\"}},\"id\":\"2117\",\"type\":\"Line\"},{\"attributes\":{\"bottom_units\":\"screen\",\"fill_alpha\":{\"value\":0.5},\"fill_color\":{\"value\":\"lightgrey\"},\"left_units\":\"screen\",\"level\":\"overlay\",\"line_alpha\":{\"value\":1.0},\"line_color\":{\"value\":\"black\"},\"line_dash\":[4,4],\"line_width\":{\"value\":2},\"render_mode\":\"css\",\"right_units\":\"screen\",\"top_units\":\"screen\"},\"id\":\"2130\",\"type\":\"BoxAnnotation\"},{\"attributes\":{\"line_alpha\":0.2,\"line_color\":\"#30a2da\",\"line_width\":2,\"x\":{\"field\":\"x\"},\"y\":{\"field\":\"y\"}},\"id\":\"2118\",\"type\":\"Line\"},{\"attributes\":{},\"id\":\"2102\",\"type\":\"SaveTool\"},{\"attributes\":{},\"id\":\"2124\",\"type\":\"BasicTickFormatter\"},{\"attributes\":{\"data_source\":{\"id\":\"2113\",\"type\":\"ColumnDataSource\"},\"glyph\":{\"id\":\"2116\",\"type\":\"Line\"},\"hover_glyph\":null,\"muted_glyph\":{\"id\":\"2118\",\"type\":\"Line\"},\"nonselection_glyph\":{\"id\":\"2117\",\"type\":\"Line\"},\"selection_glyph\":null,\"view\":{\"id\":\"2120\",\"type\":\"CDSView\"}},\"id\":\"2119\",\"type\":\"GlyphRenderer\"},{\"attributes\":{\"active_drag\":\"auto\",\"active_inspect\":\"auto\",\"active_multi\":null,\"active_scroll\":\"auto\",\"active_tap\":\"auto\",\"tools\":[{\"id\":\"2102\",\"type\":\"SaveTool\"},{\"id\":\"2103\",\"type\":\"PanTool\"},{\"id\":\"2104\",\"type\":\"WheelZoomTool\"},{\"id\":\"2105\",\"type\":\"BoxZoomTool\"},{\"id\":\"2106\",\"type\":\"ResetTool\"}]},\"id\":\"2107\",\"type\":\"Toolbar\"},{\"attributes\":{},\"id\":\"2122\",\"type\":\"BasicTickFormatter\"},{\"attributes\":{},\"id\":\"2106\",\"type\":\"ResetTool\"},{\"attributes\":{},\"id\":\"2088\",\"type\":\"LinearScale\"},{\"attributes\":{\"source\":{\"id\":\"2113\",\"type\":\"ColumnDataSource\"}},\"id\":\"2120\",\"type\":\"CDSView\"},{\"attributes\":{},\"id\":\"2114\",\"type\":\"Selection\"},{\"attributes\":{},\"id\":\"2103\",\"type\":\"PanTool\"}],\"root_ids\":[\"2083\"]},\"title\":\"Bokeh Application\",\"version\":\"1.4.0\"}};\n",
       "  var render_items = [{\"docid\":\"84f799f8-dcf8-4fb6-87f0-4b579feb73df\",\"roots\":{\"2083\":\"f5c4bfb0-98ac-4e59-8726-b688740b1570\"}}];\n",
       "  root.Bokeh.embed.embed_items_notebook(docs_json, render_items);\n",
       "\n",
       "  }\n",
       "  if (root.Bokeh !== undefined) {\n",
       "    embed_document(root);\n",
       "  } else {\n",
       "    var attempts = 0;\n",
       "    var timer = setInterval(function(root) {\n",
       "      if (root.Bokeh !== undefined) {\n",
       "        clearInterval(timer);\n",
       "        embed_document(root);\n",
       "      } else {\n",
       "        attempts++;\n",
       "        if (attempts > 100) {\n",
       "          clearInterval(timer);\n",
       "          console.log(\"Bokeh: ERROR: Unable to run BokehJS code because BokehJS library is missing\");\n",
       "        }\n",
       "      }\n",
       "    }, 10, root)\n",
       "  }\n",
       "})(window);</script>"
      ],
      "text/plain": [
       ":Curve   [x]   (y)"
      ]
     },
     "execution_count": 82,
     "metadata": {
      "application/vnd.holoviews_exec.v0+json": {
       "id": "2083"
      }
     },
     "output_type": "execute_result"
    }
   ],
   "source": [
    "counts_arr_afilt = np.fromiter(filtered_counts.values(), dtype=int)\n",
    "\n",
    "integer_histogram(counts_arr_afilt)"
   ]
  },
  {
   "cell_type": "markdown",
   "metadata": {},
   "source": [
    "But with that code above, we're actually doing a bit too much work. A lot of the functionality we wrote in for loops and yields is actually stream manipulation: transforming a stream of data into a different kind of data, and accumulating it at the end. Toolz has a lot of stream manipulation primitives. \n",
    "\n",
    "For example, the sliding window function is exactly what we need to make the k-mers. "
   ]
  },
  {
   "cell_type": "code",
   "execution_count": 83,
   "metadata": {
    "ExecuteTime": {
     "end_time": "2020-07-08T23:40:19.769599Z",
     "start_time": "2020-07-08T23:40:19.764740Z"
    }
   },
   "outputs": [
    {
     "name": "stdout",
     "output_type": "stream",
     "text": [
      " A sequence of overlapping subsequences\n",
      "\n",
      "    >>> list(sliding_window(2, [1, 2, 3, 4]))\n",
      "    [(1, 2), (2, 3), (3, 4)]\n",
      "\n",
      "    This function creates a sliding window suitable for transformations like\n",
      "    sliding means / smoothing\n",
      "\n",
      "    >>> mean = lambda seq: float(sum(seq)) / len(seq)\n",
      "    >>> list(map(mean, sliding_window(2, [1, 2, 3, 4])))\n",
      "    [1.5, 2.5, 3.5]\n",
      "    \n"
     ]
    }
   ],
   "source": [
    "print(tz.sliding_window.__doc__)"
   ]
  },
  {
   "cell_type": "markdown",
   "metadata": {},
   "source": [
    "Additionally, the frequencies function counts the appearance of individual items \n",
    "in a data stream. Together with pipe, we can count k-mers in a single function call:"
   ]
  },
  {
   "cell_type": "code",
   "execution_count": 89,
   "metadata": {
    "ExecuteTime": {
     "end_time": "2020-07-08T23:43:48.921158Z",
     "start_time": "2020-07-08T23:43:48.681807Z"
    }
   },
   "outputs": [],
   "source": [
    "k = 4\n",
    "\n",
    "counts = tz.pipe(\n",
    "    data_path + 'sample.fasta',\n",
    "    open, \n",
    "    c.filter(is_sequence), \n",
    "    c.map(str.rstrip), \n",
    "    c.map(c.sliding_window(k)), \n",
    "    tz.concat, \n",
    "    c.map(''.join), \n",
    "    tz.frequencies\n",
    ")"
   ]
  },
  {
   "cell_type": "code",
   "execution_count": 92,
   "metadata": {
    "ExecuteTime": {
     "end_time": "2020-07-08T23:44:15.147289Z",
     "start_time": "2020-07-08T23:44:15.141610Z"
    }
   },
   "outputs": [
    {
     "data": {
      "text/plain": [
       "303"
      ]
     },
     "execution_count": 92,
     "metadata": {},
     "output_type": "execute_result"
    }
   ],
   "source": [
    "len(counts)"
   ]
  },
  {
   "cell_type": "markdown",
   "metadata": {},
   "source": [
    "But, what are all those `c.function` call from `toolz.curried`? "
   ]
  },
  {
   "cell_type": "markdown",
   "metadata": {},
   "source": [
    "### Currying: the spice of streaming "
   ]
  },
  {
   "cell_type": "markdown",
   "metadata": {},
   "source": [
    "Earlier, we briefly used a *curried* version of the `map` function, which applies a given \n",
    "function element-wise. Now that we've mixed a few more curried calls in there, it's time to share what it means ! Currying is not named after the spice blend (though it does spice up code !). It is named for Haskell Curry, the mathemetaician who invented the concept. Haskell Curry is also the namesake of the Haskell programming language -- in which *all* functions are curried ! "
   ]
  },
  {
   "cell_type": "markdown",
   "metadata": {},
   "source": [
    "\"Currying\" means *partially* evaluating a function and returning another, \"smaller\" function.Normally in python you give a function all of its required arguments and expect an output. In contrast, a curried function can just take *some* of the arguments. **If the curried function doesn't get enough args it returns a new function that takes the leftover arguments. Once that second function is called with the remaining args, it can perform the original task.** Another word for currying is partial evaluation. In functional programming, currying is a way to produce a function that can wait for the rest of the arguments to show up lateraterateraterater."
   ]
  },
  {
   "cell_type": "markdown",
   "metadata": {},
   "source": [
    "So while the function call `map(np.log, numbers_list)` applies the `np.log` function element-wise and returns a sequence of logged numbers, the call `toolz.curried.map(np.log)` *returns a function* that takes in a sequence of numbers that then returns a sequence of logged numbers. \n",
    "\n",
    "It turns out that having a function that already knows about some of the arguments is perfect for streaming ! We've seen a hint of how powerful currying and pipes can be together in the above snippet. \n",
    "\n",
    "But currying can be a bit of a mind-bend when you first start, so we'll try it with some simple examples to demonstrate hwo it works. Let's start by writing a simple, non-curried function : "
   ]
  },
  {
   "cell_type": "code",
   "execution_count": 93,
   "metadata": {
    "ExecuteTime": {
     "end_time": "2020-07-09T00:03:01.708909Z",
     "start_time": "2020-07-09T00:03:01.704540Z"
    }
   },
   "outputs": [
    {
     "data": {
      "text/plain": [
       "7"
      ]
     },
     "execution_count": 93,
     "metadata": {},
     "output_type": "execute_result"
    }
   ],
   "source": [
    "def add(a,b): \n",
    "    return a + b \n",
    "\n",
    "add(2,5)"
   ]
  },
  {
   "cell_type": "markdown",
   "metadata": {},
   "source": [
    "Now, let's write a similar function which we curry manually. \n"
   ]
  },
  {
   "cell_type": "code",
   "execution_count": 98,
   "metadata": {
    "ExecuteTime": {
     "end_time": "2020-07-09T00:04:54.052604Z",
     "start_time": "2020-07-09T00:04:54.047316Z"
    }
   },
   "outputs": [],
   "source": [
    "def add_curried(a, b = None):\n",
    "    if b is None: \n",
    "        # Second arg not given, so return a function \n",
    "        def add_partial(b): \n",
    "            return add(a,b)\n",
    "        return add_partial\n",
    "    else: \n",
    "        return add(a, b)"
   ]
  },
  {
   "cell_type": "code",
   "execution_count": 105,
   "metadata": {
    "ExecuteTime": {
     "end_time": "2020-07-09T00:05:39.398342Z",
     "start_time": "2020-07-09T00:05:39.394591Z"
    }
   },
   "outputs": [],
   "source": [
    "# add_5 is now our new function \n",
    "add_5 = add_curried(5)"
   ]
  },
  {
   "cell_type": "code",
   "execution_count": 107,
   "metadata": {
    "ExecuteTime": {
     "end_time": "2020-07-09T00:15:22.215869Z",
     "start_time": "2020-07-09T00:15:22.210210Z"
    }
   },
   "outputs": [
    {
     "data": {
      "text/plain": [
       "7"
      ]
     },
     "execution_count": 107,
     "metadata": {},
     "output_type": "execute_result"
    }
   ],
   "source": [
    "add_5(2)"
   ]
  },
  {
   "cell_type": "markdown",
   "metadata": {},
   "source": [
    "Despite that the above code works, it's a bit hard to read. Future you will probably have trouble remembering how we wrote that code. Luckily, Toolz has a decorator that automatically *curries* a function. "
   ]
  },
  {
   "cell_type": "code",
   "execution_count": 109,
   "metadata": {
    "ExecuteTime": {
     "end_time": "2020-07-09T00:25:44.963044Z",
     "start_time": "2020-07-09T00:25:44.956367Z"
    }
   },
   "outputs": [
    {
     "data": {
      "text/plain": [
       "7"
      ]
     },
     "execution_count": 109,
     "metadata": {},
     "output_type": "execute_result"
    }
   ],
   "source": [
    "@tz.curry\n",
    "def add_curried(x,y):\n",
    "    return x+y\n",
    "\n",
    "add_partial  = add_curried(2)\n",
    "add_partial(5)"
   ]
  },
  {
   "cell_type": "markdown",
   "metadata": {},
   "source": [
    "In brief, `add_curried` is now a curried function, so it can take one of the arguments and return another function, `add_partial` which \"remembers\" the first argument. \n",
    "\n",
    "In fact, all of the `toolz` functions are also available as curried functions in the `toolz.curried` namespace. Toolz also includes curried version of some handy higher order python functions like `map`, `filter` and `reduce`. We will import the `curried` namespace as `c` so our code doesn't get too cluttered. So for our example the curried version of `map` will be `c.map`. Note, that the curried functions (e.g. `c.map`) are different from the `@curry` decorator which is used to create a curried function. \n",
    "\n"
   ]
  },
  {
   "cell_type": "markdown",
   "metadata": {},
   "source": [
    "As a reminder, `map` is a built-in python function : "
   ]
  },
  {
   "cell_type": "code",
   "execution_count": 111,
   "metadata": {
    "ExecuteTime": {
     "end_time": "2020-07-09T00:29:31.372677Z",
     "start_time": "2020-07-09T00:29:31.367507Z"
    }
   },
   "outputs": [
    {
     "name": "stdout",
     "output_type": "stream",
     "text": [
      "map(func, *iterables) --> map object\n",
      "\n",
      "Make an iterator that computes the function using arguments from\n",
      "each of the iterables.  Stops when the shortest iterable is exhausted.\n"
     ]
    }
   ],
   "source": [
    "print(map.__doc__)"
   ]
  },
  {
   "cell_type": "markdown",
   "metadata": {},
   "source": [
    "A curried version of `map` is particularly handy whem working in a Toolz pipe. You can just pass a function to `c.map` and then stream in the iterator later using `tz.pipe`. Take another look at our function for reading in the genome to see how this works in practice. "
   ]
  },
  {
   "cell_type": "code",
   "execution_count": 112,
   "metadata": {
    "ExecuteTime": {
     "end_time": "2020-07-09T00:42:23.241528Z",
     "start_time": "2020-07-09T00:42:23.237484Z"
    }
   },
   "outputs": [],
   "source": [
    "def genome(file_pattern): \n",
    "    \"\"\"\n",
    "    Stream a genome, letter by letter, from a list of FASTA filenames. \n",
    "    \n",
    "    Params \n",
    "    ------\n",
    "    file_pattern (str)\n",
    "        A glob-able file pattern. \n",
    "        \n",
    "    Returns \n",
    "    -------\n",
    "    genome_ (tz.pipe)\n",
    "        A string representing a genome sequence. This is designed to be a \n",
    "        module of a larger pipeline. \n",
    "    \"\"\"\n",
    "    \n",
    "    genome_ = tz.pipe(\n",
    "        file_pattern, \n",
    "        glob,\n",
    "        sorted,\n",
    "        tz.concat, # concat lines from all files\n",
    "        c.filter(is_sequence), \n",
    "        tz.concat, #concat characters from all lines\n",
    "        c.filter(is_nucleotide) # discard newlines and 'N's\n",
    "    )"
   ]
  },
  {
   "cell_type": "markdown",
   "metadata": {},
   "source": [
    "> #### Tips for working with streams \n",
    "> * Convert \"list of lists\" to \"long list\" with `tz.concat`\n",
    "> * Don't get caught out: \n",
    "    > * Iterators get consumed. So if you make a generator object and some processing on it, and then a later step fails, you need to re-create the generator. The original is already gone. \n",
    "    >* Iterators are lazy. You need to force evaluation sometimes. \n",
    ">* When you have lots of funcitions in a pipe, it's sometimes hard to figure out where things go wrong. Take a small stream and add functions to your pipe one by one. You can also insert `c.map(c.do(print))` at any point in a stream to print each element while it streams through. "
   ]
  },
  {
   "cell_type": "code",
   "execution_count": 114,
   "metadata": {
    "ExecuteTime": {
     "end_time": "2020-07-09T00:59:25.012401Z",
     "start_time": "2020-07-09T00:59:24.999504Z"
    }
   },
   "outputs": [],
   "source": [
    "c.do?"
   ]
  },
  {
   "cell_type": "markdown",
   "metadata": {},
   "source": [
    "#### Exercise \n",
    "\n",
    "The scikit-learn ilbrary has an IncrementalPCA class, which allows you to run PCA on a dataset withour loading the whole data into memory. But you need to chunk your data yourself, which makes the code a bit awkward to use. Make a function that takes a stream of data samples and perform PCA. Then use the function to compute the PCA of the `iris` dataset which is at `data/iris.csv`. Optionally, you can color the points using the species number found in `data/iris-target.csv`.\n",
    "\n",
    "*Hint:* Look at the `toolz.curried.partition` function to create a stream of batcges from a stream of data points. "
   ]
  },
  {
   "cell_type": "code",
   "execution_count": 115,
   "metadata": {
    "ExecuteTime": {
     "end_time": "2020-07-09T01:12:31.897132Z",
     "start_time": "2020-07-09T01:12:31.232051Z"
    }
   },
   "outputs": [],
   "source": [
    "from sklearn.decomposition import IncrementalPCA as iPCA"
   ]
  },
  {
   "cell_type": "markdown",
   "metadata": {},
   "source": [
    "All right, for our function we will need a trainer and a transformer. Let's write down the logic steps of our code \n",
    "\n",
    "#### Trainer \n",
    "\n",
    "* Initialize a stream using the iris dataset line by line from the `iris.csv` file. \n",
    "* Use `c.partition` to make a minibatch of data. Our function will take a `batch_size` argument to control how many lines of the dataset will be processed. \n",
    "* Train the iPCA model using this minibatch of data. \n",
    "* Return the trained iPCA model. \n",
    "\n",
    "#### Transformer. \n",
    "\n",
    "* Initialize a stream using the iris dataset line by line from the `iris.csv` file. \n",
    "* Use `c.partition` to make a minibatch of data.\n",
    "* Transform that minibatch of data. \n",
    "* Concatenate the minibatches to get the full dataset. "
   ]
  },
  {
   "cell_type": "markdown",
   "metadata": {},
   "source": [
    "Let's see what the `c.partition` function does. "
   ]
  },
  {
   "cell_type": "code",
   "execution_count": 119,
   "metadata": {
    "ExecuteTime": {
     "end_time": "2020-07-09T01:16:58.190301Z",
     "start_time": "2020-07-09T01:16:58.185058Z"
    }
   },
   "outputs": [
    {
     "name": "stdout",
     "output_type": "stream",
     "text": [
      " Partition sequence into tuples of length n\n",
      "\n",
      "    >>> list(partition(2, [1, 2, 3, 4]))\n",
      "    [(1, 2), (3, 4)]\n",
      "\n",
      "    If the length of ``seq`` is not evenly divisible by ``n``, the final tuple\n",
      "    is dropped if ``pad`` is not specified, or filled to length ``n`` by pad:\n",
      "\n",
      "    >>> list(partition(2, [1, 2, 3, 4, 5]))\n",
      "    [(1, 2), (3, 4)]\n",
      "\n",
      "    >>> list(partition(2, [1, 2, 3, 4, 5], pad=None))\n",
      "    [(1, 2), (3, 4), (5, None)]\n",
      "\n",
      "    See Also:\n",
      "        partition_all\n",
      "    \n"
     ]
    }
   ],
   "source": [
    "print(c.partition.__doc__)"
   ]
  },
  {
   "cell_type": "markdown",
   "metadata": {},
   "source": [
    "Super cool ! Given an input list and a length $n$, it returns a list of tuples of size $n$. It can also pad the sequences. This is just what we need. We want to take in our stream of arrays as a list, and then partition it into tuples. This tuples will represent our minibatches. The last thing we want to do is to make a general function that allow us to make a generator object from a .txt file. We can modify the functions we had from the beginning of the tutorial. "
   ]
  },
  {
   "cell_type": "code",
   "execution_count": null,
   "metadata": {},
   "outputs": [],
   "source": []
  },
  {
   "cell_type": "code",
   "execution_count": 244,
   "metadata": {
    "ExecuteTime": {
     "end_time": "2020-07-09T02:18:15.376549Z",
     "start_time": "2020-07-09T02:18:15.368606Z"
    }
   },
   "outputs": [],
   "source": [
    "def line_to_array(line, delim = ','): \n",
    "    \"\"\"\n",
    "    Returns a numpy array from a line of a text file separated by a delimiter. \n",
    "    \n",
    "    Params \n",
    "    ------\n",
    "    line (str)\n",
    "        Line from a text file generated from an iterator using \n",
    "        the built-in open() function.\n",
    "        \n",
    "    delim (str, default = ',')\n",
    "        Delimiter of the input txt file. Examples are tabs '\\t' and commas ','. \n",
    "        \n",
    "        \n",
    "    Returns\n",
    "    -------\n",
    "    arr (array-like)\n",
    "        Numpy array version of the input line.\n",
    "    \"\"\"\n",
    "    arr = np.array([float(elem) for elem in line.rstrip().split(delim)])\n",
    "    \n",
    "    return np.array(arr)\n",
    "\n",
    "def stream_file(filename, delim = ','): \n",
    "    \n",
    "    \"\"\"\n",
    "    \n",
    "    Params \n",
    "    ------\n",
    "    filename (str)\n",
    "        Path to input file. \n",
    "    \n",
    "    delim (str, default = ',')\n",
    "        Delimiter of the input txt file. Examples are tabs '\\t' and commas ','. \n",
    "        \n",
    "    Returns \n",
    "    -------\n",
    "    \n",
    "    File generator. \n",
    "    \"\"\"\n",
    "    print('Starting reading file ... \\n')\n",
    "    with open(filename) as fn: \n",
    "        for ix, line in enumerate(fn): \n",
    "            \n",
    "            yield line_to_array(line, delim = delim)\n",
    "        \n",
    "        print('Finished reading file...')"
   ]
  },
  {
   "cell_type": "code",
   "execution_count": 252,
   "metadata": {
    "ExecuteTime": {
     "end_time": "2020-07-09T02:20:35.944315Z",
     "start_time": "2020-07-09T02:20:35.938063Z"
    }
   },
   "outputs": [],
   "source": [
    "def streaming_ipca_train(fname, n_components = 2, batch_size= 128): \n",
    "    \"\"\"\n",
    "    Initializes and trains an IncrementalPCA object using streaming. \n",
    "    This is a wrapper to stream and train using the toolz library. \n",
    "    \n",
    "    Params\n",
    "    ------\n",
    "    fname\n",
    "    \n",
    "    n_components(int, default = 2)\n",
    "        Number of components in the PCA object. \n",
    "        \n",
    "    batch_size (int, default = 128)\n",
    "        Number of lines to stream per batch. \n",
    "    \n",
    "    Returns \n",
    "    -------\n",
    "    ipca_ (sklearn.decomposition.IncrementalPCA)\n",
    "        Trained PCA object. \n",
    "    \"\"\"\n",
    "    \n",
    "    ipca_ = iPCA(n_components, batch_size = batch_size)\n",
    "    \n",
    "    tz.pipe(\n",
    "        fname, \n",
    "        stream_file, # Generator of 1d arrays\n",
    "        c.partition(batch_size),# Iterator of tuples of 1-d arrays\n",
    "        c.map(np.array), # iterator of 2d arrays\n",
    "        c.map(ipca_.partial_fit),\n",
    "        tz.last\n",
    "    )\n",
    "    \n",
    "    print('Finished training !' )\n",
    "    return ipca_"
   ]
  },
  {
   "cell_type": "code",
   "execution_count": 253,
   "metadata": {
    "ExecuteTime": {
     "end_time": "2020-07-09T02:20:36.268309Z",
     "start_time": "2020-07-09T02:20:36.260093Z"
    }
   },
   "outputs": [
    {
     "name": "stdout",
     "output_type": "stream",
     "text": [
      "Starting reading file ... \n",
      "\n",
      "Finished reading file...\n",
      "Finished training !\n",
      "CPU times: user 7.07 ms, sys: 2.93 ms, total: 9.99 ms\n",
      "Wall time: 4.96 ms\n"
     ]
    }
   ],
   "source": [
    "%%time\n",
    "pca_obj = streaming_ipca_train(data_path + 'iris.csv')"
   ]
  },
  {
   "cell_type": "markdown",
   "metadata": {},
   "source": [
    "Wow- that was fast ! The function takes only 5ms to train a PCA object on the Iris dataset..  "
   ]
  },
  {
   "cell_type": "code",
   "execution_count": 254,
   "metadata": {
    "ExecuteTime": {
     "end_time": "2020-07-09T02:20:37.116894Z",
     "start_time": "2020-07-09T02:20:37.110843Z"
    }
   },
   "outputs": [],
   "source": [
    "def streaming_ipca_transform(fname, ipca_object): \n",
    "    \"\"\"\n",
    "    \"\"\"\n",
    "    transformed = tz.pipe(\n",
    "        fname, \n",
    "        stream_file, # Generator of 1d arrays\n",
    "        c.partition(ipca_object.batch_size), # Iterator of tuples of 1d arrays \n",
    "        c.map(np.array), # Iterator of 2D arrays\n",
    "        c.map(ipca_object.transform), # Iterator of (batch_size, n_components) arrays\n",
    "        np.vstack \n",
    "    )\n",
    "    \n",
    "    return transformed"
   ]
  },
  {
   "cell_type": "code",
   "execution_count": 257,
   "metadata": {
    "ExecuteTime": {
     "end_time": "2020-07-09T02:20:52.195301Z",
     "start_time": "2020-07-09T02:20:52.185222Z"
    }
   },
   "outputs": [
    {
     "name": "stdout",
     "output_type": "stream",
     "text": [
      "Starting reading file ... \n",
      "\n",
      "Finished reading file...\n",
      "CPU times: user 4.24 ms, sys: 3.48 ms, total: 7.72 ms\n",
      "Wall time: 4.76 ms\n"
     ]
    },
    {
     "name": "stderr",
     "output_type": "stream",
     "text": [
      "/Users/manoloflores/anaconda3/lib/python3.7/site-packages/toolz/functoolz.py:634: FutureWarning: arrays to stack must be passed as a \"sequence\" type such as list or tuple. Support for non-sequence iterables such as generators is deprecated as of NumPy 1.16 and will raise an error in the future.\n",
      "  data = func(data)\n"
     ]
    }
   ],
   "source": [
    "%%time\n",
    "transformed = streaming_ipca_transform(data_path + 'iris.csv', pca_obj)"
   ]
  },
  {
   "cell_type": "markdown",
   "metadata": {},
   "source": [
    "Just another 5 ms to transform the dataset ! "
   ]
  },
  {
   "cell_type": "code",
   "execution_count": 258,
   "metadata": {
    "ExecuteTime": {
     "end_time": "2020-07-09T02:21:23.294640Z",
     "start_time": "2020-07-09T02:21:23.289579Z"
    }
   },
   "outputs": [
    {
     "data": {
      "text/plain": [
       "True"
      ]
     },
     "execution_count": 258,
     "metadata": {},
     "output_type": "execute_result"
    }
   ],
   "source": [
    "# Check the output shape is 2 \n",
    "transformed.shape[1] == 2"
   ]
  },
  {
   "cell_type": "code",
   "execution_count": 264,
   "metadata": {
    "ExecuteTime": {
     "end_time": "2020-07-09T02:31:41.660488Z",
     "start_time": "2020-07-09T02:31:41.614042Z"
    }
   },
   "outputs": [
    {
     "data": {
      "application/vnd.holoviews_exec.v0+json": "",
      "text/html": [
       "<div id='3055' style='display: table; margin: 0 auto;'>\n",
       "\n",
       "\n",
       "\n",
       "\n",
       "\n",
       "  <div class=\"bk-root\" id=\"69baab16-6023-4b4a-9c76-efd88971f569\" data-root-id=\"3055\"></div>\n",
       "</div>\n",
       "<script type=\"application/javascript\">(function(root) {\n",
       "  function embed_document(root) {\n",
       "    \n",
       "  var docs_json = {\"1f2c468a-f6b6-4475-b54c-f2fd7b29126f\":{\"roots\":{\"references\":[{\"attributes\":{\"align\":null,\"below\":[{\"id\":\"3064\",\"type\":\"LinearAxis\"}],\"center\":[{\"id\":\"3068\",\"type\":\"Grid\"},{\"id\":\"3073\",\"type\":\"Grid\"}],\"left\":[{\"id\":\"3069\",\"type\":\"LinearAxis\"}],\"margin\":null,\"min_border_bottom\":10,\"min_border_left\":10,\"min_border_right\":10,\"min_border_top\":10,\"plot_height\":300,\"plot_width\":300,\"renderers\":[{\"id\":\"3091\",\"type\":\"GlyphRenderer\"}],\"sizing_mode\":\"fixed\",\"title\":{\"id\":\"3056\",\"type\":\"Title\"},\"toolbar\":{\"id\":\"3079\",\"type\":\"Toolbar\"},\"x_range\":{\"id\":\"3053\",\"type\":\"Range1d\"},\"x_scale\":{\"id\":\"3060\",\"type\":\"LinearScale\"},\"y_range\":{\"id\":\"3054\",\"type\":\"Range1d\"},\"y_scale\":{\"id\":\"3062\",\"type\":\"LinearScale\"}},\"id\":\"3055\",\"subtype\":\"Figure\",\"type\":\"Plot\"},{\"attributes\":{\"data_source\":{\"id\":\"3085\",\"type\":\"ColumnDataSource\"},\"glyph\":{\"id\":\"3088\",\"type\":\"Scatter\"},\"hover_glyph\":null,\"muted_glyph\":{\"id\":\"3090\",\"type\":\"Scatter\"},\"nonselection_glyph\":{\"id\":\"3089\",\"type\":\"Scatter\"},\"selection_glyph\":null,\"view\":{\"id\":\"3092\",\"type\":\"CDSView\"}},\"id\":\"3091\",\"type\":\"GlyphRenderer\"},{\"attributes\":{},\"id\":\"3062\",\"type\":\"LinearScale\"},{\"attributes\":{},\"id\":\"3076\",\"type\":\"WheelZoomTool\"},{\"attributes\":{},\"id\":\"3086\",\"type\":\"Selection\"},{\"attributes\":{},\"id\":\"3075\",\"type\":\"PanTool\"},{\"attributes\":{},\"id\":\"3078\",\"type\":\"ResetTool\"},{\"attributes\":{\"grid_line_color\":null,\"ticker\":{\"id\":\"3065\",\"type\":\"BasicTicker\"}},\"id\":\"3068\",\"type\":\"Grid\"},{\"attributes\":{},\"id\":\"3074\",\"type\":\"SaveTool\"},{\"attributes\":{},\"id\":\"3096\",\"type\":\"BasicTickFormatter\"},{\"attributes\":{},\"id\":\"3094\",\"type\":\"BasicTickFormatter\"},{\"attributes\":{\"callback\":null,\"end\":1.582210671454088,\"reset_end\":1.582210671454088,\"reset_start\":-1.507104038713562,\"start\":-1.507104038713562,\"tags\":[[[\"y\",\"y\",null]]]},\"id\":\"3054\",\"type\":\"Range1d\"},{\"attributes\":{\"axis_label\":\"PC2\",\"bounds\":\"auto\",\"formatter\":{\"id\":\"3096\",\"type\":\"BasicTickFormatter\"},\"major_label_orientation\":\"horizontal\",\"ticker\":{\"id\":\"3070\",\"type\":\"BasicTicker\"}},\"id\":\"3069\",\"type\":\"LinearAxis\"},{\"attributes\":{},\"id\":\"3103\",\"type\":\"UnionRenderers\"},{\"attributes\":{},\"id\":\"3070\",\"type\":\"BasicTicker\"},{\"attributes\":{\"callback\":null,\"end\":4.849520540203626,\"reset_end\":4.849520540203626,\"reset_start\":-3.56750822793235,\"start\":-3.56750822793235,\"tags\":[[[\"x\",\"x\",null]]]},\"id\":\"3053\",\"type\":\"Range1d\"},{\"attributes\":{\"bottom_units\":\"screen\",\"fill_alpha\":{\"value\":0.5},\"fill_color\":{\"value\":\"lightgrey\"},\"left_units\":\"screen\",\"level\":\"overlay\",\"line_alpha\":{\"value\":1.0},\"line_color\":{\"value\":\"black\"},\"line_dash\":[4,4],\"line_width\":{\"value\":2},\"render_mode\":\"css\",\"right_units\":\"screen\",\"top_units\":\"screen\"},\"id\":\"3102\",\"type\":\"BoxAnnotation\"},{\"attributes\":{\"axis_label\":\"PC1\",\"bounds\":\"auto\",\"formatter\":{\"id\":\"3094\",\"type\":\"BasicTickFormatter\"},\"major_label_orientation\":\"horizontal\",\"ticker\":{\"id\":\"3065\",\"type\":\"BasicTicker\"}},\"id\":\"3064\",\"type\":\"LinearAxis\"},{\"attributes\":{},\"id\":\"3060\",\"type\":\"LinearScale\"},{\"attributes\":{\"source\":{\"id\":\"3085\",\"type\":\"ColumnDataSource\"}},\"id\":\"3092\",\"type\":\"CDSView\"},{\"attributes\":{\"text\":\"\",\"text_color\":{\"value\":\"black\"},\"text_font_size\":{\"value\":\"12pt\"}},\"id\":\"3056\",\"type\":\"Title\"},{\"attributes\":{\"fill_alpha\":{\"value\":0.4},\"fill_color\":{\"value\":\"#30a2da\"},\"line_alpha\":{\"value\":0.4},\"line_color\":{\"value\":\"#30a2da\"},\"size\":{\"units\":\"screen\",\"value\":8},\"x\":{\"field\":\"x\"},\"y\":{\"field\":\"y\"}},\"id\":\"3089\",\"type\":\"Scatter\"},{\"attributes\":{\"active_drag\":\"auto\",\"active_inspect\":\"auto\",\"active_multi\":null,\"active_scroll\":\"auto\",\"active_tap\":\"auto\",\"tools\":[{\"id\":\"3074\",\"type\":\"SaveTool\"},{\"id\":\"3075\",\"type\":\"PanTool\"},{\"id\":\"3076\",\"type\":\"WheelZoomTool\"},{\"id\":\"3077\",\"type\":\"BoxZoomTool\"},{\"id\":\"3078\",\"type\":\"ResetTool\"}]},\"id\":\"3079\",\"type\":\"Toolbar\"},{\"attributes\":{\"fill_alpha\":{\"value\":0.2},\"fill_color\":{\"value\":\"#30a2da\"},\"line_alpha\":{\"value\":0.2},\"line_color\":{\"value\":\"#30a2da\"},\"size\":{\"units\":\"screen\",\"value\":8},\"x\":{\"field\":\"x\"},\"y\":{\"field\":\"y\"}},\"id\":\"3090\",\"type\":\"Scatter\"},{\"attributes\":{\"dimension\":1,\"grid_line_color\":null,\"ticker\":{\"id\":\"3070\",\"type\":\"BasicTicker\"}},\"id\":\"3073\",\"type\":\"Grid\"},{\"attributes\":{\"overlay\":{\"id\":\"3102\",\"type\":\"BoxAnnotation\"}},\"id\":\"3077\",\"type\":\"BoxZoomTool\"},{\"attributes\":{\"callback\":null,\"data\":{\"x\":{\"__ndarray__\":\"VggdUIGuAsAalWszPdYCwFOZuRibQATA2x4swbISA8BgYZ8hawsDwFZigoxlEf+/YLoZcxS6A8AA4Ng6IzECwJzEf12VKQTAC1h4ylaCAsAmoYW0k08BwLYQF/euEALA/tPGOQ1mA8CJkfX84t8GwLdYDvWifwLAQYdBaAB6AMC6eWbP20oCwN6KBUm8ZgLAfaWd+u/G/b+T/3d9zvQBwAtsbnLFX/+/fuohpCqYAcCir9MnwO0GwJDU+p6rN/+/ljR2YCD+/79lL5WvHS0BwO2SYOoO8QDAxPSPDuy1AcBKr5p+l1ECwOei3VH8LgLA3UlbgBLSAcBe35ovbYEAwO7/HgPqegLA8ifEEm0gAsALWHjKVoICwDCnN10EGQTAxlRXld8+AsALWHjKVoICwF6uB3L+7gTAlB6VOxjpAcBunpKKUV8DwClK9qsWzQPAmd2EFrwYBcCcL3CuY3YAwBlzdtrA1f2/D9mXK4PWAsDmKkZCCYwBwJwItNUb2APAk2LJs56XAcCHmuOqzswCwJsjZ/L1D/o/4cRDANN89D99E7GvUPv8PxxSV0V6vuE/7qhSFfQU9z/+9yWAGxTwP0pWk3SyFPc/JBg4DskE2L+uBv9SOFz2P+jo8nro2dY/lO1jT+U/wL+EUMGFRbnrP3nrgiqVVeQ/pxcb7Wh89T8j+8ufeYTHP3TdlQ00ZvQ/igwCVZ5P8D9MUKbM/TXjP4CXGHAP/vQ/Ks0g3bxu2j9DFOO/QH73P/ubzcYZ3uY/xx1zkz6V+j8EUTp1Eof0PyYUOMjOGPE/1YmLs9v/8z8cf98L1ff6PyfXD/gKhf4/LUed87O58j+MWx8bbsWtP5TtrGIJUdM/feFMLx4dxz/WVS/mp9/fPz56NmY04/s/sA3mr+Re7j/yVVrLiXjyPznFfKn7GPk/+lAyKT/k8j8aC7NMcFjjPy6VYrODF+E/GGOfcpit6j8iRAvElvHzP/JRN0V4BeM/008lgnod1b8Rb8cwCxXnP4RjiTaxG+Y/2bfhm0CO5z/lHFKWRfHvP/JCCtXuPOG/vM2225If5T8oQNbXSwcHQFdltJOmcfw/aMoI6qG2B0DM5wbmOqICQC1tQLOanQVAgdBctqDyDUA+tTpkmZ3sPwa1ra5wRgpAPvCisPZ2BUBGmMWcnAEKQAgEkzCLEABAgV8DyilKAUCSPRjjVxwEQJ6Xw2eBY/s/xhwiNpsV/z9KXyjL4wACQOSABtDnbAJAnKQMbQSMDkDg8NLpp5cQQDLH5glKw/o/+W6g0EMrBkDL4jH3HfX4P9eVT5UuzQ5AHLAFdWHw+z+UWavxxPYEQFY20nEqrgdAvlluTXnV+T+2HH+K/FL6Pw==\",\"dtype\":\"float64\",\"shape\":[128]},\"y\":{\"__ndarray__\":\"QioxD0r/0j9/dQSwIRvKv/k45F7X4sW/UBcIGKu91b8hL0PnYpTTP1E6upFOV+c/SLTEwl8jvL8ZiA4+/EnCPwHTi0c0TuO/AvByvwKPwb+3Twur0wPkP1erToh8GmC/HDULX+a90L+0O3qCFVzhvx2Omr0KcPI/T3rVsj8y9T92Y5KCNTvpPzE+ZMb/hdI/UpTtGQdz6z9Z669FNtDfP4i0hm2W59c/DRT7VDOY2j8jn28mxta6P1pH2e59ALU/b9imEnuwp78C+wjyr4/Fv19dBVTYAb0/HvyaZvY21j9wJR83MWrSP2m0bDGMjsu/Jb6Q4b24zL+KBcXM6NjYP9K1a09KlOk/pwx4eTU38T8C8HK/Ao/Bv0pa3cM566M/O2x6Y95L4j8C8HK/Ao/BvxjTYTfedeC/3VS63Tudyj/D2PTdppzOP04Nib85Oe+/sM/zHktu17/s1J5WNBnGP/6sMhsej9s/Pw2l8Hqw0b/YwhAWjVffP30XtPf+DNC/gFwgwwPv4T98tS2+42C1Pz/lZ0oPfec/LqHXXfxq1z/ScbZxStrhP1s/D/bkiem/9xeHVhifvj+FgAdfsMDXv8OQRPzjotU/0lLvfqSi77/Cb/kes4LRPzGuMMaODua/WSWgr5z+87983oVf5jKwv9wSOVVCy+C/l0O0xabisr8XhVGWEFTNv+I0VXMwSuA/lGincHNf07/fbgJ7HCLTvw2ucei8LeC/jmo5YRjE4b/6Cw5Qv22av5YAnCx+A6O/SAYG63290b8ISHaPmwnBv2nBI9GbCsg/FZjsbgis1z8cPBjdCLrSP+E+05EUvtQ/zujeZLPevb8UxTcgwF7WvxZJ4uBKv+W/xMhFAKwJ5b/cHcQbyjDSvy74XEQdGte/WjVTELOy27/u4wVLSJHPP/o/mTQ8Rd0/yp0fT5mO1b9NfLr6IUrNvxpUJ04sy+S/lhGlxhET5L/X3d3cTQCPP68dGDx24de/QVX46jDt7792FIFtLtPdv3cATbo06MW/jVfbTR0s0L8hnzBHcpCtP/zN6Upg6+e/Oi5XfeL407/m4kw+qVe0P5jEN9+dbOC/C28qctv92j/8tQbDiTC7v0CJMRYu5qM/iK8xGymY5D9uiSh+wEvyv4bCpGJzNtw//9PDg9kIxr/G/7GOX+vrP81vJO9zitM/zJeIoMeGw78iDlnkyUjSP8kOO9fRA+e/TDqIgvZ43r8kOB+oHCLIP458+Dwl37w/s+cPYR559D+kgrtroJbWP+THVWU9tOa/yMmMgV8Z3T/aFhQHk4Hhvz0jZcPrseE/9Oc569ZXw79XwGIbbXfaP81t5flrj+Q/G7U9Sr5JwL95+IfsCBiuvw==\",\"dtype\":\"float64\",\"shape\":[128]}},\"selected\":{\"id\":\"3086\",\"type\":\"Selection\"},\"selection_policy\":{\"id\":\"3103\",\"type\":\"UnionRenderers\"}},\"id\":\"3085\",\"type\":\"ColumnDataSource\"},{\"attributes\":{\"fill_alpha\":{\"value\":0.4},\"fill_color\":{\"value\":\"#30a2da\"},\"line_alpha\":{\"value\":0.4},\"line_color\":{\"value\":\"#30a2da\"},\"size\":{\"units\":\"screen\",\"value\":8},\"x\":{\"field\":\"x\"},\"y\":{\"field\":\"y\"}},\"id\":\"3088\",\"type\":\"Scatter\"},{\"attributes\":{},\"id\":\"3065\",\"type\":\"BasicTicker\"}],\"root_ids\":[\"3055\"]},\"title\":\"Bokeh Application\",\"version\":\"1.4.0\"}};\n",
       "  var render_items = [{\"docid\":\"1f2c468a-f6b6-4475-b54c-f2fd7b29126f\",\"roots\":{\"3055\":\"69baab16-6023-4b4a-9c76-efd88971f569\"}}];\n",
       "  root.Bokeh.embed.embed_items_notebook(docs_json, render_items);\n",
       "\n",
       "  }\n",
       "  if (root.Bokeh !== undefined) {\n",
       "    embed_document(root);\n",
       "  } else {\n",
       "    var attempts = 0;\n",
       "    var timer = setInterval(function(root) {\n",
       "      if (root.Bokeh !== undefined) {\n",
       "        clearInterval(timer);\n",
       "        embed_document(root);\n",
       "      } else {\n",
       "        attempts++;\n",
       "        if (attempts > 100) {\n",
       "          clearInterval(timer);\n",
       "          console.log(\"Bokeh: ERROR: Unable to run BokehJS code because BokehJS library is missing\");\n",
       "        }\n",
       "      }\n",
       "    }, 10, root)\n",
       "  }\n",
       "})(window);</script>"
      ],
      "text/plain": [
       ":Points   [x,y]"
      ]
     },
     "execution_count": 264,
     "metadata": {
      "application/vnd.holoviews_exec.v0+json": {
       "id": "3055"
      }
     },
     "output_type": "execute_result"
    }
   ],
   "source": [
    "# Take a look \n",
    "hv.Points((transformed)).opts(padding = 0.1, size = 8, alpha = 0.4, xlabel = 'PC1', ylabel= 'PC2')"
   ]
  },
  {
   "cell_type": "code",
   "execution_count": null,
   "metadata": {},
   "outputs": [],
   "source": []
  }
 ],
 "metadata": {
  "kernelspec": {
   "display_name": "Python 3",
   "language": "python",
   "name": "python3"
  },
  "language_info": {
   "codemirror_mode": {
    "name": "ipython",
    "version": 3
   },
   "file_extension": ".py",
   "mimetype": "text/x-python",
   "name": "python",
   "nbconvert_exporter": "python",
   "pygments_lexer": "ipython3",
   "version": "3.7.4"
  },
  "toc": {
   "base_numbering": 1,
   "nav_menu": {},
   "number_sections": true,
   "sideBar": true,
   "skip_h1_title": false,
   "title_cell": "Table of Contents",
   "title_sidebar": "Contents",
   "toc_cell": false,
   "toc_position": {},
   "toc_section_display": true,
   "toc_window_display": false
  },
  "varInspector": {
   "cols": {
    "lenName": 16,
    "lenType": 16,
    "lenVar": 40
   },
   "kernels_config": {
    "python": {
     "delete_cmd_postfix": "",
     "delete_cmd_prefix": "del ",
     "library": "var_list.py",
     "varRefreshCmd": "print(var_dic_list())"
    },
    "r": {
     "delete_cmd_postfix": ") ",
     "delete_cmd_prefix": "rm(",
     "library": "var_list.r",
     "varRefreshCmd": "cat(var_dic_list()) "
    }
   },
   "types_to_exclude": [
    "module",
    "function",
    "builtin_function_or_method",
    "instance",
    "_Feature"
   ],
   "window_display": false
  }
 },
 "nbformat": 4,
 "nbformat_minor": 2
}

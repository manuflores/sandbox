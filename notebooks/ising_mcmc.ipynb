{
 "cells": [
  {
   "cell_type": "markdown",
   "metadata": {},
   "source": [
    "## MCMC using Ising model "
   ]
  },
  {
   "cell_type": "code",
   "execution_count": 1,
   "metadata": {
    "ExecuteTime": {
     "end_time": "2020-06-14T00:07:07.142285Z",
     "start_time": "2020-06-14T00:07:06.371008Z"
    }
   },
   "outputs": [],
   "source": [
    "import numpy as np\n",
    "from sklearn.datasets import load_digits\n",
    "import holoviews as hv \n",
    "hv.extension('bokeh')"
   ]
  },
  {
   "cell_type": "code",
   "execution_count": 2,
   "metadata": {
    "ExecuteTime": {
     "end_time": "2020-06-14T00:07:14.667207Z",
     "start_time": "2020-06-14T00:07:14.508428Z"
    }
   },
   "outputs": [],
   "source": [
    "# Get MNIST digits\n",
    "data = load_digits().data\n",
    "\n",
    "# Binarize digits\n",
    "binarized = (data > 1).astype(np.int8)"
   ]
  },
  {
   "cell_type": "code",
   "execution_count": 3,
   "metadata": {
    "ExecuteTime": {
     "end_time": "2020-06-14T00:07:19.387789Z",
     "start_time": "2020-06-14T00:07:19.382738Z"
    }
   },
   "outputs": [],
   "source": [
    "# Reshape\n",
    "binary = binarized.reshape(-1, 8,8)"
   ]
  },
  {
   "cell_type": "code",
   "execution_count": 4,
   "metadata": {
    "ExecuteTime": {
     "end_time": "2020-06-14T00:07:39.653333Z",
     "start_time": "2020-06-14T00:07:39.648269Z"
    }
   },
   "outputs": [],
   "source": [
    "def generate_rand_ix_2d(len_image):\n",
    "    return (np.random.choice(len_image), np.random.choice(len_image))"
   ]
  },
  {
   "cell_type": "code",
   "execution_count": 7,
   "metadata": {
    "ExecuteTime": {
     "end_time": "2020-06-14T00:09:42.913644Z",
     "start_time": "2020-06-14T00:09:42.905597Z"
    }
   },
   "outputs": [],
   "source": [
    "def get_neighbors(image, rand_ix):\n",
    "\n",
    "    \"Get the neighbors for a given pixel \"\n",
    "\n",
    "    # Get side length of image\n",
    "    l = image.shape[0]\n",
    "    \n",
    "    # Clipping allows us to generalize for edge and corner pixels \n",
    "    \n",
    "    left_ix = np.clip(rand_ix[0] - 1, a_min = 0, a_max = l)\n",
    "    right_ix = np.clip(rand_ix[0]+2, a_min = 0, a_max = l)\n",
    "    bottom_ix = np.clip(rand_ix[1] - 1, a_min = 0, a_max = l)\n",
    "    top_ix = np.clip(rand_ix[1] + 2, a_min = 0, a_max =l)\n",
    "\n",
    "    return image[left_ix: right_ix, bottom_ix : top_ix]"
   ]
  },
  {
   "cell_type": "code",
   "execution_count": 30,
   "metadata": {
    "ExecuteTime": {
     "end_time": "2020-06-14T00:32:36.229337Z",
     "start_time": "2020-06-14T00:32:36.218611Z"
    }
   },
   "outputs": [],
   "source": [
    "def mcmc_step(image, beta): \n",
    "    \n",
    "    \"Wrapper to perform an MCMC step using an Ising model.\"\n",
    "    \n",
    "    rand_ix = generate_rand_ix_2d(image.shape[0])\n",
    "    \n",
    "    neighbors = get_neighbors(image, rand_ix)\n",
    "    \n",
    "    # Compute indicator r.v. using numpy magic\n",
    "    indicator_old = neighbors == image[rand_ix]\n",
    "    \n",
    "    # Compute a new indicator rv with the proposed change\n",
    "    indicator_proposed = neighbors == np.abs(image[rand_ix] -1) \n",
    "    \n",
    "    # Compute old Ising factor, correct for comparison of pixel with itself  \n",
    "    ising_factor= np.sum(indicator_old) - 1\n",
    "    \n",
    "    # New ising factor doesn't need adjustment \n",
    "    ising_factor_new = np.sum(indicator_proposed)  \n",
    "    \n",
    "    #px_old = np.exp(beta * ising_factor) \n",
    "    #px_new = np.exp(beta * ising_factor_new)\n",
    "    \n",
    "    # Compute Metropolis ratio \n",
    "    hastings_ratio = np.exp(beta * (ising_factor_new - ising_factor))  #px_new / px_old\n",
    "    \n",
    "    #print('Hastings ratio : {} \\n'.format(hastings_ratio))\n",
    "    \n",
    "    u = np.random.random()\n",
    "    \n",
    "    accept = True if u < min(1, hastings_ratio) else False \n",
    "    \n",
    "    if accept : \n",
    "        \n",
    "        image[rand_ix] = np.abs(image[rand_ix] - 1)\n",
    "        \n",
    "        #print('Proposal accepted \\n')\n",
    "        \n",
    "    else : \n",
    "        pass \n",
    "        \n",
    "        #print('Proposal denied \\n')\n",
    "    \n",
    "    return image\n",
    "    "
   ]
  },
  {
   "cell_type": "code",
   "execution_count": 15,
   "metadata": {
    "ExecuteTime": {
     "end_time": "2020-06-14T00:21:02.556721Z",
     "start_time": "2020-06-14T00:21:02.550652Z"
    }
   },
   "outputs": [],
   "source": [
    "im = binary[0]"
   ]
  },
  {
   "cell_type": "code",
   "execution_count": 11,
   "metadata": {
    "ExecuteTime": {
     "end_time": "2020-06-14T00:20:08.865157Z",
     "start_time": "2020-06-14T00:20:07.624343Z"
    }
   },
   "outputs": [
    {
     "data": {
      "application/vnd.holoviews_exec.v0+json": "",
      "text/html": [
       "<div id='1003' style='display: table; margin: 0 auto;'>\n",
       "\n",
       "\n",
       "\n",
       "\n",
       "\n",
       "  <div class=\"bk-root\" id=\"14c00b0b-8ccb-4ac2-9114-ee9ccd4288d1\" data-root-id=\"1003\"></div>\n",
       "</div>\n",
       "<script type=\"application/javascript\">(function(root) {\n",
       "  function embed_document(root) {\n",
       "    \n",
       "  var docs_json = {\"2f217283-d7be-4cb5-806c-4dbb0c3f84f3\":{\"roots\":{\"references\":[{\"attributes\":{\"align\":null,\"below\":[{\"id\":\"1012\",\"type\":\"LinearAxis\"}],\"center\":[{\"id\":\"1016\",\"type\":\"Grid\"},{\"id\":\"1021\",\"type\":\"Grid\"}],\"left\":[{\"id\":\"1017\",\"type\":\"LinearAxis\"}],\"margin\":null,\"min_border_bottom\":10,\"min_border_left\":10,\"min_border_right\":10,\"min_border_top\":10,\"plot_height\":300,\"plot_width\":300,\"renderers\":[{\"id\":\"1039\",\"type\":\"GlyphRenderer\"}],\"sizing_mode\":\"fixed\",\"title\":{\"id\":\"1004\",\"type\":\"Title\"},\"toolbar\":{\"id\":\"1027\",\"type\":\"Toolbar\"},\"x_range\":{\"id\":\"1001\",\"type\":\"Range1d\"},\"x_scale\":{\"id\":\"1008\",\"type\":\"LinearScale\"},\"y_range\":{\"id\":\"1002\",\"type\":\"Range1d\"},\"y_scale\":{\"id\":\"1010\",\"type\":\"LinearScale\"}},\"id\":\"1003\",\"subtype\":\"Figure\",\"type\":\"Plot\"},{\"attributes\":{},\"id\":\"1008\",\"type\":\"LinearScale\"},{\"attributes\":{\"grid_line_color\":null,\"ticker\":{\"id\":\"1013\",\"type\":\"BasicTicker\"}},\"id\":\"1016\",\"type\":\"Grid\"},{\"attributes\":{},\"id\":\"1041\",\"type\":\"BasicTickFormatter\"},{\"attributes\":{\"text\":\"\",\"text_color\":{\"value\":\"black\"},\"text_font_size\":{\"value\":\"12pt\"}},\"id\":\"1004\",\"type\":\"Title\"},{\"attributes\":{},\"id\":\"1023\",\"type\":\"PanTool\"},{\"attributes\":{\"callback\":null,\"end\":0.5,\"reset_end\":0.5,\"reset_start\":-0.5,\"start\":-0.5,\"tags\":[[[\"x\",\"x\",null]]]},\"id\":\"1001\",\"type\":\"Range1d\"},{\"attributes\":{},\"id\":\"1050\",\"type\":\"UnionRenderers\"},{\"attributes\":{\"callback\":null,\"end\":0.5,\"reset_end\":0.5,\"reset_start\":-0.5,\"start\":-0.5,\"tags\":[[[\"y\",\"y\",null]]]},\"id\":\"1002\",\"type\":\"Range1d\"},{\"attributes\":{\"color_mapper\":{\"id\":\"1033\",\"type\":\"LinearColorMapper\"},\"dh\":{\"field\":\"dh\",\"units\":\"data\"},\"dw\":{\"field\":\"dw\",\"units\":\"data\"},\"image\":{\"field\":\"image\"},\"x\":{\"field\":\"x\"},\"y\":{\"field\":\"y\"}},\"id\":\"1038\",\"type\":\"Image\"},{\"attributes\":{},\"id\":\"1043\",\"type\":\"BasicTickFormatter\"},{\"attributes\":{\"dimension\":1,\"grid_line_color\":null,\"ticker\":{\"id\":\"1018\",\"type\":\"BasicTicker\"}},\"id\":\"1021\",\"type\":\"Grid\"},{\"attributes\":{\"axis_label\":\"y\",\"bounds\":\"auto\",\"formatter\":{\"id\":\"1043\",\"type\":\"BasicTickFormatter\"},\"major_label_orientation\":\"horizontal\",\"ticker\":{\"id\":\"1018\",\"type\":\"BasicTicker\"}},\"id\":\"1017\",\"type\":\"LinearAxis\"},{\"attributes\":{},\"id\":\"1026\",\"type\":\"ResetTool\"},{\"attributes\":{\"high\":1.0,\"low\":0.0,\"nan_color\":\"rgba(0, 0, 0, 0)\",\"palette\":[\"#000000\",\"#060000\",\"#0d0000\",\"#120000\",\"#160000\",\"#190000\",\"#1c0000\",\"#1f0000\",\"#220000\",\"#240000\",\"#260000\",\"#280000\",\"#2b0000\",\"#2d0000\",\"#2e0000\",\"#300000\",\"#320000\",\"#340000\",\"#350000\",\"#370000\",\"#380000\",\"#3a0000\",\"#3b0000\",\"#3d0000\",\"#3e0000\",\"#400000\",\"#410000\",\"#430000\",\"#440000\",\"#460000\",\"#470000\",\"#490000\",\"#4a0000\",\"#4c0000\",\"#4d0000\",\"#4f0000\",\"#500000\",\"#520000\",\"#530000\",\"#550000\",\"#560000\",\"#580000\",\"#590100\",\"#5b0100\",\"#5d0100\",\"#5e0100\",\"#600100\",\"#610100\",\"#630100\",\"#650100\",\"#660100\",\"#680100\",\"#690100\",\"#6b0100\",\"#6d0100\",\"#6e0100\",\"#700100\",\"#710100\",\"#730100\",\"#750100\",\"#760100\",\"#780200\",\"#7a0200\",\"#7b0200\",\"#7d0200\",\"#7f0200\",\"#800200\",\"#820200\",\"#840200\",\"#850200\",\"#870200\",\"#890200\",\"#8a0200\",\"#8c0300\",\"#8e0300\",\"#900300\",\"#910300\",\"#930300\",\"#950300\",\"#960300\",\"#980300\",\"#9a0300\",\"#9c0300\",\"#9d0400\",\"#9f0400\",\"#a10400\",\"#a20400\",\"#a40400\",\"#a60400\",\"#a80400\",\"#a90400\",\"#ab0500\",\"#ad0500\",\"#af0500\",\"#b00500\",\"#b20500\",\"#b40500\",\"#b60600\",\"#b80600\",\"#b90600\",\"#bb0600\",\"#bd0600\",\"#bf0700\",\"#c00700\",\"#c20700\",\"#c40700\",\"#c60800\",\"#c80800\",\"#c90800\",\"#cb0800\",\"#cd0900\",\"#cf0900\",\"#d10900\",\"#d20a00\",\"#d40a00\",\"#d60a00\",\"#d80b00\",\"#da0b00\",\"#db0c00\",\"#dd0c00\",\"#df0d00\",\"#e10d00\",\"#e30e00\",\"#e40f00\",\"#e60f00\",\"#e81000\",\"#ea1100\",\"#eb1300\",\"#ed1400\",\"#ee1600\",\"#f01800\",\"#f11b00\",\"#f21d00\",\"#f32000\",\"#f52300\",\"#f62600\",\"#f62900\",\"#f72c00\",\"#f82f00\",\"#f93200\",\"#f93500\",\"#fa3800\",\"#fa3b00\",\"#fb3d00\",\"#fb4000\",\"#fb4300\",\"#fc4600\",\"#fc4900\",\"#fc4b00\",\"#fd4e00\",\"#fd5100\",\"#fd5300\",\"#fd5600\",\"#fd5800\",\"#fe5b00\",\"#fe5d00\",\"#fe5f00\",\"#fe6200\",\"#fe6400\",\"#fe6600\",\"#fe6800\",\"#fe6b00\",\"#fe6d00\",\"#fe6f00\",\"#fe7100\",\"#fe7300\",\"#fe7500\",\"#fe7700\",\"#fe7900\",\"#fe7c00\",\"#ff7e00\",\"#ff8000\",\"#ff8200\",\"#ff8300\",\"#ff8500\",\"#ff8700\",\"#ff8900\",\"#ff8b00\",\"#ff8d00\",\"#ff8f00\",\"#ff9100\",\"#ff9300\",\"#ff9400\",\"#ff9600\",\"#ff9800\",\"#ff9a00\",\"#ff9c00\",\"#ff9d00\",\"#ff9f00\",\"#ffa100\",\"#ffa300\",\"#ffa401\",\"#ffa601\",\"#ffa801\",\"#ffaa01\",\"#ffab01\",\"#ffad01\",\"#ffaf01\",\"#ffb001\",\"#ffb202\",\"#ffb402\",\"#ffb502\",\"#ffb702\",\"#ffb902\",\"#ffba02\",\"#ffbc03\",\"#ffbd03\",\"#ffbf03\",\"#ffc103\",\"#ffc204\",\"#ffc404\",\"#ffc604\",\"#ffc704\",\"#ffc905\",\"#ffca05\",\"#ffcc05\",\"#ffce06\",\"#ffcf06\",\"#ffd106\",\"#ffd207\",\"#ffd407\",\"#ffd508\",\"#ffd708\",\"#ffd909\",\"#ffda09\",\"#ffdc0a\",\"#ffdd0a\",\"#ffdf0b\",\"#ffe00b\",\"#ffe20c\",\"#ffe30d\",\"#ffe50e\",\"#ffe60f\",\"#ffe810\",\"#ffea11\",\"#ffeb12\",\"#ffed14\",\"#ffee17\",\"#fff01a\",\"#fff11e\",\"#fff324\",\"#fff42a\",\"#fff532\",\"#fff73b\",\"#fff847\",\"#fff953\",\"#fffb62\",\"#fffb72\",\"#fffc83\",\"#fffd95\",\"#fffea8\",\"#fffeba\",\"#fffecc\",\"#fffede\",\"#fffeee\",\"#ffffff\"]},\"id\":\"1033\",\"type\":\"LinearColorMapper\"},{\"attributes\":{\"callback\":null,\"data\":{\"dh\":[1.0],\"dw\":[1.0],\"image\":[{\"__ndarray__\":\"AAABAQEAAAAAAQEBAQEAAAABAQAAAQEAAAEBAAABAQAAAQEAAAEBAAABAQEAAQEAAAABAQEBAQAAAAEBAQAAAA==\",\"dtype\":\"int8\",\"shape\":[8,8]}],\"x\":[-0.5],\"y\":[-0.5]},\"selected\":{\"id\":\"1035\",\"type\":\"Selection\"},\"selection_policy\":{\"id\":\"1050\",\"type\":\"UnionRenderers\"}},\"id\":\"1034\",\"type\":\"ColumnDataSource\"},{\"attributes\":{},\"id\":\"1024\",\"type\":\"WheelZoomTool\"},{\"attributes\":{\"color_mapper\":{\"id\":\"1033\",\"type\":\"LinearColorMapper\"},\"dh\":{\"field\":\"dh\",\"units\":\"data\"},\"dw\":{\"field\":\"dw\",\"units\":\"data\"},\"image\":{\"field\":\"image\"},\"x\":{\"field\":\"x\"},\"y\":{\"field\":\"y\"}},\"id\":\"1037\",\"type\":\"Image\"},{\"attributes\":{},\"id\":\"1013\",\"type\":\"BasicTicker\"},{\"attributes\":{},\"id\":\"1035\",\"type\":\"Selection\"},{\"attributes\":{},\"id\":\"1010\",\"type\":\"LinearScale\"},{\"attributes\":{\"data_source\":{\"id\":\"1034\",\"type\":\"ColumnDataSource\"},\"glyph\":{\"id\":\"1037\",\"type\":\"Image\"},\"hover_glyph\":null,\"muted_glyph\":null,\"nonselection_glyph\":{\"id\":\"1038\",\"type\":\"Image\"},\"selection_glyph\":null,\"view\":{\"id\":\"1040\",\"type\":\"CDSView\"}},\"id\":\"1039\",\"type\":\"GlyphRenderer\"},{\"attributes\":{\"bottom_units\":\"screen\",\"fill_alpha\":{\"value\":0.5},\"fill_color\":{\"value\":\"lightgrey\"},\"left_units\":\"screen\",\"level\":\"overlay\",\"line_alpha\":{\"value\":1.0},\"line_color\":{\"value\":\"black\"},\"line_dash\":[4,4],\"line_width\":{\"value\":2},\"render_mode\":\"css\",\"right_units\":\"screen\",\"top_units\":\"screen\"},\"id\":\"1052\",\"type\":\"BoxAnnotation\"},{\"attributes\":{},\"id\":\"1018\",\"type\":\"BasicTicker\"},{\"attributes\":{\"active_drag\":\"auto\",\"active_inspect\":\"auto\",\"active_multi\":null,\"active_scroll\":\"auto\",\"active_tap\":\"auto\",\"tools\":[{\"id\":\"1022\",\"type\":\"SaveTool\"},{\"id\":\"1023\",\"type\":\"PanTool\"},{\"id\":\"1024\",\"type\":\"WheelZoomTool\"},{\"id\":\"1025\",\"type\":\"BoxZoomTool\"},{\"id\":\"1026\",\"type\":\"ResetTool\"}]},\"id\":\"1027\",\"type\":\"Toolbar\"},{\"attributes\":{\"axis_label\":\"x\",\"bounds\":\"auto\",\"formatter\":{\"id\":\"1041\",\"type\":\"BasicTickFormatter\"},\"major_label_orientation\":\"horizontal\",\"ticker\":{\"id\":\"1013\",\"type\":\"BasicTicker\"}},\"id\":\"1012\",\"type\":\"LinearAxis\"},{\"attributes\":{\"overlay\":{\"id\":\"1052\",\"type\":\"BoxAnnotation\"}},\"id\":\"1025\",\"type\":\"BoxZoomTool\"},{\"attributes\":{\"source\":{\"id\":\"1034\",\"type\":\"ColumnDataSource\"}},\"id\":\"1040\",\"type\":\"CDSView\"},{\"attributes\":{},\"id\":\"1022\",\"type\":\"SaveTool\"}],\"root_ids\":[\"1003\"]},\"title\":\"Bokeh Application\",\"version\":\"1.4.0\"}};\n",
       "  var render_items = [{\"docid\":\"2f217283-d7be-4cb5-806c-4dbb0c3f84f3\",\"roots\":{\"1003\":\"14c00b0b-8ccb-4ac2-9114-ee9ccd4288d1\"}}];\n",
       "  root.Bokeh.embed.embed_items_notebook(docs_json, render_items);\n",
       "\n",
       "  }\n",
       "  if (root.Bokeh !== undefined) {\n",
       "    embed_document(root);\n",
       "  } else {\n",
       "    var attempts = 0;\n",
       "    var timer = setInterval(function(root) {\n",
       "      if (root.Bokeh !== undefined) {\n",
       "        clearInterval(timer);\n",
       "        embed_document(root);\n",
       "      } else {\n",
       "        attempts++;\n",
       "        if (attempts > 100) {\n",
       "          clearInterval(timer);\n",
       "          console.log(\"Bokeh: ERROR: Unable to run BokehJS code because BokehJS library is missing\");\n",
       "        }\n",
       "      }\n",
       "    }, 10, root)\n",
       "  }\n",
       "})(window);</script>"
      ],
      "text/plain": [
       ":Image   [x,y]   (z)"
      ]
     },
     "execution_count": 11,
     "metadata": {
      "application/vnd.holoviews_exec.v0+json": {
       "id": "1003"
      }
     },
     "output_type": "execute_result"
    }
   ],
   "source": [
    "hv.Image(im)"
   ]
  },
  {
   "cell_type": "code",
   "execution_count": 16,
   "metadata": {
    "ExecuteTime": {
     "end_time": "2020-06-14T00:21:04.886289Z",
     "start_time": "2020-06-14T00:21:04.876992Z"
    }
   },
   "outputs": [],
   "source": [
    "new_im = mcmc_step(im, beta = 1)"
   ]
  },
  {
   "cell_type": "code",
   "execution_count": 20,
   "metadata": {
    "ExecuteTime": {
     "end_time": "2020-06-14T00:23:56.670593Z",
     "start_time": "2020-06-14T00:23:56.270467Z"
    }
   },
   "outputs": [],
   "source": [
    "import matplotlib.pyplot as plt"
   ]
  },
  {
   "cell_type": "code",
   "execution_count": 36,
   "metadata": {
    "ExecuteTime": {
     "end_time": "2020-06-14T00:32:56.819882Z",
     "start_time": "2020-06-14T00:32:56.386481Z"
    },
    "scrolled": false
   },
   "outputs": [
    {
     "data": {
      "text/plain": [
       "<matplotlib.image.AxesImage at 0x1a1f904d10>"
      ]
     },
     "execution_count": 36,
     "metadata": {},
     "output_type": "execute_result"
    },
    {
     "data": {
      "image/png": "[encoded data removed]",
      "text/plain": [
       "<Figure size 432x288 with 1 Axes>"
      ]
     },
     "metadata": {
      "needs_background": "light"
     },
     "output_type": "display_data"
    }
   ],
   "source": [
    "im = binary[0]\n",
    "\n",
    "for i in range(100): \n",
    "    #plt.figure()\n",
    "    im = mcmc_step(im, beta = 0.01)\n",
    "\n",
    "plt.imshow(im, cmap = 'bone')"
   ]
  },
  {
   "cell_type": "code",
   "execution_count": 106,
   "metadata": {
    "ExecuteTime": {
     "end_time": "2020-06-14T00:42:12.582700Z",
     "start_time": "2020-06-14T00:42:12.348279Z"
    }
   },
   "outputs": [
    {
     "data": {
      "text/plain": [
       "<matplotlib.image.AxesImage at 0x1a24879910>"
      ]
     },
     "execution_count": 106,
     "metadata": {},
     "output_type": "execute_result"
    },
    {
     "data": {
      "image/png": "[encoded data removed]",
      "text/plain": [
       "<Figure size 432x288 with 1 Axes>"
      ]
     },
     "metadata": {
      "needs_background": "light"
     },
     "output_type": "display_data"
    }
   ],
   "source": [
    "im = binary[10].copy()\n",
    "\n",
    "plt.imshow(im, cmap = 'bone')"
   ]
  },
  {
   "cell_type": "code",
   "execution_count": 116,
   "metadata": {
    "ExecuteTime": {
     "end_time": "2020-06-14T00:44:21.405750Z",
     "start_time": "2020-06-14T00:44:21.399586Z"
    }
   },
   "outputs": [],
   "source": [
    "n_iter = 100"
   ]
  },
  {
   "cell_type": "code",
   "execution_count": 126,
   "metadata": {
    "ExecuteTime": {
     "end_time": "2020-06-14T00:48:18.348999Z",
     "start_time": "2020-06-14T00:48:18.338338Z"
    }
   },
   "outputs": [],
   "source": [
    "def run_mcmc_and_plot(image, beta_, n_iter): \n",
    "    \"\"\"Given an image, it returns the n_iter-th sample using MCMC.\"\"\"\n",
    "    im_ = im.copy()\n",
    "    for i in range(n_iter): \n",
    "        #plt.figure()\n",
    "        im_ = mcmc_step(im_, beta = beta_)\n",
    "\n",
    "    fig, ax = plt.subplots(1, 2, figsize = (8, 4))\n",
    "\n",
    "    ax[0].imshow(im, cmap = 'Blues')\n",
    "    ax[0].set_title('Original image') \n",
    "\n",
    "    ax[1].imshow(im_, cmap = 'Blues')\n",
    "    ax[1].set_title('Generated image after {0} its, beta = {1}'.format(n_iter, np.round(beta_, 2)))"
   ]
  },
  {
   "cell_type": "code",
   "execution_count": 131,
   "metadata": {
    "ExecuteTime": {
     "end_time": "2020-06-14T00:48:53.895528Z",
     "start_time": "2020-06-14T00:48:53.888459Z"
    }
   },
   "outputs": [],
   "source": [
    "im = binary[-10]"
   ]
  },
  {
   "cell_type": "code",
   "execution_count": 132,
   "metadata": {
    "ExecuteTime": {
     "end_time": "2020-06-14T00:48:57.560616Z",
     "start_time": "2020-06-14T00:48:54.370329Z"
    }
   },
   "outputs": [
    {
     "name": "stderr",
     "output_type": "stream",
     "text": [
      "/Users/manoloflores/anaconda3/lib/python3.7/site-packages/ipykernel_launcher.py:23: RuntimeWarning: overflow encountered in exp\n"
     ]
    },
    {
     "data": {
      "image/png": "[encoded data removed]",
      "text/plain": [
       "<Figure size 576x288 with 2 Axes>"
      ]
     },
     "metadata": {
      "needs_background": "light"
     },
     "output_type": "display_data"
    },
    {
     "data": {
      "image/png": "[encoded data removed]",
      "text/plain": [
       "<Figure size 576x288 with 2 Axes>"
      ]
     },
     "metadata": {
      "needs_background": "light"
     },
     "output_type": "display_data"
    },
    {
     "data": {
      "image/png": "[encoded data removed]",
      "text/plain": [
       "<Figure size 576x288 with 2 Axes>"
      ]
     },
     "metadata": {
      "needs_background": "light"
     },
     "output_type": "display_data"
    },
    {
     "data": {
      "image/png": "[encoded data removed]",
      "text/plain": [
       "<Figure size 576x288 with 2 Axes>"
      ]
     },
     "metadata": {
      "needs_background": "light"
     },
     "output_type": "display_data"
    },
    {
     "data": {
      "image/png": "[encoded data removed]",
      "text/plain": [
       "<Figure size 576x288 with 2 Axes>"
      ]
     },
     "metadata": {
      "needs_background": "light"
     },
     "output_type": "display_data"
    },
    {
     "data": {
      "image/png": "[encoded data removed]",
      "text/plain": [
       "<Figure size 576x288 with 2 Axes>"
      ]
     },
     "metadata": {
      "needs_background": "light"
     },
     "output_type": "display_data"
    }
   ],
   "source": [
    "for beta_ in np.logspace(-3, 3, 6): \n",
    "    run_mcmc_and_plot(im, beta_, n_iter = 100)"
   ]
  },
  {
   "cell_type": "code",
   "execution_count": null,
   "metadata": {},
   "outputs": [],
   "source": []
  }
 ],
 "metadata": {
  "kernelspec": {
   "display_name": "Python 3",
   "language": "python",
   "name": "python3"
  },
  "language_info": {
   "codemirror_mode": {
    "name": "ipython",
    "version": 3
   },
   "file_extension": ".py",
   "mimetype": "text/x-python",
   "name": "python",
   "nbconvert_exporter": "python",
   "pygments_lexer": "ipython3",
   "version": "3.7.4"
  },
  "toc": {
   "base_numbering": 1,
   "nav_menu": {},
   "number_sections": true,
   "sideBar": true,
   "skip_h1_title": false,
   "title_cell": "Table of Contents",
   "title_sidebar": "Contents",
   "toc_cell": false,
   "toc_position": {},
   "toc_section_display": true,
   "toc_window_display": false
  },
  "varInspector": {
   "cols": {
    "lenName": 16,
    "lenType": 16,
    "lenVar": 40
   },
   "kernels_config": {
    "python": {
     "delete_cmd_postfix": "",
     "delete_cmd_prefix": "del ",
     "library": "var_list.py",
     "varRefreshCmd": "print(var_dic_list())"
    },
    "r": {
     "delete_cmd_postfix": ") ",
     "delete_cmd_prefix": "rm(",
     "library": "var_list.r",
     "varRefreshCmd": "cat(var_dic_list()) "
    }
   },
   "types_to_exclude": [
    "module",
    "function",
    "builtin_function_or_method",
    "instance",
    "_Feature"
   ],
   "window_display": false
  }
 },
 "nbformat": 4,
 "nbformat_minor": 2
}

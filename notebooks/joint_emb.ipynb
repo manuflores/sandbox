{
 "cells": [
  {
   "cell_type": "code",
   "execution_count": null,
   "metadata": {
    "ExecuteTime": {
     "end_time": "2021-05-18T23:55:51.755790Z",
     "start_time": "2021-05-18T23:55:42.922539Z"
    }
   },
   "outputs": [],
   "source": [
    "%load_ext blackcellmagic\n",
    "%load_ext autoreload\n",
    "%autoreload 2\n",
    "\n",
    "import tqdm\n",
    "from sklearn import metrics \n",
    "import numpy as np\n",
    "import pandas as pd\n",
    "import matplotlib.pyplot as plt\n",
    "import holoviews as hv \n",
    "hv.extension('bokeh')\n",
    "import hvplot.pandas\n",
    "import seaborn as sns\n",
    "\n",
    "%matplotlib inline\n",
    "%config InlineBackend.figure_format = 'svg'\n",
    "\n",
    "import torch\n",
    "import torch.nn as nn\n",
    "import torch.nn.functional as F\n",
    "from torch.nn import Linear\n",
    "from torch.nn import BatchNorm1d\n",
    "from torch.utils.data import Dataset\n",
    "\n",
    "from torch_geometric.nn import global_add_pool, global_mean_pool\n",
    "\n",
    "from rdkit import Chem\n",
    "from rdkit.Chem import AllChem\n",
    "from rdkit.Chem.Draw import IPythonConsole\n",
    "from rdkit.Chem import Draw\n",
    "from torch_geometric.nn import GCNConv\n",
    "#from torch_geometric.nn import ChebConv\n",
    "\n",
    "import warnings \n",
    "warnings.filterwarnings('ignore')\n",
    "\n",
    "from torch_geometric.data import Batch\n",
    "from torch_geometric.data import DataLoader as geom_dataloader\n",
    "from torch_geometric.data import Data as geom_data\n",
    "\n",
    "from torchvision import transforms\n",
    "from torch.utils.data import IterableDataset, DataLoader\n",
    "\n",
    "import anndata as ad"
   ]
  },
  {
   "cell_type": "code",
   "execution_count": null,
   "metadata": {
    "ExecuteTime": {
     "end_time": "2021-05-18T23:55:51.867775Z",
     "start_time": "2021-05-18T23:55:51.765639Z"
    }
   },
   "outputs": [],
   "source": [
    "seed = 78364\n",
    "torch.manual_seed(seed)\n",
    "np.random.seed(seed)"
   ]
  },
  {
   "cell_type": "code",
   "execution_count": null,
   "metadata": {
    "ExecuteTime": {
     "end_time": "2021-05-18T23:55:51.972123Z",
     "start_time": "2021-05-18T23:55:51.873200Z"
    }
   },
   "outputs": [],
   "source": [
    "from magma import chemspace as mc\n",
    "from magma import utils as mu\n",
    "from magma import models as mm\n",
    "mu.set_plotting_style_plt()"
   ]
  },
  {
   "cell_type": "markdown",
   "metadata": {},
   "source": [
    "All right ! We're finally in the last step of the model building: using contrastive learning to construct an inner product space a.k.a. the joint embedding! Operationally, we will be using the same datasets as before, so we're good to go. "
   ]
  },
  {
   "cell_type": "markdown",
   "metadata": {},
   "source": [
    "### Load cell dataset"
   ]
  },
  {
   "cell_type": "markdown",
   "metadata": {},
   "source": [
    "First-off, let's load the cell dataset and perform the same pipeline we've been using to perform the train-test split. "
   ]
  },
  {
   "cell_type": "code",
   "execution_count": null,
   "metadata": {
    "ExecuteTime": {
     "end_time": "2021-05-18T23:55:52.074180Z",
     "start_time": "2021-05-18T23:55:51.976853Z"
    }
   },
   "outputs": [],
   "source": [
    "# Write down the path to the cell dataset\n",
    "path = '../../thomson_lab/data/drugbank/'"
   ]
  },
  {
   "cell_type": "code",
   "execution_count": null,
   "metadata": {
    "ExecuteTime": {
     "end_time": "2021-05-18T23:55:52.370828Z",
     "start_time": "2021-05-18T23:55:52.078767Z"
    }
   },
   "outputs": [],
   "source": [
    "a = ad.read_h5ad(path + 'mult_cd3_100_train.h5ad')"
   ]
  },
  {
   "cell_type": "code",
   "execution_count": null,
   "metadata": {
    "ExecuteTime": {
     "end_time": "2021-05-18T23:55:54.798179Z",
     "start_time": "2021-05-18T23:55:52.374117Z"
    }
   },
   "outputs": [],
   "source": [
    "%%time\n",
    "n_samples = 500\n",
    "\n",
    "sampling_ix = (\n",
    "    a.obs.groupby([\"sample_id\"])\n",
    "    .apply(\n",
    "        lambda group_df: group_df.sample(\n",
    "            group_df.shape[0] if group_df.shape[0] < n_samples else n_samples,\n",
    "            replace = False)\n",
    "    )\n",
    "    .index.get_level_values(1) # Get the numerical index :) \n",
    ")"
   ]
  },
  {
   "cell_type": "code",
   "execution_count": null,
   "metadata": {
    "ExecuteTime": {
     "end_time": "2021-05-18T23:55:55.075861Z",
     "start_time": "2021-05-18T23:55:54.804202Z"
    }
   },
   "outputs": [],
   "source": [
    "ada = a[sampling_ix].copy()"
   ]
  },
  {
   "cell_type": "code",
   "execution_count": null,
   "metadata": {
    "ExecuteTime": {
     "end_time": "2021-05-18T23:55:55.172269Z",
     "start_time": "2021-05-18T23:55:55.080013Z"
    }
   },
   "outputs": [],
   "source": [
    "ada.obs.sample_id.value_counts(False).head()"
   ]
  },
  {
   "cell_type": "code",
   "execution_count": null,
   "metadata": {
    "ExecuteTime": {
     "end_time": "2021-05-18T23:55:55.268254Z",
     "start_time": "2021-05-18T23:55:55.175272Z"
    }
   },
   "outputs": [],
   "source": [
    "ada.obs.sample_id.value_counts(False).tail()"
   ]
  },
  {
   "cell_type": "code",
   "execution_count": null,
   "metadata": {
    "ExecuteTime": {
     "end_time": "2021-05-18T23:55:55.361134Z",
     "start_time": "2021-05-18T23:55:55.273517Z"
    }
   },
   "outputs": [],
   "source": [
    "codes, uniques = pd.factorize(ada.obs.drug_name)"
   ]
  },
  {
   "cell_type": "code",
   "execution_count": null,
   "metadata": {
    "ExecuteTime": {
     "end_time": "2021-05-18T23:55:55.444113Z",
     "start_time": "2021-05-18T23:55:55.364119Z"
    }
   },
   "outputs": [],
   "source": [
    "ada.obs['sample_code'] = codes"
   ]
  },
  {
   "cell_type": "markdown",
   "metadata": {},
   "source": [
    "Now, let's make a dictionary that takes in the numerical indices and returns the name of the sample. This will help us to retrieve the drugs for the corresponding cells during training."
   ]
  },
  {
   "cell_type": "code",
   "execution_count": null,
   "metadata": {
    "ExecuteTime": {
     "end_time": "2021-05-18T23:55:55.554839Z",
     "start_time": "2021-05-18T23:55:55.447042Z"
    }
   },
   "outputs": [],
   "source": [
    "code_to_name = dict(ada.obs[['sample_code', 'drug_name']].values)"
   ]
  },
  {
   "cell_type": "code",
   "execution_count": null,
   "metadata": {
    "ExecuteTime": {
     "end_time": "2021-05-18T23:55:55.643175Z",
     "start_time": "2021-05-18T23:55:55.558126Z"
    }
   },
   "outputs": [],
   "source": [
    "code_to_name[1]"
   ]
  },
  {
   "cell_type": "code",
   "execution_count": null,
   "metadata": {
    "ExecuteTime": {
     "end_time": "2021-05-18T23:55:55.733172Z",
     "start_time": "2021-05-18T23:55:55.646625Z"
    }
   },
   "outputs": [],
   "source": [
    "code_to_name[99]"
   ]
  },
  {
   "cell_type": "code",
   "execution_count": null,
   "metadata": {
    "ExecuteTime": {
     "end_time": "2021-05-18T23:55:55.823590Z",
     "start_time": "2021-05-18T23:55:55.736261Z"
    }
   },
   "outputs": [],
   "source": [
    "uniques = uniques.to_list()"
   ]
  },
  {
   "cell_type": "code",
   "execution_count": null,
   "metadata": {
    "ExecuteTime": {
     "end_time": "2021-05-18T23:55:55.922063Z",
     "start_time": "2021-05-18T23:55:55.828181Z"
    }
   },
   "outputs": [],
   "source": [
    "uniques[:5]"
   ]
  },
  {
   "cell_type": "code",
   "execution_count": null,
   "metadata": {
    "ExecuteTime": {
     "end_time": "2021-05-18T23:55:56.021044Z",
     "start_time": "2021-05-18T23:55:55.925804Z"
    }
   },
   "outputs": [],
   "source": [
    "len(uniques)"
   ]
  },
  {
   "cell_type": "markdown",
   "metadata": {},
   "source": [
    "### Load molecules dataset "
   ]
  },
  {
   "cell_type": "code",
   "execution_count": null,
   "metadata": {
    "ExecuteTime": {
     "end_time": "2021-05-18T23:55:56.109422Z",
     "start_time": "2021-05-18T23:55:56.024612Z"
    }
   },
   "outputs": [],
   "source": [
    "path"
   ]
  },
  {
   "cell_type": "code",
   "execution_count": null,
   "metadata": {
    "ExecuteTime": {
     "end_time": "2021-05-18T23:55:56.202875Z",
     "start_time": "2021-05-18T23:55:56.113378Z"
    }
   },
   "outputs": [],
   "source": [
    "drugs = pd.read_csv(path + 'thomsonlab_drugs_smiles.csv')"
   ]
  },
  {
   "cell_type": "markdown",
   "metadata": {},
   "source": [
    "We will make the RDKit mol objects as in the GCN example. "
   ]
  },
  {
   "cell_type": "code",
   "execution_count": null,
   "metadata": {
    "ExecuteTime": {
     "end_time": "2021-05-18T23:55:56.394682Z",
     "start_time": "2021-05-18T23:55:56.205758Z"
    }
   },
   "outputs": [],
   "source": [
    "drugs['mol'] = drugs.SMILES.apply(Chem.MolFromSmiles)"
   ]
  },
  {
   "cell_type": "code",
   "execution_count": null,
   "metadata": {
    "ExecuteTime": {
     "end_time": "2021-05-18T23:55:56.489837Z",
     "start_time": "2021-05-18T23:55:56.405901Z"
    }
   },
   "outputs": [],
   "source": [
    "df_drugs = drugs[drugs.name.isin(uniques)]"
   ]
  },
  {
   "cell_type": "code",
   "execution_count": null,
   "metadata": {
    "ExecuteTime": {
     "end_time": "2021-05-18T23:55:56.590500Z",
     "start_time": "2021-05-18T23:55:56.494285Z"
    }
   },
   "outputs": [],
   "source": [
    "df_drugs.head()"
   ]
  },
  {
   "cell_type": "code",
   "execution_count": null,
   "metadata": {
    "ExecuteTime": {
     "end_time": "2021-05-18T23:55:56.684578Z",
     "start_time": "2021-05-18T23:55:56.595425Z"
    }
   },
   "outputs": [],
   "source": [
    "uniques[:5]"
   ]
  },
  {
   "cell_type": "code",
   "execution_count": null,
   "metadata": {
    "ExecuteTime": {
     "end_time": "2021-05-18T23:55:56.773426Z",
     "start_time": "2021-05-18T23:55:56.688277Z"
    }
   },
   "outputs": [],
   "source": [
    "drugs['drug_name'] = drugs.name.str.lower()"
   ]
  },
  {
   "cell_type": "code",
   "execution_count": null,
   "metadata": {
    "ExecuteTime": {
     "end_time": "2021-05-18T23:55:56.861752Z",
     "start_time": "2021-05-18T23:55:56.776501Z"
    }
   },
   "outputs": [],
   "source": [
    "uniques[:5]"
   ]
  },
  {
   "cell_type": "code",
   "execution_count": null,
   "metadata": {
    "ExecuteTime": {
     "end_time": "2021-05-18T23:55:56.962220Z",
     "start_time": "2021-05-18T23:55:56.865114Z"
    }
   },
   "outputs": [],
   "source": [
    "df_drugs = drugs[drugs.drug_name.isin(uniques)]"
   ]
  },
  {
   "cell_type": "code",
   "execution_count": null,
   "metadata": {
    "ExecuteTime": {
     "end_time": "2021-05-18T23:55:57.058094Z",
     "start_time": "2021-05-18T23:55:56.965325Z"
    }
   },
   "outputs": [],
   "source": [
    "df_drugs.shape"
   ]
  },
  {
   "cell_type": "code",
   "execution_count": null,
   "metadata": {
    "ExecuteTime": {
     "end_time": "2021-05-18T23:55:57.154457Z",
     "start_time": "2021-05-18T23:55:57.062829Z"
    }
   },
   "outputs": [],
   "source": [
    "# Out-of-bag (OOB)\n",
    "drugs_oob = drugs[~drugs.drug_name.isin(uniques)]"
   ]
  },
  {
   "cell_type": "code",
   "execution_count": null,
   "metadata": {
    "ExecuteTime": {
     "end_time": "2021-05-18T23:55:57.243319Z",
     "start_time": "2021-05-18T23:55:57.158000Z"
    }
   },
   "outputs": [],
   "source": [
    "drugs_oob.shape"
   ]
  },
  {
   "cell_type": "code",
   "execution_count": null,
   "metadata": {
    "ExecuteTime": {
     "end_time": "2021-05-18T23:55:57.334763Z",
     "start_time": "2021-05-18T23:55:57.246994Z"
    }
   },
   "outputs": [],
   "source": [
    "df_drugs.shape"
   ]
  },
  {
   "cell_type": "markdown",
   "metadata": {},
   "source": [
    "Finally, we need a helper function that given a list of numerical indices it returns the drugs as molecular graphs in the `torch_geometric` data type."
   ]
  },
  {
   "cell_type": "code",
   "execution_count": null,
   "metadata": {
    "ExecuteTime": {
     "end_time": "2021-05-18T23:55:57.428404Z",
     "start_time": "2021-05-18T23:55:57.337531Z"
    }
   },
   "outputs": [],
   "source": [
    "def get_drug_batch(labels_batch:list)->list:\n",
    "    \"Returns a list of torch.geometric Data object given a list of sample codes.\"\n",
    "    \n",
    "    drug_graphs = [\n",
    "        mc.mol2tensors(\n",
    "            name_to_mol[code_to_name[x.item()]]\n",
    "        ) for x in labels_batch\n",
    "    ]\n",
    "\n",
    "    return drug_graphs"
   ]
  },
  {
   "cell_type": "code",
   "execution_count": null,
   "metadata": {
    "ExecuteTime": {
     "end_time": "2021-05-18T23:55:57.522409Z",
     "start_time": "2021-05-18T23:55:57.432211Z"
    }
   },
   "outputs": [],
   "source": [
    "code_to_name[1]"
   ]
  },
  {
   "cell_type": "code",
   "execution_count": null,
   "metadata": {
    "ExecuteTime": {
     "end_time": "2021-05-18T23:55:57.615039Z",
     "start_time": "2021-05-18T23:55:57.526265Z"
    }
   },
   "outputs": [],
   "source": [
    "name_to_mol = dict(df_drugs[['drug_name', 'mol']].values)"
   ]
  },
  {
   "cell_type": "code",
   "execution_count": null,
   "metadata": {
    "ExecuteTime": {
     "end_time": "2021-05-18T23:55:57.712220Z",
     "start_time": "2021-05-18T23:55:57.618857Z"
    }
   },
   "outputs": [],
   "source": [
    "# make a test\n",
    "get_drug_batch(torch.LongTensor([1,2,3]))"
   ]
  },
  {
   "cell_type": "code",
   "execution_count": null,
   "metadata": {
    "ExecuteTime": {
     "end_time": "2021-05-18T23:55:57.906242Z",
     "start_time": "2021-05-18T23:55:57.715336Z"
    }
   },
   "outputs": [],
   "source": [
    "from sklearn.model_selection import StratifiedShuffleSplit\n",
    "\n",
    "# Initialize stratified sampler\n",
    "splitter = StratifiedShuffleSplit(n_splits = 1, test_size = 0.4, random_state = seed)\n",
    "\n",
    "ixs = list(splitter.split(ada.X, ada.obs[['cell_type', 'sample_code']]))\n",
    "\n",
    "train_ix, val_ix = ixs[0][0], ixs[0][1]"
   ]
  },
  {
   "cell_type": "markdown",
   "metadata": {},
   "source": [
    "### Make cell dataset and dataloader"
   ]
  },
  {
   "cell_type": "code",
   "execution_count": null,
   "metadata": {
    "ExecuteTime": {
     "end_time": "2021-05-18T23:55:58.169111Z",
     "start_time": "2021-05-18T23:55:57.910751Z"
    }
   },
   "outputs": [],
   "source": [
    "train_adata = ada[train_ix].copy()\n",
    "test_adata = ada[val_ix].copy()\n",
    "\n",
    "# Initialize torch dataset \n",
    "train_dataset = mu.adata_torch_dataset(\n",
    "    train_adata, transform = transforms.ToTensor(), supervised = True, target_col = 'sample_code'\n",
    ")\n",
    "\n",
    "test_dataset = mu.adata_torch_dataset(\n",
    "    test_adata, transform = transforms.ToTensor(), supervised = True, target_col = 'sample_code'\n",
    ")"
   ]
  },
  {
   "cell_type": "code",
   "execution_count": null,
   "metadata": {
    "ExecuteTime": {
     "end_time": "2021-05-18T23:55:58.267376Z",
     "start_time": "2021-05-18T23:55:58.171735Z"
    }
   },
   "outputs": [],
   "source": [
    "train_dataset[0]"
   ]
  },
  {
   "cell_type": "code",
   "execution_count": null,
   "metadata": {
    "ExecuteTime": {
     "end_time": "2021-05-18T23:55:58.353102Z",
     "start_time": "2021-05-18T23:55:58.270680Z"
    }
   },
   "outputs": [],
   "source": [
    "batch_size = 32 #increase batch size because of large dataset\n",
    "\n",
    "# Initialize DataLoader for minibatching \n",
    "train_loader = DataLoader(\n",
    "    train_dataset, batch_size = batch_size, drop_last = True, shuffle = False, num_workers =4\n",
    ")\n",
    "\n",
    "val_loader = DataLoader(\n",
    "    test_dataset, batch_size = batch_size, drop_last = True, shuffle = False, num_workers =4\n",
    ")"
   ]
  },
  {
   "cell_type": "markdown",
   "metadata": {},
   "source": [
    "### Initialize models with pre-trained weights "
   ]
  },
  {
   "cell_type": "markdown",
   "metadata": {},
   "source": [
    "Now, to make the joint embedding model, we initialize the cell and molecule encoders."
   ]
  },
  {
   "cell_type": "code",
   "execution_count": null,
   "metadata": {
    "ExecuteTime": {
     "end_time": "2021-05-18T23:55:58.440063Z",
     "start_time": "2021-05-18T23:55:58.355953Z"
    }
   },
   "outputs": [],
   "source": [
    "n_cats = len(uniques)\n",
    "n_genes = a.n_vars\n",
    "clf_dims = [n_genes, 512, 256, 64, n_cats]"
   ]
  },
  {
   "cell_type": "code",
   "execution_count": null,
   "metadata": {
    "ExecuteTime": {
     "end_time": "2021-05-18T23:55:58.540163Z",
     "start_time": "2021-05-18T23:55:58.444596Z"
    }
   },
   "outputs": [],
   "source": [
    "cell_encoder = mm.supervised_model(clf_dims, model = 'multiclass', dropout = False)"
   ]
  },
  {
   "cell_type": "code",
   "execution_count": null,
   "metadata": {
    "ExecuteTime": {
     "end_time": "2021-05-18T23:55:58.763684Z",
     "start_time": "2021-05-18T23:55:58.544313Z"
    }
   },
   "outputs": [],
   "source": [
    "!ls {path + 'models/' }"
   ]
  },
  {
   "cell_type": "code",
   "execution_count": null,
   "metadata": {
    "ExecuteTime": {
     "end_time": "2021-05-18T23:55:58.868275Z",
     "start_time": "2021-05-18T23:55:58.767577Z"
    }
   },
   "outputs": [],
   "source": [
    "# the map_location is needed if the model was trained on a GPU \n",
    "# and this model is run on a gpu\n",
    "cell_classifier_wts = torch.load(\n",
    "    path + 'models/droog_100.pt',\n",
    "    map_location=torch.device('cpu')\n",
    ")"
   ]
  },
  {
   "cell_type": "code",
   "execution_count": null,
   "metadata": {
    "ExecuteTime": {
     "end_time": "2021-05-18T23:55:58.960503Z",
     "start_time": "2021-05-18T23:55:58.871237Z"
    }
   },
   "outputs": [],
   "source": [
    "cell_encoder.load_state_dict(cell_classifier_wts)"
   ]
  },
  {
   "cell_type": "code",
   "execution_count": null,
   "metadata": {
    "ExecuteTime": {
     "end_time": "2021-05-18T23:55:59.047599Z",
     "start_time": "2021-05-18T23:55:58.963891Z"
    }
   },
   "outputs": [],
   "source": [
    "cell_encoder"
   ]
  },
  {
   "cell_type": "code",
   "execution_count": null,
   "metadata": {
    "ExecuteTime": {
     "end_time": "2021-05-18T23:55:59.137673Z",
     "start_time": "2021-05-18T23:55:59.050736Z"
    }
   },
   "outputs": [],
   "source": [
    "dims_conv = [18, 256, 128]\n",
    "dims_linear = [128, 64, 37]\n",
    "molecule_encoder = mm.GraphConvNetwork(dims_conv, dims_linear)"
   ]
  },
  {
   "cell_type": "code",
   "execution_count": null,
   "metadata": {
    "ExecuteTime": {
     "end_time": "2021-05-18T23:55:59.220967Z",
     "start_time": "2021-05-18T23:55:59.141572Z"
    }
   },
   "outputs": [],
   "source": [
    "mol_encoder_wts = torch.load(path + 'models/gcn_drugbank_chem.pt')"
   ]
  },
  {
   "cell_type": "code",
   "execution_count": null,
   "metadata": {
    "ExecuteTime": {
     "end_time": "2021-05-18T23:55:59.308807Z",
     "start_time": "2021-05-18T23:55:59.224663Z"
    }
   },
   "outputs": [],
   "source": [
    "molecule_encoder.load_state_dict(mol_encoder_wts)"
   ]
  },
  {
   "cell_type": "markdown",
   "metadata": {},
   "source": [
    "### Initialize `JointEmbedding` model "
   ]
  },
  {
   "cell_type": "markdown",
   "metadata": {},
   "source": [
    "The joint embedding takes as arguments the molecule and cell encoder respectively !"
   ]
  },
  {
   "cell_type": "code",
   "execution_count": null,
   "metadata": {
    "ExecuteTime": {
     "end_time": "2021-05-18T23:55:59.400923Z",
     "start_time": "2021-05-18T23:55:59.312856Z"
    }
   },
   "outputs": [],
   "source": [
    "joint_embedding = mm.JointEmbedding(molecule_encoder, cell_encoder)"
   ]
  },
  {
   "cell_type": "code",
   "execution_count": null,
   "metadata": {
    "ExecuteTime": {
     "end_time": "2021-05-18T23:55:59.494084Z",
     "start_time": "2021-05-18T23:55:59.404058Z"
    }
   },
   "outputs": [],
   "source": [
    "joint_embedding"
   ]
  },
  {
   "cell_type": "markdown",
   "metadata": {},
   "source": [
    "We can access the individual encoders because they're now attributes of this model. "
   ]
  },
  {
   "cell_type": "code",
   "execution_count": null,
   "metadata": {
    "ExecuteTime": {
     "end_time": "2021-05-18T23:55:59.581148Z",
     "start_time": "2021-05-18T23:55:59.497296Z"
    }
   },
   "outputs": [],
   "source": [
    "joint_embedding.molecule_encoder"
   ]
  },
  {
   "cell_type": "markdown",
   "metadata": {},
   "source": [
    "We can also access subparts from the molecule encoder, and so on and so forth. "
   ]
  },
  {
   "cell_type": "code",
   "execution_count": null,
   "metadata": {
    "ExecuteTime": {
     "end_time": "2021-05-18T23:55:59.668965Z",
     "start_time": "2021-05-18T23:55:59.584202Z"
    }
   },
   "outputs": [],
   "source": [
    "joint_embedding.molecule_encoder.conv_encoder"
   ]
  },
  {
   "cell_type": "markdown",
   "metadata": {},
   "source": [
    "### Train! "
   ]
  },
  {
   "cell_type": "markdown",
   "metadata": {},
   "source": [
    "The training procedure can be visualized in the following diagram. "
   ]
  },
  {
   "cell_type": "code",
   "execution_count": null,
   "metadata": {
    "ExecuteTime": {
     "end_time": "2021-05-18T23:55:59.760391Z",
     "start_time": "2021-05-18T23:55:59.672687Z"
    }
   },
   "outputs": [],
   "source": [
    "from IPython.display import Image"
   ]
  },
  {
   "cell_type": "code",
   "execution_count": null,
   "metadata": {
    "ExecuteTime": {
     "end_time": "2021-05-18T23:55:59.843674Z",
     "start_time": "2021-05-18T23:55:59.763774Z"
    }
   },
   "outputs": [],
   "source": [
    "Image(\n",
    "    url = 'https://github.com/manuflores/sandbox/blob/master/figs/diag.png?raw=true',\n",
    "    format = 'png'\n",
    ")"
   ]
  },
  {
   "cell_type": "markdown",
   "metadata": {},
   "source": [
    "In math notation we have the following: "
   ]
  },
  {
   "cell_type": "markdown",
   "metadata": {},
   "source": [
    "$$\n",
    "\\mathbf{C} \\in \\mathbb{R}^{\\text {cells} \\times \\text {genes} } \\text { (count matrix)}\\\\[1.em]\n",
    "\\mathbf {\\Psi} = f(\\mathbf{C}) \\in \\mathbb{R}^{\\text {cells} \\times k } \\text { (cell embeddings)} \\\\[1.em]\n",
    "\\mathbf{M} \\in \\mathbb{R}^{\\text {molecules} \\times \\text {atom features} } \\text { (molecule feature matrix)} \\\\[1.em]\n",
    "\\mathbf {\\Phi} = g(\\mathbf{M}) \\in \\mathbb{R}^{\\text {molecules} \\times k } \\text { (molecule embeddings)} \\\\[1.em]\n",
    "\\mathbf {\\Lambda} = \\tilde{\\mathbf {\\Phi}} \\tilde{\\mathbf {\\Psi}} ^\\top \\in \\mathbb{R}^{\\text {molecules} \\times \\text {cells}  } \\\\[1.em]\n",
    "\\mathbf {\\Lambda}_{ij} = \\mathrm{cos}(\\theta)_ {\\text {molecule}_i \\text {cell}_j}\n",
    "$$\n",
    "\n",
    "\n",
    "$$\n",
    "\\text{where } \\tilde{\\mathbf {\\Phi}} \\text{ and } \\tilde{\\mathbf {\\Psi}} \\text{ are the rows of the cell embedding matrix , i.e.} \\\\[1em]\n",
    "\\tilde{\\mathbf {\\phi}}_{i} = \\frac{\\phi_i}{ \\sqrt{ \\phi_i^\\top \\phi_i }}\n",
    "$$\n",
    "\n",
    "\n",
    "$$\\text{where } \\phi_i \\text{ is the row vector} \\in \\mathbb{R}^{1 \\times k} \\text{embedding of molecule } i \\text{ in the original embedding matrix } \\mathbf {\\Phi }.$$"
   ]
  },
  {
   "cell_type": "markdown",
   "metadata": {},
   "source": [
    "Here $f$ is the cell encoder and $g$ is the molecule encoder. The softmax function then turns the $\\Lambda$ matrix into probability distributions across columns and rows. "
   ]
  },
  {
   "cell_type": "markdown",
   "metadata": {},
   "source": [
    "We will go through the whole training loop in the notebook to make it more explicit as this is important. First, let's set up our training parameters."
   ]
  },
  {
   "cell_type": "code",
   "execution_count": null,
   "metadata": {
    "ExecuteTime": {
     "end_time": "2021-05-18T23:55:59.931750Z",
     "start_time": "2021-05-18T23:55:59.847066Z"
    }
   },
   "outputs": [],
   "source": [
    "optimizer = torch.optim.Adam(joint_embedding.parameters(), lr = 1e-3, weight_decay = 0)\n",
    "\n",
    "n_epochs = 3\n",
    "train_prints_per_epoch = 4\n",
    "\n",
    "# How many times print loss per epoch\n",
    "print_every = np.floor(\n",
    "    train_adata.n_obs / batch_size / train_prints_per_epoch\n",
    ")\n",
    "\n",
    "train_loss_vector = [] # to store training loss\n",
    "val_loss_vector = np.empty(shape = n_epochs) # and validation loss"
   ]
  },
  {
   "cell_type": "markdown",
   "metadata": {},
   "source": [
    "In the current implementation we don't use a one-hot vectors because of the signature call of the `NLLLoss()` function instead of the cross entropy loss, because it's more numerically stable.  Rather our ordering labels are just a list of integers $(1, 2, ..., \\text{batch_size})$."
   ]
  },
  {
   "cell_type": "code",
   "execution_count": null,
   "metadata": {
    "ExecuteTime": {
     "end_time": "2021-05-18T23:56:00.026581Z",
     "start_time": "2021-05-18T23:55:59.934722Z"
    }
   },
   "outputs": [],
   "source": [
    "# The ordering labels will be the ranking indicators\n",
    "ordering_labels = torch.arange(batch_size)\n",
    "#ordering_labels_hot = torch.eye(batch_size)\n",
    "#F.one_hot(torch.from_numpy(ordering_labels))\n",
    "\n",
    "ordering_labels"
   ]
  },
  {
   "cell_type": "code",
   "execution_count": null,
   "metadata": {
    "ExecuteTime": {
     "end_time": "2021-05-18T23:56:00.119608Z",
     "start_time": "2021-05-18T23:56:00.030371Z"
    }
   },
   "outputs": [],
   "source": [
    "criterion = nn.NLLLoss()"
   ]
  },
  {
   "cell_type": "markdown",
   "metadata": {},
   "source": [
    "Now, we can finally make the training loop. "
   ]
  },
  {
   "cell_type": "code",
   "execution_count": null,
   "metadata": {
    "ExecuteTime": {
     "start_time": "2021-05-18T23:55:43.083Z"
    }
   },
   "outputs": [],
   "source": [
    "for epoch in np.arange(n_epochs):\n",
    "    # TRAINING LOOP \n",
    "    running_loss = 0\n",
    "    \n",
    "    joint_embedding.train()\n",
    "    \n",
    "    train_acc_vector = np.zeros(int(train_adata.n_obs / batch_size))\n",
    "    \n",
    "    # y_true are the drug numerical labels\n",
    "    for ix, (cell_batch, y_true) in tqdm.tqdm(enumerate(train_loader)):\n",
    "\n",
    "        joint_embedding.zero_grad()\n",
    "        \n",
    "        # Make batch of molecular graphs\n",
    "        molecule_batch = Batch.from_data_list(get_drug_batch(y_true))\n",
    "    \n",
    "        # Get cosine similarities\n",
    "        logits = joint_embedding(\n",
    "            molecule_batch,\n",
    "            cell_batch.view(batch_size, -1).float()\n",
    "        )\n",
    "        \n",
    "        # Get classification predictions across axes \n",
    "        # returns tensor of shape (mols, cells)\n",
    "        y_pred_mols = F.log_softmax(logits, dim = 1)\n",
    "        y_pred_cells = F.log_softmax(logits, dim = 0)\n",
    "        \n",
    "        # Compute error and average\n",
    "        loss_mols = criterion(y_pred_mols, ordering_labels)\n",
    "        loss_cells = criterion(y_pred_cells, ordering_labels)\n",
    "        \n",
    "        loss = (loss_mols + loss_cells)/2\n",
    "        \n",
    "        # Backprop and update weights\n",
    "        loss.backward()\n",
    "        optimizer.step()\n",
    "        \n",
    "        running_loss += loss.item()\n",
    "        \n",
    "        cell_acc = mu.accuracy(y_pred_cells.argmax(axis = 1), ordering_labels)\n",
    "        mol_acc = mu.accuracy(y_pred_mols.argmax(axis =1), ordering_labels)\n",
    "\n",
    "        train_acc = (cell_acc + mol_acc)/ 2\n",
    "        train_acc_vector[ix]= train_acc\n",
    "        \n",
    "        \n",
    "        if ix % print_every == print_every -1 :\n",
    "\n",
    "            # Print average loss\n",
    "            print('[%d, %5d] Loss: %.3f' %\n",
    "                  (epoch + 1, ix+1, running_loss / print_every))\n",
    "\n",
    "            train_loss_vector.append(running_loss / print_every)\n",
    "\n",
    "            # Reinitialize loss\n",
    "            running_loss = 0.0\n",
    "    \n",
    "    \n",
    "    mean_acc = np.mean(train_acc_vector)\n",
    "    print('Mean training accuracy : %.3f'%(mean_acc*100))\n",
    "    \n",
    "    # VALIDATION LOOP\n",
    "    with torch.no_grad():\n",
    "        validation_loss = []\n",
    "        \n",
    "        val_acc = np.zeros(int(test_adata.n_obs / batch_size))\n",
    "        val_top_acc = np.zeros(int(test_adata.n_obs / batch_size))\n",
    "        \n",
    "        for ix, (cell_batch, y_true) in tqdm.tqdm(enumerate(val_loader)):\n",
    "\n",
    "            # Make batch of molecular graphs\n",
    "            molecule_batch = Batch.from_data_list(get_drug_batch(y_true))\n",
    "\n",
    "            logits = joint_embedding(\n",
    "                molecule_batch,\n",
    "                cell_batch.view(batch_size, -1).float()\n",
    "            )\n",
    "            \n",
    "            # Get classification predictions across axes \n",
    "            # returns tensor of shape (mols, cells)\n",
    "            y_pred_mols = F.log_softmax(logits, dim = 1)\n",
    "            y_pred_cells = F.log_softmax(logits, dim = 0)\n",
    "            \n",
    "            cell_acc = mu.accuracy(y_pred_cells.argmax(axis = 1), ordering_labels)\n",
    "            mol_acc = mu.accuracy(y_pred_mols.argmax(axis =1), ordering_labels)\n",
    "            \n",
    "            validation_acc = (cell_acc + mol_acc)/ 2\n",
    "            val_acc[ix]= validation_acc\n",
    "            \n",
    "            loss_mols = criterion(y_pred_mols, ordering_labels)\n",
    "            loss_cells = criterion(y_pred_cells, ordering_labels)\n",
    "            \n",
    "            val_loss = (loss_cells + loss_mols)/2\n",
    "            \n",
    "            validation_loss.append(val_loss)\n",
    "            \n",
    "        mean_val_loss = torch.tensor(validation_loss).mean().item()\n",
    "        print('Val. loss %.3f'% mean_val_loss)\n",
    "        \n",
    "        # Record the epoch's mean validation loss\n",
    "        val_loss_vector[epoch] = mean_val_loss\n",
    "        \n",
    "        mean_acc = np.mean(val_acc)\n",
    "        print('Val. accuracy : %.3f'%(mean_acc*100))"
   ]
  },
  {
   "cell_type": "markdown",
   "metadata": {},
   "source": [
    "Save model. "
   ]
  },
  {
   "cell_type": "code",
   "execution_count": null,
   "metadata": {
    "ExecuteTime": {
     "start_time": "2021-05-18T23:55:43.087Z"
    }
   },
   "outputs": [],
   "source": [
    "#torch.save(joint_embedding.state_dict(), path + 'models/joint_emb.pt')"
   ]
  },
  {
   "cell_type": "markdown",
   "metadata": {},
   "source": [
    "### Visualize molecules in the new embedding space"
   ]
  },
  {
   "cell_type": "code",
   "execution_count": null,
   "metadata": {
    "ExecuteTime": {
     "start_time": "2021-05-18T23:55:43.090Z"
    }
   },
   "outputs": [],
   "source": [
    "#drugs_oob.shape\n",
    "df_drugs.head(2)"
   ]
  },
  {
   "cell_type": "code",
   "execution_count": null,
   "metadata": {
    "ExecuteTime": {
     "start_time": "2021-05-18T23:55:43.093Z"
    }
   },
   "outputs": [],
   "source": [
    "all_data = [mc.mol2tensors(m) for m in tqdm.tqdm(df_drugs.mol.values)]\n",
    "proj_loader = geom_dataloader(all_data, batch_size = 32, shuffle = False, drop_last = False)"
   ]
  },
  {
   "cell_type": "code",
   "execution_count": null,
   "metadata": {
    "ExecuteTime": {
     "start_time": "2021-05-18T23:55:43.095Z"
    }
   },
   "outputs": [],
   "source": [
    "type(proj_loader)"
   ]
  },
  {
   "cell_type": "code",
   "execution_count": null,
   "metadata": {
    "ExecuteTime": {
     "start_time": "2021-05-18T23:55:43.098Z"
    }
   },
   "outputs": [],
   "source": [
    "# Make projection to second to last layer\n",
    "with torch.no_grad():\n",
    "    joint_embedding.eval()\n",
    "    projection_arr = np.array(\n",
    "        list(\n",
    "            joint_embedding.molecule_encoder.project_to_latent_space(\n",
    "                proj_loader, dims_conv[0], dims_linear[-2]\n",
    "            )\n",
    "        )\n",
    "    )"
   ]
  },
  {
   "cell_type": "code",
   "execution_count": null,
   "metadata": {
    "ExecuteTime": {
     "start_time": "2021-05-18T23:55:43.100Z"
    }
   },
   "outputs": [],
   "source": [
    "df_proj = pd.DataFrame(\n",
    "    projection_arr, columns = ['dim_' + str(i) for i in range(1, dims_linear[-2] +1)]\n",
    ")\n",
    "\n",
    "df_viz = pd.concat(\n",
    "    [df_drugs, df_proj.set_index(df_drugs.index)], axis = 1\n",
    ")"
   ]
  },
  {
   "cell_type": "code",
   "execution_count": null,
   "metadata": {
    "ExecuteTime": {
     "start_time": "2021-05-18T23:55:43.104Z"
    }
   },
   "outputs": [],
   "source": [
    "df_viz.head(2)"
   ]
  },
  {
   "cell_type": "code",
   "execution_count": null,
   "metadata": {
    "ExecuteTime": {
     "start_time": "2021-05-18T23:55:43.107Z"
    }
   },
   "outputs": [],
   "source": [
    "from sklearn.decomposition import PCA \n",
    "\n",
    "pca_obj = PCA()\n",
    "\n",
    "pca_obj.fit(projection_arr)"
   ]
  },
  {
   "cell_type": "code",
   "execution_count": null,
   "metadata": {
    "ExecuteTime": {
     "start_time": "2021-05-18T23:55:43.111Z"
    }
   },
   "outputs": [],
   "source": [
    "var_ratio = np.cumsum(pca_obj.explained_variance_ratio_)\n",
    "\n",
    "plt.plot(var_ratio)\n",
    "plt.xlabel('number of components')\n",
    "plt.ylabel('fraction of explained variance')"
   ]
  },
  {
   "cell_type": "code",
   "execution_count": null,
   "metadata": {
    "ExecuteTime": {
     "start_time": "2021-05-18T23:55:43.114Z"
    }
   },
   "outputs": [],
   "source": [
    "pcs = PCA(2).fit_transform(projection_arr)"
   ]
  },
  {
   "cell_type": "code",
   "execution_count": null,
   "metadata": {
    "ExecuteTime": {
     "start_time": "2021-05-18T23:55:43.116Z"
    }
   },
   "outputs": [],
   "source": [
    "df_viz['pc1'], df_viz['pc2'] = pcs.T"
   ]
  },
  {
   "cell_type": "code",
   "execution_count": null,
   "metadata": {
    "ExecuteTime": {
     "start_time": "2021-05-18T23:55:43.120Z"
    }
   },
   "outputs": [],
   "source": [
    "df_viz.hvplot.scatter(\n",
    "    x = 'pc1', \n",
    "    y = 'pc2',\n",
    "    #y = ['dim_2', 'dim_3'],\n",
    "    c= 'drug_class',\n",
    "    hover_cols = ['name'],\n",
    "    #subplots = True,\n",
    "    width = 700,\n",
    "    height = 480, \n",
    "    size = 60, \n",
    "    alpha =.9\n",
    ")"
   ]
  },
  {
   "cell_type": "code",
   "execution_count": null,
   "metadata": {
    "ExecuteTime": {
     "start_time": "2021-05-18T23:55:43.124Z"
    }
   },
   "outputs": [],
   "source": [
    "df_viz.hvplot.scatter(\n",
    "    x = 'dim_1', \n",
    "    y = 'dim_64',\n",
    "    #y = ['dim_2', 'dim_3'],\n",
    "    c= 'drug_class',\n",
    "    hover_cols = ['name'],\n",
    "    #subplots = True,\n",
    "    width = 700,\n",
    "    height = 480, \n",
    "    size = 60, \n",
    "    alpha =.9\n",
    ")"
   ]
  },
  {
   "cell_type": "markdown",
   "metadata": {},
   "source": [
    "### Nearest neighbor search"
   ]
  },
  {
   "cell_type": "markdown",
   "metadata": {},
   "source": [
    "We can compare the chemical only embedding, with the joint embedding by nearest neighbor search : the idea is the nearest neighbors should be different in both embeddings if the change in the encoders is substantial. \n",
    "\n",
    "We will make nearest neighbor search of molecules within our dataset, but we could in theory encode all drugs from Chembl or Drugbank and compute nearest neighbor in this expanded chemical space. "
   ]
  },
  {
   "cell_type": "code",
   "execution_count": null,
   "metadata": {
    "ExecuteTime": {
     "start_time": "2021-05-18T23:55:43.127Z"
    }
   },
   "outputs": [],
   "source": [
    "from sklearn.neighbors import NearestNeighbors\n",
    "\n",
    "knn = NearestNeighbors(n_neighbors = 10).fit(projection_arr)"
   ]
  },
  {
   "cell_type": "code",
   "execution_count": null,
   "metadata": {
    "ExecuteTime": {
     "start_time": "2021-05-18T23:55:43.129Z"
    }
   },
   "outputs": [],
   "source": [
    "%%time\n",
    "neighbors = knn.kneighbors()"
   ]
  },
  {
   "cell_type": "code",
   "execution_count": null,
   "metadata": {
    "ExecuteTime": {
     "start_time": "2021-05-18T23:55:43.132Z"
    }
   },
   "outputs": [],
   "source": [
    "neighbor_ixs = neighbors[1]"
   ]
  },
  {
   "cell_type": "code",
   "execution_count": null,
   "metadata": {
    "ExecuteTime": {
     "start_time": "2021-05-18T23:55:43.134Z"
    }
   },
   "outputs": [],
   "source": [
    "df_viz.reset_index(drop=True, inplace=True)"
   ]
  },
  {
   "cell_type": "code",
   "execution_count": null,
   "metadata": {
    "ExecuteTime": {
     "start_time": "2021-05-18T23:55:43.137Z"
    }
   },
   "outputs": [],
   "source": [
    "def get_neighbors(df, sample_name, sort = True):\n",
    "    \"Returns a dataframe with nearest neighbor information sorted by subclass.\"\n",
    "    ix_query = df[df['name'] == sample_name].index[0]\n",
    "    ix_neighbors = neighbor_ixs[ix_query]\n",
    "    if sort:\n",
    "        return df.iloc[ix_neighbors].sort_values(by = 'subclass')\n",
    "    else: \n",
    "        return df.iloc[ix_neighbors]"
   ]
  },
  {
   "cell_type": "code",
   "execution_count": null,
   "metadata": {
    "ExecuteTime": {
     "start_time": "2021-05-18T23:55:43.142Z"
    }
   },
   "outputs": [],
   "source": [
    "get_neighbors(df_viz, 'Dasatinib', sort = False)"
   ]
  },
  {
   "cell_type": "code",
   "execution_count": null,
   "metadata": {
    "ExecuteTime": {
     "start_time": "2021-05-18T23:55:43.146Z"
    }
   },
   "outputs": [],
   "source": [
    "get_neighbors(df_viz, 'Nilotinib', sort = False)"
   ]
  },
  {
   "cell_type": "code",
   "execution_count": null,
   "metadata": {
    "ExecuteTime": {
     "start_time": "2021-05-18T23:55:43.151Z"
    }
   },
   "outputs": [],
   "source": [
    "get_neighbors(df_viz, 'Vorinostat', sort = False)"
   ]
  },
  {
   "cell_type": "markdown",
   "metadata": {},
   "source": [
    "### Save embeddings"
   ]
  },
  {
   "cell_type": "code",
   "execution_count": null,
   "metadata": {
    "ExecuteTime": {
     "start_time": "2021-05-18T23:55:43.154Z"
    }
   },
   "outputs": [],
   "source": [
    "#df_viz.to_csv(path + 'joint_emb.csv', index = False)"
   ]
  },
  {
   "cell_type": "markdown",
   "metadata": {},
   "source": [
    "### Reproducibility"
   ]
  },
  {
   "cell_type": "code",
   "execution_count": null,
   "metadata": {
    "ExecuteTime": {
     "start_time": "2021-05-18T23:55:43.157Z"
    }
   },
   "outputs": [],
   "source": [
    "%load_ext watermark\n",
    "%watermark -m -v -p numpy,torch,anndata,sklearn,holoviews,hvplot,matplotlib,rdkit"
   ]
  },
  {
   "cell_type": "code",
   "execution_count": null,
   "metadata": {},
   "outputs": [],
   "source": []
  }
 ],
 "metadata": {
  "kernelspec": {
   "display_name": "Python [conda env:boltzmann] *",
   "language": "python",
   "name": "conda-env-boltzmann-py"
  },
  "language_info": {
   "codemirror_mode": {
    "name": "ipython",
    "version": 3
   },
   "file_extension": ".py",
   "mimetype": "text/x-python",
   "name": "python",
   "nbconvert_exporter": "python",
   "pygments_lexer": "ipython3",
   "version": "3.7.9"
  },
  "toc": {
   "base_numbering": 1,
   "nav_menu": {},
   "number_sections": true,
   "sideBar": true,
   "skip_h1_title": false,
   "title_cell": "Table of Contents",
   "title_sidebar": "Contents",
   "toc_cell": false,
   "toc_position": {},
   "toc_section_display": true,
   "toc_window_display": false
  },
  "varInspector": {
   "cols": {
    "lenName": 16,
    "lenType": 16,
    "lenVar": 40
   },
   "kernels_config": {
    "python": {
     "delete_cmd_postfix": "",
     "delete_cmd_prefix": "del ",
     "library": "var_list.py",
     "varRefreshCmd": "print(var_dic_list())"
    },
    "r": {
     "delete_cmd_postfix": ") ",
     "delete_cmd_prefix": "rm(",
     "library": "var_list.r",
     "varRefreshCmd": "cat(var_dic_list()) "
    }
   },
   "types_to_exclude": [
    "module",
    "function",
    "builtin_function_or_method",
    "instance",
    "_Feature"
   ],
   "window_display": false
  }
 },
 "nbformat": 4,
 "nbformat_minor": 4
}

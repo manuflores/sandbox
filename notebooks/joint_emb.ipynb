{
 "cells": [
  {
   "cell_type": "code",
   "execution_count": null,
   "metadata": {
    "ExecuteTime": {
     "end_time": "2021-05-13T02:28:41.225278Z",
     "start_time": "2021-05-13T02:28:40.926432Z"
    }
   },
   "outputs": [],
   "source": [
    "%load_ext blackcellmagic\n",
    "%load_ext autoreload\n",
    "%autoreload 2\n",
    "\n",
    "import tqdm\n",
    "from sklearn import metrics \n",
    "import numpy as np\n",
    "import pandas as pd\n",
    "import matplotlib.pyplot as plt\n",
    "import holoviews as hv \n",
    "hv.extension('bokeh')\n",
    "import hvplot.pandas\n",
    "import seaborn as sns\n",
    "\n",
    "%matplotlib inline\n",
    "%config InlineBackend.figure_format = 'svg'\n",
    "\n",
    "import torch\n",
    "import torch.nn as nn\n",
    "import torch.nn.functional as F\n",
    "from torch.nn import Linear\n",
    "from torch.nn import BatchNorm1d\n",
    "from torch.utils.data import Dataset\n",
    "\n",
    "from torch_geometric.nn import global_add_pool, global_mean_pool\n",
    "\n",
    "from rdkit import Chem\n",
    "from rdkit.Chem import AllChem\n",
    "from rdkit.Chem.Draw import IPythonConsole\n",
    "from rdkit.Chem import Draw\n",
    "from torch_geometric.nn import GCNConv\n",
    "#from torch_geometric.nn import ChebConv\n",
    "\n",
    "import warnings \n",
    "warnings.filterwarnings('ignore')\n",
    "\n",
    "from torch_geometric.data import Batch\n",
    "from torch_geometric.data import DataLoader as geom_dataloader\n",
    "from torch_geometric.data import Data as geom_data\n",
    "\n",
    "from torchvision import transforms\n",
    "from torch.utils.data import IterableDataset, DataLoader\n",
    "\n",
    "import anndata as ad"
   ]
  },
  {
   "cell_type": "code",
   "execution_count": null,
   "metadata": {
    "ExecuteTime": {
     "end_time": "2021-05-13T02:30:56.937709Z",
     "start_time": "2021-05-13T02:30:56.846499Z"
    }
   },
   "outputs": [],
   "source": [
    "seed = 78364\n",
    "torch.manual_seed(seed)\n",
    "np.random.seed(seed)"
   ]
  },
  {
   "cell_type": "code",
   "execution_count": null,
   "metadata": {
    "ExecuteTime": {
     "end_time": "2021-05-13T02:29:14.869800Z",
     "start_time": "2021-05-13T02:29:14.780487Z"
    }
   },
   "outputs": [],
   "source": [
    "from magma import chemspace as mc\n",
    "from magma import utils as mu\n",
    "from magma import models as mm\n",
    "mu.set_plotting_style_plt()"
   ]
  },
  {
   "cell_type": "markdown",
   "metadata": {},
   "source": [
    "All right ! We're finally in the last step of the model building: using contrastive learning to construct an inner product space a.k.a. the joint embedding! Operationally, we will be using the same datasets as before, so we're good to go. "
   ]
  },
  {
   "cell_type": "markdown",
   "metadata": {},
   "source": [
    "### Load cell dataset"
   ]
  },
  {
   "cell_type": "markdown",
   "metadata": {},
   "source": [
    "First-off, let's load the cell dataset and perform the same pipeline we've been using to perform the train-test split. "
   ]
  },
  {
   "cell_type": "code",
   "execution_count": null,
   "metadata": {
    "ExecuteTime": {
     "end_time": "2021-05-13T02:29:25.956801Z",
     "start_time": "2021-05-13T02:29:25.863681Z"
    }
   },
   "outputs": [],
   "source": [
    "# Write down the path to the cell dataset\n",
    "path = '../../thomson_lab/data/drugbank/'"
   ]
  },
  {
   "cell_type": "code",
   "execution_count": null,
   "metadata": {
    "ExecuteTime": {
     "end_time": "2021-05-13T02:30:30.500349Z",
     "start_time": "2021-05-13T02:30:30.226996Z"
    }
   },
   "outputs": [],
   "source": [
    "a = ad.read_h5ad(path + 'mult_cd3_100_train.h5ad')"
   ]
  },
  {
   "cell_type": "code",
   "execution_count": null,
   "metadata": {
    "ExecuteTime": {
     "end_time": "2021-05-13T02:30:35.258880Z",
     "start_time": "2021-05-13T02:30:32.744380Z"
    }
   },
   "outputs": [],
   "source": [
    "%%time\n",
    "n_samples = 500\n",
    "\n",
    "sampling_ix = (\n",
    "    a.obs.groupby([\"sample_id\"])\n",
    "    .apply(\n",
    "        lambda group_df: group_df.sample(\n",
    "            group_df.shape[0] if group_df.shape[0] < n_samples else n_samples,\n",
    "            replace = False)\n",
    "    )\n",
    "    .index.get_level_values(1) # Get the numerical index :) \n",
    ")"
   ]
  },
  {
   "cell_type": "code",
   "execution_count": null,
   "metadata": {
    "ExecuteTime": {
     "end_time": "2021-05-13T02:31:00.044171Z",
     "start_time": "2021-05-13T02:30:59.815822Z"
    }
   },
   "outputs": [],
   "source": [
    "ada = a[sampling_ix].copy()"
   ]
  },
  {
   "cell_type": "code",
   "execution_count": null,
   "metadata": {
    "ExecuteTime": {
     "end_time": "2021-05-13T02:31:00.276177Z",
     "start_time": "2021-05-13T02:31:00.187689Z"
    }
   },
   "outputs": [],
   "source": [
    "ada.obs.sample_id.value_counts(False).head()"
   ]
  },
  {
   "cell_type": "code",
   "execution_count": null,
   "metadata": {
    "ExecuteTime": {
     "end_time": "2021-05-13T02:31:01.511115Z",
     "start_time": "2021-05-13T02:31:01.421081Z"
    }
   },
   "outputs": [],
   "source": [
    "ada.obs.sample_id.value_counts(False).tail()"
   ]
  },
  {
   "cell_type": "code",
   "execution_count": null,
   "metadata": {
    "ExecuteTime": {
     "end_time": "2021-05-13T02:31:04.178899Z",
     "start_time": "2021-05-13T02:31:04.088235Z"
    }
   },
   "outputs": [],
   "source": [
    "codes, uniques = pd.factorize(ada.obs.drug_name)"
   ]
  },
  {
   "cell_type": "code",
   "execution_count": null,
   "metadata": {
    "ExecuteTime": {
     "end_time": "2021-05-13T02:31:06.447858Z",
     "start_time": "2021-05-13T02:31:06.358487Z"
    }
   },
   "outputs": [],
   "source": [
    "ada.obs['sample_code'] = codes"
   ]
  },
  {
   "cell_type": "markdown",
   "metadata": {},
   "source": [
    "Now, let's make a dictionary that takes in the numerical indices and returns the name of the sample. This will help us to retrieve the drugs for the corresponding cells during training."
   ]
  },
  {
   "cell_type": "code",
   "execution_count": null,
   "metadata": {
    "ExecuteTime": {
     "end_time": "2021-05-13T03:15:09.248391Z",
     "start_time": "2021-05-13T03:15:09.137514Z"
    }
   },
   "outputs": [],
   "source": [
    "code_to_name = dict(ada.obs[['sample_code', 'drug_name']].values)"
   ]
  },
  {
   "cell_type": "code",
   "execution_count": null,
   "metadata": {
    "ExecuteTime": {
     "end_time": "2021-05-13T03:15:10.115311Z",
     "start_time": "2021-05-13T03:15:10.026133Z"
    }
   },
   "outputs": [],
   "source": [
    "code_to_name[1]"
   ]
  },
  {
   "cell_type": "code",
   "execution_count": null,
   "metadata": {
    "ExecuteTime": {
     "end_time": "2021-05-13T02:33:10.463078Z",
     "start_time": "2021-05-13T02:33:10.373446Z"
    }
   },
   "outputs": [],
   "source": [
    "code_to_name[99]"
   ]
  },
  {
   "cell_type": "code",
   "execution_count": null,
   "metadata": {
    "ExecuteTime": {
     "end_time": "2021-05-13T02:33:15.229875Z",
     "start_time": "2021-05-13T02:33:15.140200Z"
    }
   },
   "outputs": [],
   "source": [
    "uniques = uniques.to_list()"
   ]
  },
  {
   "cell_type": "code",
   "execution_count": null,
   "metadata": {
    "ExecuteTime": {
     "end_time": "2021-05-13T02:33:15.748552Z",
     "start_time": "2021-05-13T02:33:15.661079Z"
    }
   },
   "outputs": [],
   "source": [
    "uniques[:5]"
   ]
  },
  {
   "cell_type": "code",
   "execution_count": null,
   "metadata": {
    "ExecuteTime": {
     "end_time": "2021-05-13T02:33:16.161872Z",
     "start_time": "2021-05-13T02:33:16.074055Z"
    }
   },
   "outputs": [],
   "source": [
    "len(uniques)"
   ]
  },
  {
   "cell_type": "code",
   "execution_count": null,
   "metadata": {
    "ExecuteTime": {
     "end_time": "2021-05-13T03:11:59.457297Z",
     "start_time": "2021-05-13T03:11:59.368610Z"
    }
   },
   "outputs": [],
   "source": [
    "df_drugs.shape"
   ]
  },
  {
   "cell_type": "code",
   "execution_count": null,
   "metadata": {
    "ExecuteTime": {
     "end_time": "2021-05-13T03:11:52.957793Z",
     "start_time": "2021-05-13T03:11:52.858076Z"
    }
   },
   "outputs": [],
   "source": [
    "df_drugs.head()"
   ]
  },
  {
   "cell_type": "markdown",
   "metadata": {},
   "source": [
    "### Load molecules dataset "
   ]
  },
  {
   "cell_type": "code",
   "execution_count": null,
   "metadata": {
    "ExecuteTime": {
     "end_time": "2021-05-13T02:33:34.457508Z",
     "start_time": "2021-05-13T02:33:34.362610Z"
    }
   },
   "outputs": [],
   "source": [
    "path"
   ]
  },
  {
   "cell_type": "code",
   "execution_count": null,
   "metadata": {
    "ExecuteTime": {
     "end_time": "2021-05-13T03:13:04.285717Z",
     "start_time": "2021-05-13T03:13:04.191531Z"
    }
   },
   "outputs": [],
   "source": [
    "drugs = pd.read_csv(path + 'thomsonlab_drugs_smiles.csv')"
   ]
  },
  {
   "cell_type": "markdown",
   "metadata": {},
   "source": [
    "We will make the RDKit mol objects as in the GCN example. "
   ]
  },
  {
   "cell_type": "code",
   "execution_count": null,
   "metadata": {
    "ExecuteTime": {
     "end_time": "2021-05-13T03:13:12.373266Z",
     "start_time": "2021-05-13T03:13:12.179858Z"
    }
   },
   "outputs": [],
   "source": [
    "drugs['mol'] = drugs.SMILES.apply(Chem.MolFromSmiles)"
   ]
  },
  {
   "cell_type": "code",
   "execution_count": null,
   "metadata": {
    "ExecuteTime": {
     "end_time": "2021-05-13T03:15:44.164276Z",
     "start_time": "2021-05-13T03:15:44.083042Z"
    }
   },
   "outputs": [],
   "source": [
    "name_to_mol = dict(df_drugs[['drug_name', 'mol']].values)"
   ]
  },
  {
   "cell_type": "markdown",
   "metadata": {},
   "source": [
    "Finally, we need a helper function that given a list of numerical indices it returns the drugs as molecular graphs in the `torch_geometric` data type."
   ]
  },
  {
   "cell_type": "code",
   "execution_count": null,
   "metadata": {
    "ExecuteTime": {
     "end_time": "2021-05-13T03:16:03.310885Z",
     "start_time": "2021-05-13T03:16:03.225300Z"
    }
   },
   "outputs": [],
   "source": [
    "def get_drug_batch(labels_batch:list)->list:\n",
    "    \"Returns a list of torch.geometric Data object given a list of sample codes.\"\n",
    "    \n",
    "    drug_graphs = [\n",
    "        mc.mol2tensors(\n",
    "            name_to_mol[code_to_name[x.item()]]\n",
    "        ) for x in labels_batch\n",
    "    ]\n",
    "\n",
    "    return drug_graphs"
   ]
  },
  {
   "cell_type": "code",
   "execution_count": null,
   "metadata": {
    "ExecuteTime": {
     "end_time": "2021-05-13T03:16:50.589987Z",
     "start_time": "2021-05-13T03:16:50.501196Z"
    }
   },
   "outputs": [],
   "source": [
    "# make a test\n",
    "get_drug_batch(torch.LongTensor([1,2,3]))"
   ]
  },
  {
   "cell_type": "code",
   "execution_count": null,
   "metadata": {
    "ExecuteTime": {
     "end_time": "2021-05-13T03:13:24.831702Z",
     "start_time": "2021-05-13T03:13:24.742448Z"
    }
   },
   "outputs": [],
   "source": [
    "drugs.shape"
   ]
  },
  {
   "cell_type": "code",
   "execution_count": null,
   "metadata": {
    "ExecuteTime": {
     "end_time": "2021-05-13T03:13:35.682551Z",
     "start_time": "2021-05-13T03:13:35.590552Z"
    }
   },
   "outputs": [],
   "source": [
    "drugs['drug_name'] = drugs.name.str.lower()"
   ]
  },
  {
   "cell_type": "code",
   "execution_count": null,
   "metadata": {
    "ExecuteTime": {
     "end_time": "2021-05-13T03:13:41.294080Z",
     "start_time": "2021-05-13T03:13:41.202940Z"
    }
   },
   "outputs": [],
   "source": [
    "df_drugs = drugs[drugs.drug_name.isin(uniques)]"
   ]
  },
  {
   "cell_type": "code",
   "execution_count": null,
   "metadata": {
    "ExecuteTime": {
     "end_time": "2021-05-13T03:13:41.634058Z",
     "start_time": "2021-05-13T03:13:41.553267Z"
    }
   },
   "outputs": [],
   "source": [
    "df_drugs.shape"
   ]
  },
  {
   "cell_type": "code",
   "execution_count": null,
   "metadata": {
    "ExecuteTime": {
     "end_time": "2021-05-13T03:14:03.925932Z",
     "start_time": "2021-05-13T03:14:03.836513Z"
    }
   },
   "outputs": [],
   "source": [
    "# Out-of-bag (OOB)\n",
    "drugs_oob = drugs[~drugs.drug_name.isin(uniques)]"
   ]
  },
  {
   "cell_type": "code",
   "execution_count": null,
   "metadata": {
    "ExecuteTime": {
     "end_time": "2021-05-13T03:14:04.271934Z",
     "start_time": "2021-05-13T03:14:04.190398Z"
    }
   },
   "outputs": [],
   "source": [
    "drugs_oob.shape"
   ]
  },
  {
   "cell_type": "code",
   "execution_count": null,
   "metadata": {
    "ExecuteTime": {
     "end_time": "2021-05-13T03:14:07.873782Z",
     "start_time": "2021-05-13T03:14:07.788009Z"
    }
   },
   "outputs": [],
   "source": [
    "df_drugs.shape"
   ]
  },
  {
   "cell_type": "code",
   "execution_count": null,
   "metadata": {
    "ExecuteTime": {
     "end_time": "2021-05-13T02:34:17.113706Z",
     "start_time": "2021-05-13T02:34:16.916864Z"
    }
   },
   "outputs": [],
   "source": [
    "from sklearn.model_selection import StratifiedShuffleSplit\n",
    "\n",
    "# Initialize stratified sampler\n",
    "splitter = StratifiedShuffleSplit(n_splits = 1, test_size = 0.4, random_state = seed)\n",
    "\n",
    "ixs = list(splitter.split(ada.X, ada.obs[['cell_type', 'sample_code']]))\n",
    "\n",
    "train_ix, val_ix = ixs[0][0], ixs[0][1]"
   ]
  },
  {
   "cell_type": "markdown",
   "metadata": {},
   "source": [
    "### Make cell dataset and dataloader"
   ]
  },
  {
   "cell_type": "code",
   "execution_count": null,
   "metadata": {
    "ExecuteTime": {
     "end_time": "2021-05-13T02:34:37.619134Z",
     "start_time": "2021-05-13T02:34:37.375625Z"
    }
   },
   "outputs": [],
   "source": [
    "train_adata = ada[train_ix].copy()\n",
    "test_adata = ada[val_ix].copy()\n",
    "\n",
    "# Initialize torch dataset \n",
    "train_dataset = mu.adata_torch_dataset(\n",
    "    train_adata, transform = transforms.ToTensor(), supervised = True, target_col = 'sample_code'\n",
    ")\n",
    "\n",
    "test_dataset = mu.adata_torch_dataset(\n",
    "    test_adata, transform = transforms.ToTensor(), supervised = True, target_col = 'sample_code'\n",
    ")"
   ]
  },
  {
   "cell_type": "code",
   "execution_count": null,
   "metadata": {
    "ExecuteTime": {
     "end_time": "2021-05-13T02:34:38.344766Z",
     "start_time": "2021-05-13T02:34:38.245636Z"
    }
   },
   "outputs": [],
   "source": [
    "train_dataset[0]"
   ]
  },
  {
   "cell_type": "code",
   "execution_count": null,
   "metadata": {
    "ExecuteTime": {
     "end_time": "2021-05-13T02:34:39.062627Z",
     "start_time": "2021-05-13T02:34:38.974779Z"
    }
   },
   "outputs": [],
   "source": [
    "batch_size = 32 #increase batch size because of large dataset\n",
    "\n",
    "# Initialize DataLoader for minibatching \n",
    "train_loader = DataLoader(\n",
    "    train_dataset, batch_size = batch_size, drop_last = True, shuffle = False, num_workers =4\n",
    ")\n",
    "\n",
    "val_loader = DataLoader(\n",
    "    test_dataset, batch_size = batch_size, drop_last = True, shuffle = False, num_workers =4\n",
    ")"
   ]
  },
  {
   "cell_type": "markdown",
   "metadata": {},
   "source": [
    "### Initialize models with pre-trained weights "
   ]
  },
  {
   "cell_type": "markdown",
   "metadata": {},
   "source": [
    "Now, to make the joint embedding model, we initialize the cell and molecule encoders."
   ]
  },
  {
   "cell_type": "code",
   "execution_count": null,
   "metadata": {
    "ExecuteTime": {
     "end_time": "2021-05-13T02:35:29.473928Z",
     "start_time": "2021-05-13T02:35:29.384530Z"
    }
   },
   "outputs": [],
   "source": [
    "n_cats = len(uniques)\n",
    "n_genes = a.n_vars\n",
    "clf_dims = [n_genes, 512, 256, 64, n_cats]"
   ]
  },
  {
   "cell_type": "code",
   "execution_count": null,
   "metadata": {
    "ExecuteTime": {
     "end_time": "2021-05-13T02:35:33.902907Z",
     "start_time": "2021-05-13T02:35:33.797228Z"
    }
   },
   "outputs": [],
   "source": [
    "cell_encoder = mm.supervised_model(clf_dims, model = 'multiclass', dropout = False)"
   ]
  },
  {
   "cell_type": "code",
   "execution_count": null,
   "metadata": {
    "ExecuteTime": {
     "end_time": "2021-05-13T02:36:55.853048Z",
     "start_time": "2021-05-13T02:36:55.607967Z"
    }
   },
   "outputs": [],
   "source": [
    "!ls {path + 'models/' }"
   ]
  },
  {
   "cell_type": "code",
   "execution_count": null,
   "metadata": {
    "ExecuteTime": {
     "end_time": "2021-05-13T02:37:14.174085Z",
     "start_time": "2021-05-13T02:37:14.072359Z"
    }
   },
   "outputs": [],
   "source": [
    "# the map_location is needed if the model was trained on a GPU \n",
    "# and this model is run on a gpu\n",
    "cell_classifier_wts = torch.load(\n",
    "    path + 'models/droog_100.pt',\n",
    "    map_location=torch.device('cpu')\n",
    ")"
   ]
  },
  {
   "cell_type": "code",
   "execution_count": null,
   "metadata": {
    "ExecuteTime": {
     "end_time": "2021-05-13T02:37:15.727868Z",
     "start_time": "2021-05-13T02:37:15.637645Z"
    }
   },
   "outputs": [],
   "source": [
    "cell_encoder.load_state_dict(cell_classifier_wts)"
   ]
  },
  {
   "cell_type": "code",
   "execution_count": null,
   "metadata": {
    "ExecuteTime": {
     "end_time": "2021-05-13T02:37:16.638080Z",
     "start_time": "2021-05-13T02:37:16.545636Z"
    }
   },
   "outputs": [],
   "source": [
    "cell_encoder"
   ]
  },
  {
   "cell_type": "code",
   "execution_count": null,
   "metadata": {
    "ExecuteTime": {
     "end_time": "2021-05-13T02:37:28.237172Z",
     "start_time": "2021-05-13T02:37:28.144012Z"
    }
   },
   "outputs": [],
   "source": [
    "dims_conv = [18, 256, 128]\n",
    "dims_linear = [128, 64, 37]\n",
    "molecule_encoder = mm.GraphConvNetwork(dims_conv, dims_linear)"
   ]
  },
  {
   "cell_type": "code",
   "execution_count": null,
   "metadata": {
    "ExecuteTime": {
     "end_time": "2021-05-13T02:37:46.285977Z",
     "start_time": "2021-05-13T02:37:46.190379Z"
    }
   },
   "outputs": [],
   "source": [
    "mol_encoder_wts = torch.load(path + 'models/gcn_drugbank_chem.pt')"
   ]
  },
  {
   "cell_type": "code",
   "execution_count": null,
   "metadata": {
    "ExecuteTime": {
     "end_time": "2021-05-13T02:37:47.188333Z",
     "start_time": "2021-05-13T02:37:47.096265Z"
    }
   },
   "outputs": [],
   "source": [
    "molecule_encoder.load_state_dict(mol_encoder_wts)"
   ]
  },
  {
   "cell_type": "markdown",
   "metadata": {},
   "source": [
    "### Initialize `JointEmbedding` model "
   ]
  },
  {
   "cell_type": "markdown",
   "metadata": {},
   "source": [
    "The joint embedding takes as arguments the molecule and cell encoder respectively !"
   ]
  },
  {
   "cell_type": "code",
   "execution_count": null,
   "metadata": {
    "ExecuteTime": {
     "end_time": "2021-05-13T02:38:22.503200Z",
     "start_time": "2021-05-13T02:38:22.409153Z"
    }
   },
   "outputs": [],
   "source": [
    "joint_embedding = mm.JointEmbedding(molecule_encoder, cell_encoder)"
   ]
  },
  {
   "cell_type": "code",
   "execution_count": null,
   "metadata": {
    "ExecuteTime": {
     "end_time": "2021-05-13T02:38:22.933806Z",
     "start_time": "2021-05-13T02:38:22.846331Z"
    }
   },
   "outputs": [],
   "source": [
    "joint_embedding"
   ]
  },
  {
   "cell_type": "markdown",
   "metadata": {},
   "source": [
    "We can access the individual encoders because they're now attributes of this model. "
   ]
  },
  {
   "cell_type": "code",
   "execution_count": null,
   "metadata": {
    "ExecuteTime": {
     "end_time": "2021-05-13T02:38:59.353869Z",
     "start_time": "2021-05-13T02:38:59.261237Z"
    }
   },
   "outputs": [],
   "source": [
    "joint_embedding.molecule_encoder"
   ]
  },
  {
   "cell_type": "markdown",
   "metadata": {},
   "source": [
    "We can also access subparts from the molecule encoder, and so on and so forth. "
   ]
  },
  {
   "cell_type": "code",
   "execution_count": null,
   "metadata": {
    "ExecuteTime": {
     "end_time": "2021-05-13T02:39:07.630226Z",
     "start_time": "2021-05-13T02:39:07.539749Z"
    }
   },
   "outputs": [],
   "source": [
    "joint_embedding.molecule_encoder.conv_encoder"
   ]
  },
  {
   "cell_type": "markdown",
   "metadata": {},
   "source": [
    "### Train! "
   ]
  },
  {
   "cell_type": "markdown",
   "metadata": {},
   "source": [
    "The training procedure can be visualized in the following diagram. "
   ]
  },
  {
   "cell_type": "code",
   "execution_count": null,
   "metadata": {
    "ExecuteTime": {
     "end_time": "2021-05-13T02:43:10.230238Z",
     "start_time": "2021-05-13T02:43:10.128824Z"
    }
   },
   "outputs": [],
   "source": [
    "from IPython.display import Image"
   ]
  },
  {
   "cell_type": "code",
   "execution_count": null,
   "metadata": {
    "ExecuteTime": {
     "end_time": "2021-05-13T02:46:23.754807Z",
     "start_time": "2021-05-13T02:46:23.654645Z"
    }
   },
   "outputs": [],
   "source": [
    "Image(\n",
    "    url = 'https://github.com/manuflores/sandbox/blob/master/figs/diag.png?raw=true',\n",
    "    format = 'png'\n",
    ")"
   ]
  },
  {
   "cell_type": "markdown",
   "metadata": {},
   "source": [
    "In math notation we have the following: "
   ]
  },
  {
   "cell_type": "markdown",
   "metadata": {},
   "source": [
    "$$\n",
    "\\mathbf{C} \\in \\mathbb{R}^{\\text {cells} \\times \\text {genes} } \\text { (count matrix)}\\\\[1.em]\n",
    "\\mathbf {\\Psi} = f(\\mathbf{C}) \\in \\mathbb{R}^{\\text {cells} \\times k } \\text { (cell embeddings)} \\\\[1.em]\n",
    "\\mathbf{M} \\in \\mathbb{R}^{\\text {molecules} \\times \\text {atom features} } \\text { (molecule feature matrix)} \\\\[1.em]\n",
    "\\mathbf {\\Phi} = g(\\mathbf{M}) \\in \\mathbb{R}^{\\text {molecules} \\times k } \\text { (molecule embeddings)} \\\\[1.em]\n",
    "\\mathbf {\\Lambda} = \\tilde{\\mathbf {\\Phi}} \\tilde{\\mathbf {\\Psi}} ^\\top \\in \\mathbb{R}^{\\text {molecules} \\times \\text {cells}  } \\\\[1.em]\n",
    "\\mathbf {\\Lambda}_{ij} = \\mathrm{cos}(\\theta)_ {\\text {molecule}_i \\text {cell}_j}\n",
    "$$\n",
    "\n",
    "\n",
    "$$\n",
    "\\text{where } \\tilde{\\mathbf {\\Phi}} \\text{ and } \\tilde{\\mathbf {\\Psi}} \\text{ are the rows of the cell embedding matrix , i.e.} \\\\[1em]\n",
    "\\tilde{\\mathbf {\\phi}}_{i} = \\frac{\\phi_i}{ \\sqrt{ \\phi_i^\\top \\phi_i }}\n",
    "$$\n",
    "\n",
    "\n",
    "$$\\text{where } \\phi_i \\text{ is the row vector} \\in \\mathbb{R}^{1 \\times k} \\text{embedding of molecule } i \\text{ in the original embedding matrix } \\mathbf {\\Phi }.$$"
   ]
  },
  {
   "cell_type": "markdown",
   "metadata": {},
   "source": [
    "Here $f$ is the cell encoder and $g$ is the molecule encoder. The softmax function then turns the $\\Lambda$ matrix into probability distributions across columns and rows. "
   ]
  },
  {
   "cell_type": "markdown",
   "metadata": {},
   "source": [
    "We will go through the whole training loop in the notebook to make it more explicit as this is important. First, let's set up our training parameters."
   ]
  },
  {
   "cell_type": "code",
   "execution_count": null,
   "metadata": {
    "ExecuteTime": {
     "end_time": "2021-05-13T03:06:51.994751Z",
     "start_time": "2021-05-13T03:06:51.905080Z"
    }
   },
   "outputs": [],
   "source": [
    "optimizer = torch.optim.Adam(joint_embedding.parameters(), lr = 1e-3, weight_decay = 0)\n",
    "\n",
    "n_epochs = 3\n",
    "train_prints_per_epoch = 4\n",
    "\n",
    "# How many times print loss per epoch\n",
    "print_every = np.floor(\n",
    "    train_adata.n_obs / batch_size / train_prints_per_epoch\n",
    ")\n",
    "\n",
    "train_loss_vector = [] # to store training loss\n",
    "val_loss_vector = np.empty(shape = n_epochs) # and validation loss"
   ]
  },
  {
   "cell_type": "markdown",
   "metadata": {},
   "source": [
    "In the current implementation we don't use a one-hot vectors because of the signature call of the `NLLLoss()` function instead of the cross entropy loss, because it's more numerically stable.  Rather our ordering labels are just a list of integers $(1, 2, ..., \\text{batch_size})$."
   ]
  },
  {
   "cell_type": "code",
   "execution_count": null,
   "metadata": {
    "ExecuteTime": {
     "end_time": "2021-05-13T03:06:52.705987Z",
     "start_time": "2021-05-13T03:06:52.614617Z"
    }
   },
   "outputs": [],
   "source": [
    "# The ordering labels will be the ranking indicators\n",
    "ordering_labels = torch.arange(batch_size)\n",
    "#ordering_labels_hot = torch.eye(batch_size)\n",
    "#F.one_hot(torch.from_numpy(ordering_labels))\n",
    "\n",
    "ordering_labels"
   ]
  },
  {
   "cell_type": "code",
   "execution_count": null,
   "metadata": {
    "ExecuteTime": {
     "end_time": "2021-05-13T03:06:52.993956Z",
     "start_time": "2021-05-13T03:06:52.908395Z"
    }
   },
   "outputs": [],
   "source": [
    "criterion = nn.NLLLoss()"
   ]
  },
  {
   "cell_type": "markdown",
   "metadata": {},
   "source": [
    "Now, we can finally make the training loop. "
   ]
  },
  {
   "cell_type": "code",
   "execution_count": null,
   "metadata": {
    "ExecuteTime": {
     "end_time": "2021-05-13T03:08:55.052679Z",
     "start_time": "2021-05-13T03:08:54.967863Z"
    }
   },
   "outputs": [],
   "source": [
    "train_adata.n_obs / batch_size"
   ]
  },
  {
   "cell_type": "code",
   "execution_count": null,
   "metadata": {
    "ExecuteTime": {
     "end_time": "2021-05-13T03:18:31.858057Z",
     "start_time": "2021-05-13T03:18:08.690248Z"
    }
   },
   "outputs": [],
   "source": [
    "for epoch in np.arange(n_epochs):\n",
    "    # TRAINING LOOP \n",
    "    running_loss = 0\n",
    "    \n",
    "    joint_embedding.train()\n",
    "    \n",
    "    train_acc_vector = np.zeros(int(train_adata.n_obs / batch_size))\n",
    "    \n",
    "    # y_true are the drug numerical labels\n",
    "    for ix, (cell_batch, y_true) in tqdm.tqdm(enumerate(train_loader)):\n",
    "\n",
    "        joint_embedding.zero_grad()\n",
    "        \n",
    "        # Make batch of molecular graphs\n",
    "        molecule_batch = Batch.from_data_list(get_drug_batch(y_true))\n",
    "    \n",
    "        # Get cosine similarities\n",
    "        logits = joint_embedding(\n",
    "            molecule_batch,\n",
    "            cell_batch.view(batch_size, -1).float()\n",
    "        )\n",
    "        \n",
    "        # Get classification predictions across axes \n",
    "        # returns tensor of shape (mols, cells)\n",
    "        y_pred_mols = F.log_softmax(logits, dim = 1)\n",
    "        y_pred_cells = F.log_softmax(logits, dim = 0)\n",
    "        \n",
    "        # Compute error and average\n",
    "        loss_mols = criterion(y_pred_mols, ordering_labels)\n",
    "        loss_cells = criterion(y_pred_cells, ordering_labels)\n",
    "        \n",
    "        loss = (loss_mols + loss_cells)/2\n",
    "        \n",
    "        # Backprop and update weights\n",
    "        loss.backward()\n",
    "        optimizer.step()\n",
    "        \n",
    "        running_loss += loss.item()\n",
    "        \n",
    "        cell_acc = mu.accuracy(y_pred_cells.argmax(axis = 1), ordering_labels)\n",
    "        mol_acc = mu.accuracy(y_pred_mols.argmax(axis =1), ordering_labels)\n",
    "\n",
    "        train_acc = (cell_acc + mol_acc)/ 2\n",
    "        train_acc_vector[ix]= train_acc\n",
    "        \n",
    "        \n",
    "        if ix % print_every == print_every -1 :\n",
    "\n",
    "            # Print average loss\n",
    "            print('[%d, %5d] Loss: %.3f' %\n",
    "                  (epoch + 1, ix+1, running_loss / print_every))\n",
    "\n",
    "            train_loss_vector.append(running_loss / print_every)\n",
    "\n",
    "            # Reinitialize loss\n",
    "            running_loss = 0.0\n",
    "    \n",
    "    \n",
    "    mean_acc = np.mean(train_acc_vector)\n",
    "    print('Mean training accuracy : %.3f'%(mean_acc*100))\n",
    "    \n",
    "    # VALIDATION LOOP\n",
    "    with torch.no_grad():\n",
    "        validation_loss = []\n",
    "        \n",
    "        val_acc = np.zeros(int(test_adata.n_obs / batch_size))\n",
    "        val_top_acc = np.zeros(int(test_adata.n_obs / batch_size))\n",
    "        \n",
    "        for ix, (cell_batch, y_true) in tqdm.tqdm(enumerate(val_loader)):\n",
    "\n",
    "            # Make batch of molecular graphs\n",
    "            molecule_batch = Batch.from_data_list(get_drug_batch(y_true))\n",
    "\n",
    "            logits = joint_embedding(\n",
    "                molecule_batch,\n",
    "                cell_batch.view(batch_size, -1).float()\n",
    "            )\n",
    "            \n",
    "            # Get classification predictions across axes \n",
    "            # returns tensor of shape (mols, cells)\n",
    "            y_pred_mols = F.log_softmax(logits, dim = 1)\n",
    "            y_pred_cells = F.log_softmax(logits, dim = 0)\n",
    "            \n",
    "            cell_acc = mu.accuracy(y_pred_cells.argmax(axis = 1), ordering_labels)\n",
    "            mol_acc = mu.accuracy(y_pred_mols.argmax(axis =1), ordering_labels)\n",
    "            \n",
    "            validation_acc = (cell_acc + mol_acc)/ 2\n",
    "            val_acc[ix]= validation_acc\n",
    "            \n",
    "            loss_mols = criterion(y_pred_mols, ordering_labels)\n",
    "            loss_cells = criterion(y_pred_cells, ordering_labels)\n",
    "            \n",
    "            val_loss = (loss_cells + loss_mols)/2\n",
    "            \n",
    "            validation_loss.append(val_loss)\n",
    "            \n",
    "        mean_val_loss = torch.tensor(validation_loss).mean().item()\n",
    "        print('Val. loss %.3f'% mean_val_loss)\n",
    "        \n",
    "        # Record the epoch's mean validation loss\n",
    "        val_loss_vector[epoch] = mean_val_loss\n",
    "        \n",
    "        mean_acc = np.mean(val_acc)\n",
    "        print('Val. accuracy : %.3f'%(mean_acc*100))"
   ]
  },
  {
   "cell_type": "markdown",
   "metadata": {},
   "source": [
    "Save model. "
   ]
  },
  {
   "cell_type": "code",
   "execution_count": null,
   "metadata": {
    "ExecuteTime": {
     "end_time": "2021-03-19T07:38:22.224162Z",
     "start_time": "2021-03-19T07:38:22.101296Z"
    }
   },
   "outputs": [],
   "source": [
    "#torch.save(joint_embedding.state_dict(), path + 'models/joint_emb.pt')"
   ]
  },
  {
   "cell_type": "markdown",
   "metadata": {},
   "source": [
    "### Visualize molecules in the new embedding space"
   ]
  },
  {
   "cell_type": "code",
   "execution_count": null,
   "metadata": {
    "ExecuteTime": {
     "end_time": "2021-03-19T07:39:37.428975Z",
     "start_time": "2021-03-19T07:39:37.309382Z"
    }
   },
   "outputs": [],
   "source": [
    "#drugs_oob.shape\n",
    "df_drugs.head(2)"
   ]
  },
  {
   "cell_type": "code",
   "execution_count": null,
   "metadata": {
    "ExecuteTime": {
     "end_time": "2021-03-19T07:41:06.321186Z",
     "start_time": "2021-03-19T07:41:05.936381Z"
    }
   },
   "outputs": [],
   "source": [
    "all_data = [cs.mol2tensors(m) for m in tqdm.tqdm(df_drugs.mol.values)]\n",
    "proj_loader = geom_dataloader(all_data, batch_size = 32, shuffle = False, drop_last = False)"
   ]
  },
  {
   "cell_type": "code",
   "execution_count": null,
   "metadata": {
    "ExecuteTime": {
     "end_time": "2021-03-19T07:41:13.969137Z",
     "start_time": "2021-03-19T07:41:13.857075Z"
    }
   },
   "outputs": [],
   "source": [
    "type(proj_loader)"
   ]
  },
  {
   "cell_type": "code",
   "execution_count": null,
   "metadata": {
    "ExecuteTime": {
     "end_time": "2021-03-19T07:41:16.087947Z",
     "start_time": "2021-03-19T07:41:15.897940Z"
    }
   },
   "outputs": [],
   "source": [
    "# Make projection to second to last layer\n",
    "with torch.no_grad():\n",
    "    joint_embedding.eval()\n",
    "    projection_arr = np.array(\n",
    "        list(\n",
    "            joint_embedding.molecule_encoder.project_to_latent_space(\n",
    "                proj_loader, dims_conv[0], dims_linear[-2]\n",
    "            )\n",
    "        )\n",
    "    )"
   ]
  },
  {
   "cell_type": "code",
   "execution_count": null,
   "metadata": {
    "ExecuteTime": {
     "end_time": "2021-03-19T07:41:22.215272Z",
     "start_time": "2021-03-19T07:41:22.089153Z"
    }
   },
   "outputs": [],
   "source": [
    "df_proj = pd.DataFrame(\n",
    "    projection_arr, columns = ['dim_' + str(i) for i in range(1, dims_linear[-2] +1)]\n",
    ")\n",
    "\n",
    "df_viz = pd.concat(\n",
    "    [df_drugs, df_proj.set_index(df_drugs.index)], axis = 1\n",
    ")"
   ]
  },
  {
   "cell_type": "code",
   "execution_count": null,
   "metadata": {
    "ExecuteTime": {
     "end_time": "2021-03-19T07:41:45.509784Z",
     "start_time": "2021-03-19T07:41:45.385980Z"
    }
   },
   "outputs": [],
   "source": [
    "df_viz.head(2)"
   ]
  },
  {
   "cell_type": "code",
   "execution_count": null,
   "metadata": {},
   "outputs": [],
   "source": [
    "from sklearn.decomposition import PCA \n",
    "\n",
    "pca_obj = PCA()\n",
    "\n",
    "pca_obj.fit(projection_arr)"
   ]
  },
  {
   "cell_type": "code",
   "execution_count": null,
   "metadata": {},
   "outputs": [],
   "source": [
    "var_ratio = np.cumsum(pca_obj.explained_variance_ratio_)\n",
    "\n",
    "plt.plot(var_ratio)\n",
    "plt.xlabel('number of components')\n",
    "plt.ylabel('fraction of explained variance')"
   ]
  },
  {
   "cell_type": "code",
   "execution_count": null,
   "metadata": {},
   "outputs": [],
   "source": [
    "pcs = PCA(2).fit_transform(projection_arr)"
   ]
  },
  {
   "cell_type": "code",
   "execution_count": null,
   "metadata": {},
   "outputs": [],
   "source": [
    "df_viz['pc1'], df_viz['pc2'] = pcs.T"
   ]
  },
  {
   "cell_type": "code",
   "execution_count": null,
   "metadata": {},
   "outputs": [],
   "source": [
    "df_viz.hvplot.scatter(\n",
    "    x = 'pc1', \n",
    "    y = 'pc2',\n",
    "    #y = ['dim_2', 'dim_3'],\n",
    "    c= 'drug_class',\n",
    "    hover_cols = ['name'],\n",
    "    #subplots = True,\n",
    "    width = 700,\n",
    "    height = 480, \n",
    "    size = 60, \n",
    "    alpha =.9\n",
    ")"
   ]
  },
  {
   "cell_type": "code",
   "execution_count": null,
   "metadata": {},
   "outputs": [],
   "source": [
    "df_viz.hvplot.scatter(\n",
    "    x = 'dim_1', \n",
    "    y = 'dim_64',\n",
    "    #y = ['dim_2', 'dim_3'],\n",
    "    c= 'drug_class',\n",
    "    hover_cols = ['name'],\n",
    "    #subplots = True,\n",
    "    width = 700,\n",
    "    height = 480, \n",
    "    size = 60, \n",
    "    alpha =.9\n",
    ")"
   ]
  },
  {
   "cell_type": "markdown",
   "metadata": {},
   "source": [
    "### Nearest neighbor search"
   ]
  },
  {
   "cell_type": "markdown",
   "metadata": {},
   "source": [
    "We can compare the chemical only embedding, with the joint embedding by nearest neighbor search : the idea is the nearest neighbors should be different in both embeddings if the change in the encoders is substantial. "
   ]
  },
  {
   "cell_type": "code",
   "execution_count": null,
   "metadata": {
    "ExecuteTime": {
     "end_time": "2021-03-19T07:43:26.929913Z",
     "start_time": "2021-03-19T07:43:26.758268Z"
    }
   },
   "outputs": [],
   "source": [
    "from sklearn.neighbors import NearestNeighbors\n",
    "\n",
    "knn = NearestNeighbors(n_neighbors = 10).fit(projection_arr)"
   ]
  },
  {
   "cell_type": "code",
   "execution_count": null,
   "metadata": {},
   "outputs": [],
   "source": [
    "%%time\n",
    "neighbors = knn.kneighbors()"
   ]
  },
  {
   "cell_type": "code",
   "execution_count": null,
   "metadata": {
    "ExecuteTime": {
     "end_time": "2021-03-19T07:43:35.036146Z",
     "start_time": "2021-03-19T07:43:34.931703Z"
    }
   },
   "outputs": [],
   "source": [
    "neighbor_ixs = neighbors[1]"
   ]
  },
  {
   "cell_type": "code",
   "execution_count": null,
   "metadata": {
    "ExecuteTime": {
     "end_time": "2021-03-19T07:45:48.048003Z",
     "start_time": "2021-03-19T07:45:47.919653Z"
    }
   },
   "outputs": [],
   "source": [
    "df_viz.reset_index(drop=True, inplace=True)"
   ]
  },
  {
   "cell_type": "code",
   "execution_count": null,
   "metadata": {
    "ExecuteTime": {
     "end_time": "2021-03-19T07:45:50.089131Z",
     "start_time": "2021-03-19T07:45:49.995465Z"
    }
   },
   "outputs": [],
   "source": [
    "def get_neighbors(df, sample_name, sort = True):\n",
    "    \"Returns a dataframe with nearest neighbor information sorted by subclass.\"\n",
    "    ix_query = df[df['name'] == sample_name].index[0]\n",
    "    ix_neighbors = neighbor_ixs[ix_query]\n",
    "    if sort:\n",
    "        return df.iloc[ix_neighbors].sort_values(by = 'subclass')\n",
    "    else: \n",
    "        return df.iloc[ix_neighbors]"
   ]
  },
  {
   "cell_type": "code",
   "execution_count": null,
   "metadata": {
    "ExecuteTime": {
     "end_time": "2021-03-19T07:46:27.580430Z",
     "start_time": "2021-03-19T07:46:27.450771Z"
    }
   },
   "outputs": [],
   "source": [
    "get_neighbors(df_viz, 'Dasatinib', sort = False)"
   ]
  },
  {
   "cell_type": "code",
   "execution_count": null,
   "metadata": {
    "ExecuteTime": {
     "end_time": "2021-03-19T07:46:57.866981Z",
     "start_time": "2021-03-19T07:46:57.736591Z"
    }
   },
   "outputs": [],
   "source": [
    "get_neighbors(df_viz, 'Nilotinib', sort = False)"
   ]
  },
  {
   "cell_type": "code",
   "execution_count": null,
   "metadata": {
    "ExecuteTime": {
     "end_time": "2021-03-19T07:47:35.292284Z",
     "start_time": "2021-03-19T07:47:35.166742Z"
    }
   },
   "outputs": [],
   "source": [
    "get_neighbors(df_viz, 'Vorinostat', sort = False)"
   ]
  },
  {
   "cell_type": "markdown",
   "metadata": {},
   "source": [
    "### Save embeddings"
   ]
  },
  {
   "cell_type": "code",
   "execution_count": null,
   "metadata": {},
   "outputs": [],
   "source": [
    "#df_viz.to_csv(path + 'joint_emb.csv', index = False)"
   ]
  },
  {
   "cell_type": "markdown",
   "metadata": {},
   "source": [
    "### Reproducibility"
   ]
  },
  {
   "cell_type": "code",
   "execution_count": null,
   "metadata": {},
   "outputs": [],
   "source": [
    "%load_ext watermark\n",
    "%watermark -m -v -p numpy,torch,anndata,sklearn,holoviews,hvplot,matplotlib,rdkit"
   ]
  }
 ],
 "metadata": {
  "kernelspec": {
   "display_name": "Python [conda env:boltzmann] *",
   "language": "python",
   "name": "conda-env-boltzmann-py"
  },
  "language_info": {
   "codemirror_mode": {
    "name": "ipython",
    "version": 3
   },
   "file_extension": ".py",
   "mimetype": "text/x-python",
   "name": "python",
   "nbconvert_exporter": "python",
   "pygments_lexer": "ipython3",
   "version": "3.7.9"
  },
  "toc": {
   "base_numbering": 1,
   "nav_menu": {},
   "number_sections": true,
   "sideBar": true,
   "skip_h1_title": false,
   "title_cell": "Table of Contents",
   "title_sidebar": "Contents",
   "toc_cell": false,
   "toc_position": {},
   "toc_section_display": true,
   "toc_window_display": false
  },
  "varInspector": {
   "cols": {
    "lenName": 16,
    "lenType": 16,
    "lenVar": 40
   },
   "kernels_config": {
    "python": {
     "delete_cmd_postfix": "",
     "delete_cmd_prefix": "del ",
     "library": "var_list.py",
     "varRefreshCmd": "print(var_dic_list())"
    },
    "r": {
     "delete_cmd_postfix": ") ",
     "delete_cmd_prefix": "rm(",
     "library": "var_list.r",
     "varRefreshCmd": "cat(var_dic_list()) "
    }
   },
   "types_to_exclude": [
    "module",
    "function",
    "builtin_function_or_method",
    "instance",
    "_Feature"
   ],
   "window_display": false
  }
 },
 "nbformat": 4,
 "nbformat_minor": 4
}
